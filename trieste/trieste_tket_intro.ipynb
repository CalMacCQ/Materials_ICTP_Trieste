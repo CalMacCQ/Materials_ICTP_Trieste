{
 "cells": [
  {
   "cell_type": "code",
   "execution_count": 1,
   "id": "47820b33-be27-44fc-9ed7-8813c8fc69d4",
   "metadata": {
    "tags": []
   },
   "outputs": [],
   "source": [
    "import warnings\n",
    "\n",
    "warnings.filterwarnings('ignore')"
   ]
  },
  {
   "cell_type": "markdown",
   "id": "8d51aec4-75d6-4ec9-9ccf-c02f8064c980",
   "metadata": {
    "slideshow": {
     "slide_type": "slide"
    }
   },
   "source": [
    "## Constructing Circuits \n",
    "\n",
    "In this section we will explore building quantum circuits in pytket with the `Circuit` class and introduce some useful circuit primitives."
   ]
  },
  {
   "cell_type": "markdown",
   "id": "f5be8c5e",
   "metadata": {
    "slideshow": {
     "slide_type": "subslide"
    }
   },
   "source": [
    "### Basic Bell circuit\n",
    "\n",
    "In pytket we can create an instance of the `Circuit` class and add gates sequentially. We can prepare an entangled Bell state using a Hadamard and a CX gate\n",
    "\n",
    "$$\n",
    "\\begin{equation}\n",
    "\\text{H} = \\frac{1}{\\sqrt{2}}\n",
    "\\begin{pmatrix}\n",
    "1 & 1 \\\\\n",
    "1 & -1\n",
    "\\end{pmatrix}\\,, \n",
    "\\quad\n",
    "\\text{CX} = \n",
    "\\begin{pmatrix}\n",
    "1 & 0 & 0 & 0 \\\\\n",
    "0 & 1 & 0 & 0 \\\\\n",
    "0 & 0 & 0 & 1 \\\\\n",
    "0 & 0 & 1 & 0\n",
    "\\end{pmatrix}\n",
    "\\end{equation}\n",
    "$$"
   ]
  },
  {
   "cell_type": "code",
   "execution_count": 2,
   "id": "e01b7af9-915e-42ba-ba02-9a4cee82a7c9",
   "metadata": {
    "slideshow": {
     "slide_type": "fragment"
    },
    "tags": []
   },
   "outputs": [
    {
     "data": {
      "text/html": [
       "\n",
       "\n",
       "\n",
       "\n",
       "\n",
       "\n",
       "<iframe srcdoc=\"\n",
       "&lt;!DOCTYPE html&gt;\n",
       "&lt;html lang=&#34;en&#34;&gt;\n",
       "&lt;head&gt;\n",
       "    &lt;meta charset=&#34;UTF-8&#34;&gt;\n",
       "    &lt;!-- Download Vue 3--&gt;\n",
       "&lt;script type=&#34;application/javascript&#34; src=&#34;https://cdn.jsdelivr.net/npm/vue@3&#34;&gt;&lt;/script&gt;\n",
       "&lt;!-- Download Circuit Renderer with styles --&gt;\n",
       "&lt;script type=&#34;application/javascript&#34; src=&#34;https://unpkg.com/pytket-circuit-renderer@0.5/dist/pytket-circuit-renderer.umd.js&#34;&gt;&lt;/script&gt;\n",
       "&lt;link rel=&#34;stylesheet&#34; href=&#34;https://unpkg.com/pytket-circuit-renderer@0.5/dist/pytket-circuit-renderer.css&#34;&gt;\n",
       "&lt;/head&gt;\n",
       "&lt;body&gt;\n",
       "    &lt;div id=&#34;circuit-display-vue-container-7f2f7555-c404-4b68-9e0d-8f05e5276b9c&#34; class=&#34;pytket-circuit-display-container&#34;&gt;\n",
       "        &lt;div style=&#34;display: none&#34;&gt;\n",
       "            &lt;div id=&#34;circuit-json-to-display&#34;&gt;{&#34;bits&#34;: [], &#34;commands&#34;: [{&#34;args&#34;: [[&#34;q&#34;, [0]]], &#34;op&#34;: {&#34;type&#34;: &#34;H&#34;}}, {&#34;args&#34;: [[&#34;q&#34;, [0]], [&#34;q&#34;, [1]]], &#34;op&#34;: {&#34;type&#34;: &#34;CX&#34;}}], &#34;created_qubits&#34;: [], &#34;discarded_qubits&#34;: [], &#34;implicit_permutation&#34;: [[[&#34;q&#34;, [0]], [&#34;q&#34;, [0]]], [[&#34;q&#34;, [1]], [&#34;q&#34;, [1]]]], &#34;name&#34;: &#34;Bell&#34;, &#34;phase&#34;: &#34;0.0&#34;, &#34;qubits&#34;: [[&#34;q&#34;, [0]], [&#34;q&#34;, [1]]]}&lt;/div&gt;\n",
       "        &lt;/div&gt;\n",
       "        &lt;circuit-display-container :circuit-element-str=&#34;&#39;#circuit-json-to-display&#39;&#34;&gt;&lt;/circuit-display-container&gt;\n",
       "    &lt;/div&gt;\n",
       "    &lt;script type=&#34;application/javascript&#34;&gt;\n",
       "      const circuitRendererUid = &#34;7f2f7555-c404-4b68-9e0d-8f05e5276b9c&#34;;\n",
       "\n",
       "      // Script to initialise the circuit renderer app\n",
       "\n",
       "const { createApp } = Vue;\n",
       "const circuitDisplayContainer = window[&#34;pytket-circuit-renderer&#34;].default;\n",
       "// Init variables to be shared between circuit display instances\n",
       "if (typeof window.pytketCircuitDisplays === &#34;undefined&#34;) {\n",
       "    window.pytketCircuitDisplays = {};\n",
       "}\n",
       "// Create the root Vue component\n",
       "const app = createApp({\n",
       "    delimiters: [&#39;[[#&#39;, &#39;#]]&#39;],\n",
       "    components: { circuitDisplayContainer },\n",
       "})\n",
       "app.config.unwrapInjectedRef = true;\n",
       "app.mount(&#34;#circuit-display-vue-container-&#34;+circuitRendererUid);\n",
       "window.pytketCircuitDisplays[circuitRendererUid] = app;\n",
       "    &lt;/script&gt;\n",
       "&lt;/body&gt;\n",
       "&lt;/html&gt;\n",
       "\"\n",
       "        width=\"100%\" height=\"200px\"\n",
       "        style=\"border: none; outline: none; resize: vertical; overflow: auto\"></iframe>\n",
       "\n"
      ],
      "text/plain": [
       "<IPython.core.display.HTML object>"
      ]
     },
     "metadata": {},
     "output_type": "display_data"
    }
   ],
   "source": [
    "from pytket import Circuit\n",
    "from pytket.circuit.display import render_circuit_jupyter\n",
    "\n",
    "bell_circ = Circuit(2, name=\"Bell\")\n",
    "bell_circ.H(0)\n",
    "bell_circ.CX(0, 1)\n",
    "render_circuit_jupyter(bell_circ)"
   ]
  },
  {
   "cell_type": "code",
   "execution_count": 3,
   "id": "c5a1ffde-45dc-412f-ab32-967a36d6b9bb",
   "metadata": {
    "slideshow": {
     "slide_type": "subslide"
    },
    "tags": []
   },
   "outputs": [
    {
     "name": "stdout",
     "output_type": "stream",
     "text": [
      "Statevector = [0.70710678+0.j 0.        +0.j 0.        +0.j 0.70710678+0.j]\n"
     ]
    }
   ],
   "source": [
    "from pytket.extensions.qiskit import AerStateBackend\n",
    "\n",
    "sv_backend = AerStateBackend()\n",
    "result_state = sv_backend.run_circuit(bell_circ).get_state()\n",
    "print(\"Statevector =\", result_state)"
   ]
  },
  {
   "cell_type": "markdown",
   "id": "7d4d8693-dee9-4b83-89d2-7b2cc911ec43",
   "metadata": {},
   "source": [
    "Compare with the equation below...\n",
    "\n",
    "\n",
    "$$\n",
    "\\begin{equation}\n",
    "|\\psi \\rangle = \\frac{1}{\\sqrt{2}} \\big(|00 \\rangle + | 11 \\rangle  \\big)\\,, \\qquad \\frac{1}{\\sqrt{2}} \\approx 0.707...\n",
    "\\end{equation}\n",
    "$$"
   ]
  },
  {
   "cell_type": "code",
   "execution_count": 4,
   "id": "fba80efc-7555-48e2-9a2b-d85983ee7088",
   "metadata": {
    "slideshow": {
     "slide_type": "subslide"
    },
    "tags": []
   },
   "outputs": [
    {
     "data": {
      "text/html": [
       "\n",
       "\n",
       "\n",
       "\n",
       "\n",
       "\n",
       "<iframe srcdoc=\"\n",
       "&lt;!DOCTYPE html&gt;\n",
       "&lt;html lang=&#34;en&#34;&gt;\n",
       "&lt;head&gt;\n",
       "    &lt;meta charset=&#34;UTF-8&#34;&gt;\n",
       "    &lt;!-- Download Vue 3--&gt;\n",
       "&lt;script type=&#34;application/javascript&#34; src=&#34;https://cdn.jsdelivr.net/npm/vue@3&#34;&gt;&lt;/script&gt;\n",
       "&lt;!-- Download Circuit Renderer with styles --&gt;\n",
       "&lt;script type=&#34;application/javascript&#34; src=&#34;https://unpkg.com/pytket-circuit-renderer@0.5/dist/pytket-circuit-renderer.umd.js&#34;&gt;&lt;/script&gt;\n",
       "&lt;link rel=&#34;stylesheet&#34; href=&#34;https://unpkg.com/pytket-circuit-renderer@0.5/dist/pytket-circuit-renderer.css&#34;&gt;\n",
       "&lt;/head&gt;\n",
       "&lt;body&gt;\n",
       "    &lt;div id=&#34;circuit-display-vue-container-75fe03a1-14f6-4c24-85d2-f03fc7aebe8a&#34; class=&#34;pytket-circuit-display-container&#34;&gt;\n",
       "        &lt;div style=&#34;display: none&#34;&gt;\n",
       "            &lt;div id=&#34;circuit-json-to-display&#34;&gt;{&#34;bits&#34;: [[&#34;c&#34;, [0]], [&#34;c&#34;, [1]]], &#34;commands&#34;: [{&#34;args&#34;: [[&#34;q&#34;, [0]]], &#34;op&#34;: {&#34;type&#34;: &#34;H&#34;}}, {&#34;args&#34;: [[&#34;q&#34;, [0]], [&#34;q&#34;, [1]]], &#34;op&#34;: {&#34;type&#34;: &#34;CX&#34;}}, {&#34;args&#34;: [[&#34;q&#34;, [0]], [&#34;c&#34;, [0]]], &#34;op&#34;: {&#34;type&#34;: &#34;Measure&#34;}}, {&#34;args&#34;: [[&#34;q&#34;, [1]], [&#34;c&#34;, [1]]], &#34;op&#34;: {&#34;type&#34;: &#34;Measure&#34;}}], &#34;created_qubits&#34;: [], &#34;discarded_qubits&#34;: [], &#34;implicit_permutation&#34;: [[[&#34;q&#34;, [0]], [&#34;q&#34;, [0]]], [[&#34;q&#34;, [1]], [&#34;q&#34;, [1]]]], &#34;name&#34;: &#34;Bell&#34;, &#34;phase&#34;: &#34;0.0&#34;, &#34;qubits&#34;: [[&#34;q&#34;, [0]], [&#34;q&#34;, [1]]]}&lt;/div&gt;\n",
       "        &lt;/div&gt;\n",
       "        &lt;circuit-display-container :circuit-element-str=&#34;&#39;#circuit-json-to-display&#39;&#34;&gt;&lt;/circuit-display-container&gt;\n",
       "    &lt;/div&gt;\n",
       "    &lt;script type=&#34;application/javascript&#34;&gt;\n",
       "      const circuitRendererUid = &#34;75fe03a1-14f6-4c24-85d2-f03fc7aebe8a&#34;;\n",
       "\n",
       "      // Script to initialise the circuit renderer app\n",
       "\n",
       "const { createApp } = Vue;\n",
       "const circuitDisplayContainer = window[&#34;pytket-circuit-renderer&#34;].default;\n",
       "// Init variables to be shared between circuit display instances\n",
       "if (typeof window.pytketCircuitDisplays === &#34;undefined&#34;) {\n",
       "    window.pytketCircuitDisplays = {};\n",
       "}\n",
       "// Create the root Vue component\n",
       "const app = createApp({\n",
       "    delimiters: [&#39;[[#&#39;, &#39;#]]&#39;],\n",
       "    components: { circuitDisplayContainer },\n",
       "})\n",
       "app.config.unwrapInjectedRef = true;\n",
       "app.mount(&#34;#circuit-display-vue-container-&#34;+circuitRendererUid);\n",
       "window.pytketCircuitDisplays[circuitRendererUid] = app;\n",
       "    &lt;/script&gt;\n",
       "&lt;/body&gt;\n",
       "&lt;/html&gt;\n",
       "\"\n",
       "        width=\"100%\" height=\"200px\"\n",
       "        style=\"border: none; outline: none; resize: vertical; overflow: auto\"></iframe>\n",
       "\n"
      ],
      "text/plain": [
       "<IPython.core.display.HTML object>"
      ]
     },
     "metadata": {},
     "output_type": "display_data"
    },
    {
     "name": "stdout",
     "output_type": "stream",
     "text": [
      "Counter({(0, 0): 504, (1, 1): 496})\n"
     ]
    }
   ],
   "source": [
    "from pytket.extensions.qiskit import AerBackend\n",
    "\n",
    "bell_circ.measure_all()\n",
    "render_circuit_jupyter(bell_circ)\n",
    "\n",
    "backend = AerBackend()\n",
    "result = backend.run_circuit(bell_circ, n_shots=1000)\n",
    "print(result.get_counts())"
   ]
  },
  {
   "cell_type": "code",
   "execution_count": 5,
   "id": "cc6ab7d4-7685-4212-a3ac-7c6ed22ce87e",
   "metadata": {
    "slideshow": {
     "slide_type": "skip"
    },
    "tags": []
   },
   "outputs": [
    {
     "data": {
      "image/png": "[encoded data removed]",
      "text/plain": [
       "<Figure size 640x480 with 1 Axes>"
      ]
     },
     "metadata": {},
     "output_type": "display_data"
    }
   ],
   "source": [
    "from plotting import plot_results\n",
    "\n",
    "plot_results(result)"
   ]
  },
  {
   "cell_type": "markdown",
   "id": "57e0afbc",
   "metadata": {
    "slideshow": {
     "slide_type": "subslide"
    }
   },
   "source": [
    "### Other Quantum Gates\n",
    "\n",
    "* Some gates need to be accessed through the `OpType` enum\n",
    "* Angles are specified as the number of half turns\n",
    "* See the docs for all OpTypes - https://cqcl.github.io/tket/pytket/api/optype.html"
   ]
  },
  {
   "cell_type": "code",
   "execution_count": 6,
   "id": "12c09a8a-9137-40da-b967-5ebbb4cf0100",
   "metadata": {
    "slideshow": {
     "slide_type": "fragment"
    },
    "tags": []
   },
   "outputs": [
    {
     "data": {
      "text/html": [
       "\n",
       "\n",
       "\n",
       "\n",
       "\n",
       "\n",
       "<iframe srcdoc=\"\n",
       "&lt;!DOCTYPE html&gt;\n",
       "&lt;html lang=&#34;en&#34;&gt;\n",
       "&lt;head&gt;\n",
       "    &lt;meta charset=&#34;UTF-8&#34;&gt;\n",
       "    &lt;!-- Download Vue 3--&gt;\n",
       "&lt;script type=&#34;application/javascript&#34; src=&#34;https://cdn.jsdelivr.net/npm/vue@3&#34;&gt;&lt;/script&gt;\n",
       "&lt;!-- Download Circuit Renderer with styles --&gt;\n",
       "&lt;script type=&#34;application/javascript&#34; src=&#34;https://unpkg.com/pytket-circuit-renderer@0.5/dist/pytket-circuit-renderer.umd.js&#34;&gt;&lt;/script&gt;\n",
       "&lt;link rel=&#34;stylesheet&#34; href=&#34;https://unpkg.com/pytket-circuit-renderer@0.5/dist/pytket-circuit-renderer.css&#34;&gt;\n",
       "&lt;/head&gt;\n",
       "&lt;body&gt;\n",
       "    &lt;div id=&#34;circuit-display-vue-container-256ec955-6f44-4285-8beb-f7884bdbbe01&#34; class=&#34;pytket-circuit-display-container&#34;&gt;\n",
       "        &lt;div style=&#34;display: none&#34;&gt;\n",
       "            &lt;div id=&#34;circuit-json-to-display&#34;&gt;{&#34;bits&#34;: [], &#34;commands&#34;: [{&#34;args&#34;: [[&#34;q&#34;, [0]]], &#34;op&#34;: {&#34;type&#34;: &#34;H&#34;}}, {&#34;args&#34;: [[&#34;q&#34;, [1]]], &#34;op&#34;: {&#34;type&#34;: &#34;H&#34;}}, {&#34;args&#34;: [[&#34;q&#34;, [2]]], &#34;op&#34;: {&#34;type&#34;: &#34;H&#34;}}, {&#34;args&#34;: [[&#34;q&#34;, [3]]], &#34;op&#34;: {&#34;type&#34;: &#34;H&#34;}}, {&#34;args&#34;: [[&#34;q&#34;, [1]]], &#34;op&#34;: {&#34;params&#34;: [&#34;0.25&#34;], &#34;type&#34;: &#34;Ry&#34;}}, {&#34;args&#34;: [[&#34;q&#34;, [2]], [&#34;q&#34;, [3]]], &#34;op&#34;: {&#34;params&#34;: [&#34;0.39&#34;], &#34;type&#34;: &#34;CRz&#34;}}, {&#34;args&#34;: [[&#34;q&#34;, [0]], [&#34;q&#34;, [1]], [&#34;q&#34;, [2]]], &#34;op&#34;: {&#34;type&#34;: &#34;CCX&#34;}}, {&#34;args&#34;: [[&#34;q&#34;, [0]], [&#34;q&#34;, [1]], [&#34;q&#34;, [2]], [&#34;q&#34;, [3]]], &#34;op&#34;: {&#34;n_qb&#34;: 4, &#34;params&#34;: [&#34;0.7&#34;], &#34;type&#34;: &#34;CnRy&#34;}}], &#34;created_qubits&#34;: [], &#34;discarded_qubits&#34;: [], &#34;implicit_permutation&#34;: [[[&#34;q&#34;, [0]], [&#34;q&#34;, [0]]], [[&#34;q&#34;, [1]], [&#34;q&#34;, [1]]], [[&#34;q&#34;, [2]], [&#34;q&#34;, [2]]], [[&#34;q&#34;, [3]], [&#34;q&#34;, [3]]]], &#34;phase&#34;: &#34;0.0&#34;, &#34;qubits&#34;: [[&#34;q&#34;, [0]], [&#34;q&#34;, [1]], [&#34;q&#34;, [2]], [&#34;q&#34;, [3]]]}&lt;/div&gt;\n",
       "        &lt;/div&gt;\n",
       "        &lt;circuit-display-container :circuit-element-str=&#34;&#39;#circuit-json-to-display&#39;&#34;&gt;&lt;/circuit-display-container&gt;\n",
       "    &lt;/div&gt;\n",
       "    &lt;script type=&#34;application/javascript&#34;&gt;\n",
       "      const circuitRendererUid = &#34;256ec955-6f44-4285-8beb-f7884bdbbe01&#34;;\n",
       "\n",
       "      // Script to initialise the circuit renderer app\n",
       "\n",
       "const { createApp } = Vue;\n",
       "const circuitDisplayContainer = window[&#34;pytket-circuit-renderer&#34;].default;\n",
       "// Init variables to be shared between circuit display instances\n",
       "if (typeof window.pytketCircuitDisplays === &#34;undefined&#34;) {\n",
       "    window.pytketCircuitDisplays = {};\n",
       "}\n",
       "// Create the root Vue component\n",
       "const app = createApp({\n",
       "    delimiters: [&#39;[[#&#39;, &#39;#]]&#39;],\n",
       "    components: { circuitDisplayContainer },\n",
       "})\n",
       "app.config.unwrapInjectedRef = true;\n",
       "app.mount(&#34;#circuit-display-vue-container-&#34;+circuitRendererUid);\n",
       "window.pytketCircuitDisplays[circuitRendererUid] = app;\n",
       "    &lt;/script&gt;\n",
       "&lt;/body&gt;\n",
       "&lt;/html&gt;\n",
       "\"\n",
       "        width=\"100%\" height=\"200px\"\n",
       "        style=\"border: none; outline: none; resize: vertical; overflow: auto\"></iframe>\n",
       "\n"
      ],
      "text/plain": [
       "<IPython.core.display.HTML object>"
      ]
     },
     "metadata": {},
     "output_type": "display_data"
    }
   ],
   "source": [
    "from pytket import OpType\n",
    "\n",
    "circ = Circuit(4) # create a 4 qubit circuit\n",
    "\n",
    "for qubit in range(circ.n_qubits): # Add a Hadamard to every qubit\n",
    "    circ.H(qubit)\n",
    "    \n",
    "circ.Ry(0.25, 1) # Ry gate, angle expressed as no. half turns\n",
    "\n",
    "circ.add_gate(OpType.CRz, [0.39], [2, 3]) # Controlled SXdg\n",
    "\n",
    "circ.add_gate(OpType.CCX, [0, 1, 2]) # Toffoli gate\n",
    "\n",
    "circ.add_gate(OpType.CnRy, [0.7], [0, 1, 2, 3]) # Multi-controlled Ry\n",
    "\n",
    "render_circuit_jupyter(circ)"
   ]
  },
  {
   "cell_type": "markdown",
   "id": "a05fa085-7e37-439b-b5df-37b0f1408d91",
   "metadata": {},
   "source": [
    "## An Interesting Circuit - The Quantum Fourier Transform\n",
    "\n",
    "As we've heard the Quantum Fourier Transform (QFT) is an important subroutine in several quantum algorithms including Shor's algorithm for factoring\n",
    "\n",
    "$$\n",
    "\\begin{equation}\n",
    "U_{\\text{QFT}} |j \\rangle = \\frac{1}{\\sqrt{N}}\\sum_{k=0}^{N-1} e^{2\\pi i j k/ N} |k \\rangle \\,, \\quad i^2 = -1 , \\, N=2^n\n",
    "\\end{equation}\n",
    "$$"
   ]
  },
  {
   "cell_type": "markdown",
   "id": "41b210e9-22bf-40f8-90d8-29ff8ee8a7b8",
   "metadata": {},
   "source": [
    "We can build the circuit for the $n$ qubit QFT using $n$ Hadamard gates $\\frac{n}{2}$ swap gates and $\\frac{n(n-1)}{2}$ controlled unitary rotations. \n",
    "\n",
    "$$\n",
    "\\begin{equation}\n",
    "\\text{CU1} = \n",
    "\\begin{pmatrix}\n",
    "I & 0 \\\\\n",
    "0 & \\text{U1}\n",
    "\\end{pmatrix}\n",
    "\\,, \\quad \n",
    "\\text{U1} = \n",
    "\\begin{pmatrix}\n",
    "1 & 0 \\\\\n",
    "0 & e^{i \\pi \\theta}\n",
    "\\end{pmatrix}\n",
    "\\end{equation}\n",
    "$$\n",
    "\n",
    "We will rotate by smaller and smaller angles of $\\theta = \\frac{1}{2^{n-1}}$ "
   ]
  },
  {
   "cell_type": "code",
   "execution_count": 7,
   "id": "491c8c71-99ac-4f6f-a510-93a38ab2a746",
   "metadata": {},
   "outputs": [
    {
     "data": {
      "text/html": [
       "\n",
       "\n",
       "\n",
       "\n",
       "\n",
       "\n",
       "<iframe srcdoc=\"\n",
       "&lt;!DOCTYPE html&gt;\n",
       "&lt;html lang=&#34;en&#34;&gt;\n",
       "&lt;head&gt;\n",
       "    &lt;meta charset=&#34;UTF-8&#34;&gt;\n",
       "    &lt;!-- Download Vue 3--&gt;\n",
       "&lt;script type=&#34;application/javascript&#34; src=&#34;https://cdn.jsdelivr.net/npm/vue@3&#34;&gt;&lt;/script&gt;\n",
       "&lt;!-- Download Circuit Renderer with styles --&gt;\n",
       "&lt;script type=&#34;application/javascript&#34; src=&#34;https://unpkg.com/pytket-circuit-renderer@0.5/dist/pytket-circuit-renderer.umd.js&#34;&gt;&lt;/script&gt;\n",
       "&lt;link rel=&#34;stylesheet&#34; href=&#34;https://unpkg.com/pytket-circuit-renderer@0.5/dist/pytket-circuit-renderer.css&#34;&gt;\n",
       "&lt;/head&gt;\n",
       "&lt;body&gt;\n",
       "    &lt;div id=&#34;circuit-display-vue-container-a1baad84-7b74-4fc0-b2b6-db7a57479ea7&#34; class=&#34;pytket-circuit-display-container&#34;&gt;\n",
       "        &lt;div style=&#34;display: none&#34;&gt;\n",
       "            &lt;div id=&#34;circuit-json-to-display&#34;&gt;{&#34;bits&#34;: [], &#34;commands&#34;: [{&#34;args&#34;: [[&#34;q&#34;, [0]]], &#34;op&#34;: {&#34;type&#34;: &#34;H&#34;}}, {&#34;args&#34;: [[&#34;q&#34;, [1]], [&#34;q&#34;, [0]]], &#34;op&#34;: {&#34;params&#34;: [&#34;0.5&#34;], &#34;type&#34;: &#34;CU1&#34;}}, {&#34;args&#34;: [[&#34;q&#34;, [2]], [&#34;q&#34;, [0]]], &#34;op&#34;: {&#34;params&#34;: [&#34;0.25&#34;], &#34;type&#34;: &#34;CU1&#34;}}, {&#34;args&#34;: [[&#34;q&#34;, [1]]], &#34;op&#34;: {&#34;type&#34;: &#34;H&#34;}}, {&#34;args&#34;: [[&#34;q&#34;, [2]], [&#34;q&#34;, [1]]], &#34;op&#34;: {&#34;params&#34;: [&#34;0.5&#34;], &#34;type&#34;: &#34;CU1&#34;}}, {&#34;args&#34;: [[&#34;q&#34;, [2]]], &#34;op&#34;: {&#34;type&#34;: &#34;H&#34;}}, {&#34;args&#34;: [[&#34;q&#34;, [0]], [&#34;q&#34;, [2]]], &#34;op&#34;: {&#34;type&#34;: &#34;SWAP&#34;}}], &#34;created_qubits&#34;: [], &#34;discarded_qubits&#34;: [], &#34;implicit_permutation&#34;: [[[&#34;q&#34;, [0]], [&#34;q&#34;, [0]]], [[&#34;q&#34;, [1]], [&#34;q&#34;, [1]]], [[&#34;q&#34;, [2]], [&#34;q&#34;, [2]]]], &#34;phase&#34;: &#34;0.0&#34;, &#34;qubits&#34;: [[&#34;q&#34;, [0]], [&#34;q&#34;, [1]], [&#34;q&#34;, [2]]]}&lt;/div&gt;\n",
       "        &lt;/div&gt;\n",
       "        &lt;circuit-display-container :circuit-element-str=&#34;&#39;#circuit-json-to-display&#39;&#34;&gt;&lt;/circuit-display-container&gt;\n",
       "    &lt;/div&gt;\n",
       "    &lt;script type=&#34;application/javascript&#34;&gt;\n",
       "      const circuitRendererUid = &#34;a1baad84-7b74-4fc0-b2b6-db7a57479ea7&#34;;\n",
       "\n",
       "      // Script to initialise the circuit renderer app\n",
       "\n",
       "const { createApp } = Vue;\n",
       "const circuitDisplayContainer = window[&#34;pytket-circuit-renderer&#34;].default;\n",
       "// Init variables to be shared between circuit display instances\n",
       "if (typeof window.pytketCircuitDisplays === &#34;undefined&#34;) {\n",
       "    window.pytketCircuitDisplays = {};\n",
       "}\n",
       "// Create the root Vue component\n",
       "const app = createApp({\n",
       "    delimiters: [&#39;[[#&#39;, &#39;#]]&#39;],\n",
       "    components: { circuitDisplayContainer },\n",
       "})\n",
       "app.config.unwrapInjectedRef = true;\n",
       "app.mount(&#34;#circuit-display-vue-container-&#34;+circuitRendererUid);\n",
       "window.pytketCircuitDisplays[circuitRendererUid] = app;\n",
       "    &lt;/script&gt;\n",
       "&lt;/body&gt;\n",
       "&lt;/html&gt;\n",
       "\"\n",
       "        width=\"100%\" height=\"200px\"\n",
       "        style=\"border: none; outline: none; resize: vertical; overflow: auto\"></iframe>\n",
       "\n"
      ],
      "text/plain": [
       "<IPython.core.display.HTML object>"
      ]
     },
     "metadata": {},
     "output_type": "display_data"
    }
   ],
   "source": [
    "# lets build the QFT for three qubits\n",
    "qft_circ = Circuit(3)\n",
    "\n",
    "qft_circ.H(0)\n",
    "qft_circ.add_gate(OpType.CU1 , [0.5], [1, 0])\n",
    "qft_circ.add_gate(OpType.CU1 , [0.25], [2, 0])\n",
    "\n",
    "qft_circ.H(1)\n",
    "qft_circ.add_gate(OpType.CU1 , [0.5], [2, 1])\n",
    "\n",
    "qft_circ.H(2)\n",
    "\n",
    "qft_circ.SWAP(0, 2)\n",
    "\n",
    "render_circuit_jupyter(qft_circ)"
   ]
  },
  {
   "cell_type": "markdown",
   "id": "0cb082f3-b4c0-4f66-829c-aa14f50b79bb",
   "metadata": {},
   "source": [
    "The $n$ qubit QFT can be impelemented as follows"
   ]
  },
  {
   "cell_type": "code",
   "execution_count": 8,
   "id": "fc3043e8-06dc-4df5-8c1c-eff5d6e81357",
   "metadata": {
    "tags": []
   },
   "outputs": [],
   "source": [
    "def build_qft_circuit(n_qubits: int) -> Circuit:\n",
    "    circ = Circuit(n_qubits, name=\"QFT\")\n",
    "    q_counter = 0\n",
    "    for j in range(n_qubits):\n",
    "        circ.H(j)\n",
    "        q_counter += 1\n",
    "        for k in range(n_qubits - q_counter):\n",
    "            circ.add_gate(OpType.CU1, 0.5 ** (k + 1), [k + q_counter, q_counter - 1])\n",
    "        \n",
    "        circ.add_barrier(list(range(n_qubits))) # barrier prevents gate reordering\n",
    "\n",
    "    # Add swaps to the end of the qft circuit - makes the unitary nicer\n",
    "    for i in range(0, n_qubits // 2):\n",
    "        circ.SWAP(i, n_qubits - i - 1)\n",
    "\n",
    "    return circ"
   ]
  },
  {
   "cell_type": "code",
   "execution_count": 9,
   "id": "8d1e7d55-f57e-4a1a-8441-1afb673c869f",
   "metadata": {
    "tags": []
   },
   "outputs": [
    {
     "data": {
      "text/html": [
       "\n",
       "\n",
       "\n",
       "\n",
       "\n",
       "\n",
       "<iframe srcdoc=\"\n",
       "&lt;!DOCTYPE html&gt;\n",
       "&lt;html lang=&#34;en&#34;&gt;\n",
       "&lt;head&gt;\n",
       "    &lt;meta charset=&#34;UTF-8&#34;&gt;\n",
       "    &lt;!-- Download Vue 3--&gt;\n",
       "&lt;script type=&#34;application/javascript&#34; src=&#34;https://cdn.jsdelivr.net/npm/vue@3&#34;&gt;&lt;/script&gt;\n",
       "&lt;!-- Download Circuit Renderer with styles --&gt;\n",
       "&lt;script type=&#34;application/javascript&#34; src=&#34;https://unpkg.com/pytket-circuit-renderer@0.5/dist/pytket-circuit-renderer.umd.js&#34;&gt;&lt;/script&gt;\n",
       "&lt;link rel=&#34;stylesheet&#34; href=&#34;https://unpkg.com/pytket-circuit-renderer@0.5/dist/pytket-circuit-renderer.css&#34;&gt;\n",
       "&lt;/head&gt;\n",
       "&lt;body&gt;\n",
       "    &lt;div id=&#34;circuit-display-vue-container-2a63afac-3cce-4a1c-9799-d0db0705799e&#34; class=&#34;pytket-circuit-display-container&#34;&gt;\n",
       "        &lt;div style=&#34;display: none&#34;&gt;\n",
       "            &lt;div id=&#34;circuit-json-to-display&#34;&gt;{&#34;bits&#34;: [], &#34;commands&#34;: [{&#34;args&#34;: [[&#34;q&#34;, [0]]], &#34;op&#34;: {&#34;type&#34;: &#34;H&#34;}}, {&#34;args&#34;: [[&#34;q&#34;, [1]], [&#34;q&#34;, [0]]], &#34;op&#34;: {&#34;params&#34;: [&#34;0.5&#34;], &#34;type&#34;: &#34;CU1&#34;}}, {&#34;args&#34;: [[&#34;q&#34;, [2]], [&#34;q&#34;, [0]]], &#34;op&#34;: {&#34;params&#34;: [&#34;0.25&#34;], &#34;type&#34;: &#34;CU1&#34;}}, {&#34;args&#34;: [[&#34;q&#34;, [3]], [&#34;q&#34;, [0]]], &#34;op&#34;: {&#34;params&#34;: [&#34;0.125&#34;], &#34;type&#34;: &#34;CU1&#34;}}, {&#34;args&#34;: [[&#34;q&#34;, [0]], [&#34;q&#34;, [1]], [&#34;q&#34;, [2]], [&#34;q&#34;, [3]]], &#34;op&#34;: {&#34;data&#34;: &#34;&#34;, &#34;signature&#34;: [&#34;Q&#34;, &#34;Q&#34;, &#34;Q&#34;, &#34;Q&#34;], &#34;type&#34;: &#34;Barrier&#34;}}, {&#34;args&#34;: [[&#34;q&#34;, [1]]], &#34;op&#34;: {&#34;type&#34;: &#34;H&#34;}}, {&#34;args&#34;: [[&#34;q&#34;, [2]], [&#34;q&#34;, [1]]], &#34;op&#34;: {&#34;params&#34;: [&#34;0.5&#34;], &#34;type&#34;: &#34;CU1&#34;}}, {&#34;args&#34;: [[&#34;q&#34;, [3]], [&#34;q&#34;, [1]]], &#34;op&#34;: {&#34;params&#34;: [&#34;0.25&#34;], &#34;type&#34;: &#34;CU1&#34;}}, {&#34;args&#34;: [[&#34;q&#34;, [0]], [&#34;q&#34;, [1]], [&#34;q&#34;, [2]], [&#34;q&#34;, [3]]], &#34;op&#34;: {&#34;data&#34;: &#34;&#34;, &#34;signature&#34;: [&#34;Q&#34;, &#34;Q&#34;, &#34;Q&#34;, &#34;Q&#34;], &#34;type&#34;: &#34;Barrier&#34;}}, {&#34;args&#34;: [[&#34;q&#34;, [2]]], &#34;op&#34;: {&#34;type&#34;: &#34;H&#34;}}, {&#34;args&#34;: [[&#34;q&#34;, [3]], [&#34;q&#34;, [2]]], &#34;op&#34;: {&#34;params&#34;: [&#34;0.5&#34;], &#34;type&#34;: &#34;CU1&#34;}}, {&#34;args&#34;: [[&#34;q&#34;, [0]], [&#34;q&#34;, [1]], [&#34;q&#34;, [2]], [&#34;q&#34;, [3]]], &#34;op&#34;: {&#34;data&#34;: &#34;&#34;, &#34;signature&#34;: [&#34;Q&#34;, &#34;Q&#34;, &#34;Q&#34;, &#34;Q&#34;], &#34;type&#34;: &#34;Barrier&#34;}}, {&#34;args&#34;: [[&#34;q&#34;, [3]]], &#34;op&#34;: {&#34;type&#34;: &#34;H&#34;}}, {&#34;args&#34;: [[&#34;q&#34;, [0]], [&#34;q&#34;, [1]], [&#34;q&#34;, [2]], [&#34;q&#34;, [3]]], &#34;op&#34;: {&#34;data&#34;: &#34;&#34;, &#34;signature&#34;: [&#34;Q&#34;, &#34;Q&#34;, &#34;Q&#34;, &#34;Q&#34;], &#34;type&#34;: &#34;Barrier&#34;}}, {&#34;args&#34;: [[&#34;q&#34;, [0]], [&#34;q&#34;, [3]]], &#34;op&#34;: {&#34;type&#34;: &#34;SWAP&#34;}}, {&#34;args&#34;: [[&#34;q&#34;, [1]], [&#34;q&#34;, [2]]], &#34;op&#34;: {&#34;type&#34;: &#34;SWAP&#34;}}], &#34;created_qubits&#34;: [], &#34;discarded_qubits&#34;: [], &#34;implicit_permutation&#34;: [[[&#34;q&#34;, [0]], [&#34;q&#34;, [0]]], [[&#34;q&#34;, [1]], [&#34;q&#34;, [1]]], [[&#34;q&#34;, [2]], [&#34;q&#34;, [2]]], [[&#34;q&#34;, [3]], [&#34;q&#34;, [3]]]], &#34;name&#34;: &#34;QFT&#34;, &#34;phase&#34;: &#34;0.0&#34;, &#34;qubits&#34;: [[&#34;q&#34;, [0]], [&#34;q&#34;, [1]], [&#34;q&#34;, [2]], [&#34;q&#34;, [3]]]}&lt;/div&gt;\n",
       "        &lt;/div&gt;\n",
       "        &lt;circuit-display-container :circuit-element-str=&#34;&#39;#circuit-json-to-display&#39;&#34;&gt;&lt;/circuit-display-container&gt;\n",
       "    &lt;/div&gt;\n",
       "    &lt;script type=&#34;application/javascript&#34;&gt;\n",
       "      const circuitRendererUid = &#34;2a63afac-3cce-4a1c-9799-d0db0705799e&#34;;\n",
       "\n",
       "      // Script to initialise the circuit renderer app\n",
       "\n",
       "const { createApp } = Vue;\n",
       "const circuitDisplayContainer = window[&#34;pytket-circuit-renderer&#34;].default;\n",
       "// Init variables to be shared between circuit display instances\n",
       "if (typeof window.pytketCircuitDisplays === &#34;undefined&#34;) {\n",
       "    window.pytketCircuitDisplays = {};\n",
       "}\n",
       "// Create the root Vue component\n",
       "const app = createApp({\n",
       "    delimiters: [&#39;[[#&#39;, &#39;#]]&#39;],\n",
       "    components: { circuitDisplayContainer },\n",
       "})\n",
       "app.config.unwrapInjectedRef = true;\n",
       "app.mount(&#34;#circuit-display-vue-container-&#34;+circuitRendererUid);\n",
       "window.pytketCircuitDisplays[circuitRendererUid] = app;\n",
       "    &lt;/script&gt;\n",
       "&lt;/body&gt;\n",
       "&lt;/html&gt;\n",
       "\"\n",
       "        width=\"100%\" height=\"200px\"\n",
       "        style=\"border: none; outline: none; resize: vertical; overflow: auto\"></iframe>\n",
       "\n"
      ],
      "text/plain": [
       "<IPython.core.display.HTML object>"
      ]
     },
     "metadata": {},
     "output_type": "display_data"
    }
   ],
   "source": [
    "qft4 = build_qft_circuit(4)\n",
    "\n",
    "\n",
    "render_circuit_jupyter(qft4)"
   ]
  },
  {
   "cell_type": "markdown",
   "id": "ed26e90c",
   "metadata": {
    "slideshow": {
     "slide_type": "subslide"
    }
   },
   "source": [
    "### Circuit Boxes (I)\n",
    "\n",
    "* Raw quantum gates are sometimes too low level to see whats going on\n",
    "* We can wrap up sub circuits into boxes and add them to circuits (useful for subroutines).\n",
    "* QFT subroutine example below"
   ]
  },
  {
   "cell_type": "code",
   "execution_count": 10,
   "id": "351a2b9b-3b5a-4778-91c3-1d14b2157574",
   "metadata": {
    "slideshow": {
     "slide_type": "fragment"
    },
    "tags": []
   },
   "outputs": [
    {
     "data": {
      "text/html": [
       "\n",
       "\n",
       "\n",
       "\n",
       "\n",
       "\n",
       "<iframe srcdoc=\"\n",
       "&lt;!DOCTYPE html&gt;\n",
       "&lt;html lang=&#34;en&#34;&gt;\n",
       "&lt;head&gt;\n",
       "    &lt;meta charset=&#34;UTF-8&#34;&gt;\n",
       "    &lt;!-- Download Vue 3--&gt;\n",
       "&lt;script type=&#34;application/javascript&#34; src=&#34;https://cdn.jsdelivr.net/npm/vue@3&#34;&gt;&lt;/script&gt;\n",
       "&lt;!-- Download Circuit Renderer with styles --&gt;\n",
       "&lt;script type=&#34;application/javascript&#34; src=&#34;https://unpkg.com/pytket-circuit-renderer@0.5/dist/pytket-circuit-renderer.umd.js&#34;&gt;&lt;/script&gt;\n",
       "&lt;link rel=&#34;stylesheet&#34; href=&#34;https://unpkg.com/pytket-circuit-renderer@0.5/dist/pytket-circuit-renderer.css&#34;&gt;\n",
       "&lt;/head&gt;\n",
       "&lt;body&gt;\n",
       "    &lt;div id=&#34;circuit-display-vue-container-419cce4d-e4ba-425e-94fe-fac555b14edb&#34; class=&#34;pytket-circuit-display-container&#34;&gt;\n",
       "        &lt;div style=&#34;display: none&#34;&gt;\n",
       "            &lt;div id=&#34;circuit-json-to-display&#34;&gt;{&#34;bits&#34;: [], &#34;commands&#34;: [{&#34;args&#34;: [[&#34;q&#34;, [0]]], &#34;op&#34;: {&#34;type&#34;: &#34;H&#34;}}, {&#34;args&#34;: [[&#34;q&#34;, [1]]], &#34;op&#34;: {&#34;type&#34;: &#34;H&#34;}}, {&#34;args&#34;: [[&#34;q&#34;, [2]]], &#34;op&#34;: {&#34;type&#34;: &#34;H&#34;}}, {&#34;args&#34;: [[&#34;q&#34;, [3]]], &#34;op&#34;: {&#34;type&#34;: &#34;H&#34;}}, {&#34;args&#34;: [[&#34;q&#34;, [1]]], &#34;op&#34;: {&#34;params&#34;: [&#34;0.25&#34;], &#34;type&#34;: &#34;Ry&#34;}}, {&#34;args&#34;: [[&#34;q&#34;, [2]], [&#34;q&#34;, [3]]], &#34;op&#34;: {&#34;params&#34;: [&#34;0.39&#34;], &#34;type&#34;: &#34;CRz&#34;}}, {&#34;args&#34;: [[&#34;q&#34;, [0]], [&#34;q&#34;, [1]], [&#34;q&#34;, [2]]], &#34;op&#34;: {&#34;type&#34;: &#34;CCX&#34;}}, {&#34;args&#34;: [[&#34;q&#34;, [0]], [&#34;q&#34;, [1]], [&#34;q&#34;, [2]], [&#34;q&#34;, [3]]], &#34;op&#34;: {&#34;n_qb&#34;: 4, &#34;params&#34;: [&#34;0.7&#34;], &#34;type&#34;: &#34;CnRy&#34;}}, {&#34;args&#34;: [[&#34;q&#34;, [0]], [&#34;q&#34;, [1]], [&#34;q&#34;, [2]], [&#34;q&#34;, [3]]], &#34;op&#34;: {&#34;box&#34;: {&#34;circuit&#34;: {&#34;bits&#34;: [], &#34;commands&#34;: [{&#34;args&#34;: [[&#34;q&#34;, [0]]], &#34;op&#34;: {&#34;type&#34;: &#34;H&#34;}}, {&#34;args&#34;: [[&#34;q&#34;, [1]], [&#34;q&#34;, [0]]], &#34;op&#34;: {&#34;params&#34;: [&#34;0.5&#34;], &#34;type&#34;: &#34;CU1&#34;}}, {&#34;args&#34;: [[&#34;q&#34;, [2]], [&#34;q&#34;, [0]]], &#34;op&#34;: {&#34;params&#34;: [&#34;0.25&#34;], &#34;type&#34;: &#34;CU1&#34;}}, {&#34;args&#34;: [[&#34;q&#34;, [3]], [&#34;q&#34;, [0]]], &#34;op&#34;: {&#34;params&#34;: [&#34;0.125&#34;], &#34;type&#34;: &#34;CU1&#34;}}, {&#34;args&#34;: [[&#34;q&#34;, [0]], [&#34;q&#34;, [1]], [&#34;q&#34;, [2]], [&#34;q&#34;, [3]]], &#34;op&#34;: {&#34;data&#34;: &#34;&#34;, &#34;signature&#34;: [&#34;Q&#34;, &#34;Q&#34;, &#34;Q&#34;, &#34;Q&#34;], &#34;type&#34;: &#34;Barrier&#34;}}, {&#34;args&#34;: [[&#34;q&#34;, [1]]], &#34;op&#34;: {&#34;type&#34;: &#34;H&#34;}}, {&#34;args&#34;: [[&#34;q&#34;, [2]], [&#34;q&#34;, [1]]], &#34;op&#34;: {&#34;params&#34;: [&#34;0.5&#34;], &#34;type&#34;: &#34;CU1&#34;}}, {&#34;args&#34;: [[&#34;q&#34;, [3]], [&#34;q&#34;, [1]]], &#34;op&#34;: {&#34;params&#34;: [&#34;0.25&#34;], &#34;type&#34;: &#34;CU1&#34;}}, {&#34;args&#34;: [[&#34;q&#34;, [0]], [&#34;q&#34;, [1]], [&#34;q&#34;, [2]], [&#34;q&#34;, [3]]], &#34;op&#34;: {&#34;data&#34;: &#34;&#34;, &#34;signature&#34;: [&#34;Q&#34;, &#34;Q&#34;, &#34;Q&#34;, &#34;Q&#34;], &#34;type&#34;: &#34;Barrier&#34;}}, {&#34;args&#34;: [[&#34;q&#34;, [2]]], &#34;op&#34;: {&#34;type&#34;: &#34;H&#34;}}, {&#34;args&#34;: [[&#34;q&#34;, [3]], [&#34;q&#34;, [2]]], &#34;op&#34;: {&#34;params&#34;: [&#34;0.5&#34;], &#34;type&#34;: &#34;CU1&#34;}}, {&#34;args&#34;: [[&#34;q&#34;, [0]], [&#34;q&#34;, [1]], [&#34;q&#34;, [2]], [&#34;q&#34;, [3]]], &#34;op&#34;: {&#34;data&#34;: &#34;&#34;, &#34;signature&#34;: [&#34;Q&#34;, &#34;Q&#34;, &#34;Q&#34;, &#34;Q&#34;], &#34;type&#34;: &#34;Barrier&#34;}}, {&#34;args&#34;: [[&#34;q&#34;, [3]]], &#34;op&#34;: {&#34;type&#34;: &#34;H&#34;}}, {&#34;args&#34;: [[&#34;q&#34;, [0]], [&#34;q&#34;, [1]], [&#34;q&#34;, [2]], [&#34;q&#34;, [3]]], &#34;op&#34;: {&#34;data&#34;: &#34;&#34;, &#34;signature&#34;: [&#34;Q&#34;, &#34;Q&#34;, &#34;Q&#34;, &#34;Q&#34;], &#34;type&#34;: &#34;Barrier&#34;}}, {&#34;args&#34;: [[&#34;q&#34;, [0]], [&#34;q&#34;, [3]]], &#34;op&#34;: {&#34;type&#34;: &#34;SWAP&#34;}}, {&#34;args&#34;: [[&#34;q&#34;, [1]], [&#34;q&#34;, [2]]], &#34;op&#34;: {&#34;type&#34;: &#34;SWAP&#34;}}], &#34;created_qubits&#34;: [], &#34;discarded_qubits&#34;: [], &#34;implicit_permutation&#34;: [[[&#34;q&#34;, [0]], [&#34;q&#34;, [0]]], [[&#34;q&#34;, [1]], [&#34;q&#34;, [1]]], [[&#34;q&#34;, [2]], [&#34;q&#34;, [2]]], [[&#34;q&#34;, [3]], [&#34;q&#34;, [3]]]], &#34;name&#34;: &#34;QFT&#34;, &#34;phase&#34;: &#34;0.0&#34;, &#34;qubits&#34;: [[&#34;q&#34;, [0]], [&#34;q&#34;, [1]], [&#34;q&#34;, [2]], [&#34;q&#34;, [3]]]}, &#34;id&#34;: &#34;9ac0c2cc-274e-49df-9364-e6abff2660a9&#34;, &#34;type&#34;: &#34;CircBox&#34;}, &#34;type&#34;: &#34;CircBox&#34;}}], &#34;created_qubits&#34;: [], &#34;discarded_qubits&#34;: [], &#34;implicit_permutation&#34;: [[[&#34;q&#34;, [0]], [&#34;q&#34;, [0]]], [[&#34;q&#34;, [1]], [&#34;q&#34;, [1]]], [[&#34;q&#34;, [2]], [&#34;q&#34;, [2]]], [[&#34;q&#34;, [3]], [&#34;q&#34;, [3]]]], &#34;phase&#34;: &#34;0.0&#34;, &#34;qubits&#34;: [[&#34;q&#34;, [0]], [&#34;q&#34;, [1]], [&#34;q&#34;, [2]], [&#34;q&#34;, [3]]]}&lt;/div&gt;\n",
       "        &lt;/div&gt;\n",
       "        &lt;circuit-display-container :circuit-element-str=&#34;&#39;#circuit-json-to-display&#39;&#34;&gt;&lt;/circuit-display-container&gt;\n",
       "    &lt;/div&gt;\n",
       "    &lt;script type=&#34;application/javascript&#34;&gt;\n",
       "      const circuitRendererUid = &#34;419cce4d-e4ba-425e-94fe-fac555b14edb&#34;;\n",
       "\n",
       "      // Script to initialise the circuit renderer app\n",
       "\n",
       "const { createApp } = Vue;\n",
       "const circuitDisplayContainer = window[&#34;pytket-circuit-renderer&#34;].default;\n",
       "// Init variables to be shared between circuit display instances\n",
       "if (typeof window.pytketCircuitDisplays === &#34;undefined&#34;) {\n",
       "    window.pytketCircuitDisplays = {};\n",
       "}\n",
       "// Create the root Vue component\n",
       "const app = createApp({\n",
       "    delimiters: [&#39;[[#&#39;, &#39;#]]&#39;],\n",
       "    components: { circuitDisplayContainer },\n",
       "})\n",
       "app.config.unwrapInjectedRef = true;\n",
       "app.mount(&#34;#circuit-display-vue-container-&#34;+circuitRendererUid);\n",
       "window.pytketCircuitDisplays[circuitRendererUid] = app;\n",
       "    &lt;/script&gt;\n",
       "&lt;/body&gt;\n",
       "&lt;/html&gt;\n",
       "\"\n",
       "        width=\"100%\" height=\"200px\"\n",
       "        style=\"border: none; outline: none; resize: vertical; overflow: auto\"></iframe>\n",
       "\n"
      ],
      "text/plain": [
       "<IPython.core.display.HTML object>"
      ]
     },
     "metadata": {},
     "output_type": "display_data"
    }
   ],
   "source": [
    "from pytket.circuit import CircBox\n",
    "\n",
    "qft4 = build_qft_circuit(4)\n",
    "qft4box = CircBox(qft4)\n",
    "\n",
    "circ.add_circbox(qft4box, [0, 1, 2, 3])\n",
    "render_circuit_jupyter(circ)"
   ]
  },
  {
   "cell_type": "markdown",
   "id": "6eb0575f",
   "metadata": {
    "slideshow": {
     "slide_type": "subslide"
    }
   },
   "source": [
    "### Circuit Boxes (II)\n",
    "\n",
    "* Often we will need synthesise a quantum circuit to implement a gievn unitary\n",
    "* Unitary synthesis is supported by TKET (Up to 3 qubits)\n",
    "* **Fact:** A two qubit unitary can be implemented with at most 3 CX gates\n",
    "\n",
    "Lets see an example with the Fermionic SWAP or $\\text{FSWAP}$ gate\n",
    "\n",
    "$$\n",
    "\\begin{equation}\n",
    "\\text{FSWAP} =\n",
    "\\begin{pmatrix}\n",
    "1 & 0 & 0 & 0 \\\\\n",
    "0 & 0 & 1 & 0 \\\\\n",
    "0 & 1 & 0 & 0\\\\\n",
    "0 & 0 & 0 & -1 \n",
    "\\end{pmatrix}\n",
    "\\end{equation}\n",
    "$$"
   ]
  },
  {
   "cell_type": "code",
   "execution_count": 11,
   "id": "063ae7a2-181b-456a-80f2-b1704d40948a",
   "metadata": {
    "slideshow": {
     "slide_type": "fragment"
    }
   },
   "outputs": [
    {
     "data": {
      "text/html": [
       "\n",
       "\n",
       "\n",
       "\n",
       "\n",
       "\n",
       "<iframe srcdoc=\"\n",
       "&lt;!DOCTYPE html&gt;\n",
       "&lt;html lang=&#34;en&#34;&gt;\n",
       "&lt;head&gt;\n",
       "    &lt;meta charset=&#34;UTF-8&#34;&gt;\n",
       "    &lt;!-- Download Vue 3--&gt;\n",
       "&lt;script type=&#34;application/javascript&#34; src=&#34;https://cdn.jsdelivr.net/npm/vue@3&#34;&gt;&lt;/script&gt;\n",
       "&lt;!-- Download Circuit Renderer with styles --&gt;\n",
       "&lt;script type=&#34;application/javascript&#34; src=&#34;https://unpkg.com/pytket-circuit-renderer@0.5/dist/pytket-circuit-renderer.umd.js&#34;&gt;&lt;/script&gt;\n",
       "&lt;link rel=&#34;stylesheet&#34; href=&#34;https://unpkg.com/pytket-circuit-renderer@0.5/dist/pytket-circuit-renderer.css&#34;&gt;\n",
       "&lt;/head&gt;\n",
       "&lt;body&gt;\n",
       "    &lt;div id=&#34;circuit-display-vue-container-518e3aef-d025-4a9a-bd8f-c5625dc10c45&#34; class=&#34;pytket-circuit-display-container&#34;&gt;\n",
       "        &lt;div style=&#34;display: none&#34;&gt;\n",
       "            &lt;div id=&#34;circuit-json-to-display&#34;&gt;{&#34;bits&#34;: [], &#34;commands&#34;: [{&#34;args&#34;: [[&#34;q&#34;, [0]], [&#34;q&#34;, [1]]], &#34;op&#34;: {&#34;box&#34;: {&#34;id&#34;: &#34;93eff212-446c-440f-85d0-6c9a964f9411&#34;, &#34;matrix&#34;: [[[1.0, 0.0], [0.0, 0.0], [0.0, 0.0], [0.0, 0.0]], [[0.0, 0.0], [0.0, 0.0], [1.0, 0.0], [0.0, 0.0]], [[0.0, 0.0], [1.0, 0.0], [0.0, 0.0], [0.0, 0.0]], [[0.0, 0.0], [0.0, 0.0], [0.0, 0.0], [-1.0, 0.0]]], &#34;type&#34;: &#34;Unitary2qBox&#34;}, &#34;type&#34;: &#34;Unitary2qBox&#34;}}], &#34;created_qubits&#34;: [], &#34;discarded_qubits&#34;: [], &#34;implicit_permutation&#34;: [[[&#34;q&#34;, [0]], [&#34;q&#34;, [0]]], [[&#34;q&#34;, [1]], [&#34;q&#34;, [1]]]], &#34;phase&#34;: &#34;0.0&#34;, &#34;qubits&#34;: [[&#34;q&#34;, [0]], [&#34;q&#34;, [1]]]}&lt;/div&gt;\n",
       "        &lt;/div&gt;\n",
       "        &lt;circuit-display-container :circuit-element-str=&#34;&#39;#circuit-json-to-display&#39;&#34;&gt;&lt;/circuit-display-container&gt;\n",
       "    &lt;/div&gt;\n",
       "    &lt;script type=&#34;application/javascript&#34;&gt;\n",
       "      const circuitRendererUid = &#34;518e3aef-d025-4a9a-bd8f-c5625dc10c45&#34;;\n",
       "\n",
       "      // Script to initialise the circuit renderer app\n",
       "\n",
       "const { createApp } = Vue;\n",
       "const circuitDisplayContainer = window[&#34;pytket-circuit-renderer&#34;].default;\n",
       "// Init variables to be shared between circuit display instances\n",
       "if (typeof window.pytketCircuitDisplays === &#34;undefined&#34;) {\n",
       "    window.pytketCircuitDisplays = {};\n",
       "}\n",
       "// Create the root Vue component\n",
       "const app = createApp({\n",
       "    delimiters: [&#39;[[#&#39;, &#39;#]]&#39;],\n",
       "    components: { circuitDisplayContainer },\n",
       "})\n",
       "app.config.unwrapInjectedRef = true;\n",
       "app.mount(&#34;#circuit-display-vue-container-&#34;+circuitRendererUid);\n",
       "window.pytketCircuitDisplays[circuitRendererUid] = app;\n",
       "    &lt;/script&gt;\n",
       "&lt;/body&gt;\n",
       "&lt;/html&gt;\n",
       "\"\n",
       "        width=\"100%\" height=\"200px\"\n",
       "        style=\"border: none; outline: none; resize: vertical; overflow: auto\"></iframe>\n",
       "\n"
      ],
      "text/plain": [
       "<IPython.core.display.HTML object>"
      ]
     },
     "metadata": {},
     "output_type": "display_data"
    }
   ],
   "source": [
    "from pytket.circuit import Unitary2qBox\n",
    "import numpy as np\n",
    "\n",
    "unitary_2q = np.asarray([\n",
    "                 [1, 0, 0, 0],\n",
    "                 [0, 0, 1, 0],\n",
    "                 [0, 1, 0, 0],\n",
    "                 [0, 0, 0, -1]])\n",
    "\n",
    "u2_box = Unitary2qBox(unitary_2q)\n",
    "\n",
    "test_circ = Circuit(2)\n",
    "test_circ.add_unitary2qbox(u2_box, 0, 1)\n",
    "\n",
    "render_circuit_jupyter(test_circ)"
   ]
  },
  {
   "cell_type": "code",
   "execution_count": 12,
   "id": "f7e0a86f-40f7-43ff-8620-d5f580b9be60",
   "metadata": {
    "slideshow": {
     "slide_type": "subslide"
    },
    "tags": []
   },
   "outputs": [
    {
     "data": {
      "text/html": [
       "\n",
       "\n",
       "\n",
       "\n",
       "\n",
       "\n",
       "<iframe srcdoc=\"\n",
       "&lt;!DOCTYPE html&gt;\n",
       "&lt;html lang=&#34;en&#34;&gt;\n",
       "&lt;head&gt;\n",
       "    &lt;meta charset=&#34;UTF-8&#34;&gt;\n",
       "    &lt;!-- Download Vue 3--&gt;\n",
       "&lt;script type=&#34;application/javascript&#34; src=&#34;https://cdn.jsdelivr.net/npm/vue@3&#34;&gt;&lt;/script&gt;\n",
       "&lt;!-- Download Circuit Renderer with styles --&gt;\n",
       "&lt;script type=&#34;application/javascript&#34; src=&#34;https://unpkg.com/pytket-circuit-renderer@0.5/dist/pytket-circuit-renderer.umd.js&#34;&gt;&lt;/script&gt;\n",
       "&lt;link rel=&#34;stylesheet&#34; href=&#34;https://unpkg.com/pytket-circuit-renderer@0.5/dist/pytket-circuit-renderer.css&#34;&gt;\n",
       "&lt;/head&gt;\n",
       "&lt;body&gt;\n",
       "    &lt;div id=&#34;circuit-display-vue-container-d13ee299-82ca-4719-b769-a639d6c64802&#34; class=&#34;pytket-circuit-display-container&#34;&gt;\n",
       "        &lt;div style=&#34;display: none&#34;&gt;\n",
       "            &lt;div id=&#34;circuit-json-to-display&#34;&gt;{&#34;bits&#34;: [], &#34;commands&#34;: [{&#34;args&#34;: [[&#34;q&#34;, [0]]], &#34;op&#34;: {&#34;params&#34;: [&#34;0.5&#34;, &#34;0.5&#34;, &#34;-0.5&#34;], &#34;type&#34;: &#34;TK1&#34;}}, {&#34;args&#34;: [[&#34;q&#34;, [1]]], &#34;op&#34;: {&#34;params&#34;: [&#34;0.5&#34;, &#34;0.5&#34;, &#34;-0.5&#34;], &#34;type&#34;: &#34;TK1&#34;}}, {&#34;args&#34;: [[&#34;q&#34;, [0]]], &#34;op&#34;: {&#34;type&#34;: &#34;Sdg&#34;}}, {&#34;args&#34;: [[&#34;q&#34;, [1]]], &#34;op&#34;: {&#34;type&#34;: &#34;Sdg&#34;}}, {&#34;args&#34;: [[&#34;q&#34;, [0]]], &#34;op&#34;: {&#34;type&#34;: &#34;Vdg&#34;}}, {&#34;args&#34;: [[&#34;q&#34;, [1]]], &#34;op&#34;: {&#34;type&#34;: &#34;Vdg&#34;}}, {&#34;args&#34;: [[&#34;q&#34;, [0]], [&#34;q&#34;, [1]]], &#34;op&#34;: {&#34;params&#34;: [&#34;0.5&#34;, &#34;0.5&#34;, &#34;0&#34;], &#34;type&#34;: &#34;TK2&#34;}}, {&#34;args&#34;: [[&#34;q&#34;, [0]]], &#34;op&#34;: {&#34;type&#34;: &#34;Z&#34;}}, {&#34;args&#34;: [[&#34;q&#34;, [1]]], &#34;op&#34;: {&#34;type&#34;: &#34;Z&#34;}}, {&#34;args&#34;: [[&#34;q&#34;, [0]]], &#34;op&#34;: {&#34;type&#34;: &#34;V&#34;}}, {&#34;args&#34;: [[&#34;q&#34;, [1]]], &#34;op&#34;: {&#34;type&#34;: &#34;V&#34;}}, {&#34;args&#34;: [[&#34;q&#34;, [0]]], &#34;op&#34;: {&#34;type&#34;: &#34;S&#34;}}, {&#34;args&#34;: [[&#34;q&#34;, [1]]], &#34;op&#34;: {&#34;type&#34;: &#34;S&#34;}}, {&#34;args&#34;: [[&#34;q&#34;, [0]]], &#34;op&#34;: {&#34;params&#34;: [&#34;-1.0&#34;, &#34;0.5&#34;, &#34;0.5&#34;], &#34;type&#34;: &#34;TK1&#34;}}, {&#34;args&#34;: [[&#34;q&#34;, [1]]], &#34;op&#34;: {&#34;params&#34;: [&#34;-1.0&#34;, &#34;0.5&#34;, &#34;0.5&#34;], &#34;type&#34;: &#34;TK1&#34;}}], &#34;created_qubits&#34;: [], &#34;discarded_qubits&#34;: [], &#34;implicit_permutation&#34;: [[[&#34;q&#34;, [0]], [&#34;q&#34;, [0]]], [[&#34;q&#34;, [1]], [&#34;q&#34;, [1]]]], &#34;phase&#34;: &#34;1.5&#34;, &#34;qubits&#34;: [[&#34;q&#34;, [0]], [&#34;q&#34;, [1]]]}&lt;/div&gt;\n",
       "        &lt;/div&gt;\n",
       "        &lt;circuit-display-container :circuit-element-str=&#34;&#39;#circuit-json-to-display&#39;&#34;&gt;&lt;/circuit-display-container&gt;\n",
       "    &lt;/div&gt;\n",
       "    &lt;script type=&#34;application/javascript&#34;&gt;\n",
       "      const circuitRendererUid = &#34;d13ee299-82ca-4719-b769-a639d6c64802&#34;;\n",
       "\n",
       "      // Script to initialise the circuit renderer app\n",
       "\n",
       "const { createApp } = Vue;\n",
       "const circuitDisplayContainer = window[&#34;pytket-circuit-renderer&#34;].default;\n",
       "// Init variables to be shared between circuit display instances\n",
       "if (typeof window.pytketCircuitDisplays === &#34;undefined&#34;) {\n",
       "    window.pytketCircuitDisplays = {};\n",
       "}\n",
       "// Create the root Vue component\n",
       "const app = createApp({\n",
       "    delimiters: [&#39;[[#&#39;, &#39;#]]&#39;],\n",
       "    components: { circuitDisplayContainer },\n",
       "})\n",
       "app.config.unwrapInjectedRef = true;\n",
       "app.mount(&#34;#circuit-display-vue-container-&#34;+circuitRendererUid);\n",
       "window.pytketCircuitDisplays[circuitRendererUid] = app;\n",
       "    &lt;/script&gt;\n",
       "&lt;/body&gt;\n",
       "&lt;/html&gt;\n",
       "\"\n",
       "        width=\"100%\" height=\"200px\"\n",
       "        style=\"border: none; outline: none; resize: vertical; overflow: auto\"></iframe>\n",
       "\n"
      ],
      "text/plain": [
       "<IPython.core.display.HTML object>"
      ]
     },
     "metadata": {},
     "output_type": "display_data"
    }
   ],
   "source": [
    "from pytket.passes import DecomposeBoxes\n",
    "\n",
    "DecomposeBoxes().apply(test_circ) # Decompose the box in place\n",
    "\n",
    "render_circuit_jupyter(test_circ) # view raw circuit "
   ]
  },
  {
   "cell_type": "markdown",
   "id": "a922a8e5",
   "metadata": {
    "slideshow": {
     "slide_type": "subslide"
    }
   },
   "source": [
    "### Constructing a Circuit from QASM\n",
    "\n",
    "* OpenQASM (Open Quantum assembly language provides a low level specification of quantum circuits)\n",
    "* We Can easily build a circuit from a QASM file (And also export a circuit to QASM)"
   ]
  },
  {
   "cell_type": "code",
   "execution_count": 14,
   "id": "243f4991-f7f8-47ed-8177-dd7695bc6ff4",
   "metadata": {
    "slideshow": {
     "slide_type": "fragment"
    },
    "tags": []
   },
   "outputs": [
    {
     "name": "stdout",
     "output_type": "stream",
     "text": [
      "Total number of gates = 21\n",
      "#two qubit gates = 11\n"
     ]
    },
    {
     "data": {
      "text/html": [
       "\n",
       "\n",
       "\n",
       "\n",
       "\n",
       "\n",
       "<iframe srcdoc=\"\n",
       "&lt;!DOCTYPE html&gt;\n",
       "&lt;html lang=&#34;en&#34;&gt;\n",
       "&lt;head&gt;\n",
       "    &lt;meta charset=&#34;UTF-8&#34;&gt;\n",
       "    &lt;!-- Download Vue 3--&gt;\n",
       "&lt;script type=&#34;application/javascript&#34; src=&#34;https://cdn.jsdelivr.net/npm/vue@3&#34;&gt;&lt;/script&gt;\n",
       "&lt;!-- Download Circuit Renderer with styles --&gt;\n",
       "&lt;script type=&#34;application/javascript&#34; src=&#34;https://unpkg.com/pytket-circuit-renderer@0.5/dist/pytket-circuit-renderer.umd.js&#34;&gt;&lt;/script&gt;\n",
       "&lt;link rel=&#34;stylesheet&#34; href=&#34;https://unpkg.com/pytket-circuit-renderer@0.5/dist/pytket-circuit-renderer.css&#34;&gt;\n",
       "&lt;/head&gt;\n",
       "&lt;body&gt;\n",
       "    &lt;div id=&#34;circuit-display-vue-container-1235aa50-d9a7-4fef-852b-13fe46429fd7&#34; class=&#34;pytket-circuit-display-container&#34;&gt;\n",
       "        &lt;div style=&#34;display: none&#34;&gt;\n",
       "            &lt;div id=&#34;circuit-json-to-display&#34;&gt;{&#34;bits&#34;: [[&#34;mb&#34;, [0]], [&#34;mb&#34;, [1]], [&#34;mb&#34;, [2]]], &#34;commands&#34;: [{&#34;args&#34;: [[&#34;mq&#34;, [0]]], &#34;op&#34;: {&#34;type&#34;: &#34;H&#34;}}, {&#34;args&#34;: [[&#34;mq&#34;, [1]]], &#34;op&#34;: {&#34;type&#34;: &#34;H&#34;}}, {&#34;args&#34;: [[&#34;mq&#34;, [2]]], &#34;op&#34;: {&#34;type&#34;: &#34;H&#34;}}, {&#34;args&#34;: [[&#34;sp&#34;, [0]]], &#34;op&#34;: {&#34;type&#34;: &#34;X&#34;}}, {&#34;args&#34;: [[&#34;mq&#34;, [2]], [&#34;sp&#34;, [0]]], &#34;op&#34;: {&#34;params&#34;: [&#34;0.0&#34;, &#34;1.75&#34;, &#34;0.5&#34;], &#34;type&#34;: &#34;CU3&#34;}}, {&#34;args&#34;: [[&#34;mq&#34;, [1]], [&#34;sp&#34;, [0]]], &#34;op&#34;: {&#34;params&#34;: [&#34;0.0&#34;, &#34;1.75&#34;, &#34;0.5&#34;], &#34;type&#34;: &#34;CU3&#34;}}, {&#34;args&#34;: [[&#34;mq&#34;, [1]], [&#34;sp&#34;, [0]]], &#34;op&#34;: {&#34;params&#34;: [&#34;0.0&#34;, &#34;1.75&#34;, &#34;0.5&#34;], &#34;type&#34;: &#34;CU3&#34;}}, {&#34;args&#34;: [[&#34;mq&#34;, [0]], [&#34;sp&#34;, [0]]], &#34;op&#34;: {&#34;params&#34;: [&#34;0.0&#34;, &#34;1.75&#34;, &#34;0.5&#34;], &#34;type&#34;: &#34;CU3&#34;}}, {&#34;args&#34;: [[&#34;mq&#34;, [0]], [&#34;sp&#34;, [0]]], &#34;op&#34;: {&#34;params&#34;: [&#34;0.0&#34;, &#34;1.75&#34;, &#34;0.5&#34;], &#34;type&#34;: &#34;CU3&#34;}}, {&#34;args&#34;: [[&#34;mq&#34;, [0]], [&#34;sp&#34;, [0]]], &#34;op&#34;: {&#34;params&#34;: [&#34;0.0&#34;, &#34;1.75&#34;, &#34;0.5&#34;], &#34;type&#34;: &#34;CU3&#34;}}, {&#34;args&#34;: [[&#34;mq&#34;, [0]], [&#34;sp&#34;, [0]]], &#34;op&#34;: {&#34;params&#34;: [&#34;0.0&#34;, &#34;1.75&#34;, &#34;0.5&#34;], &#34;type&#34;: &#34;CU3&#34;}}, {&#34;args&#34;: [[&#34;mq&#34;, [0]], [&#34;mq&#34;, [2]]], &#34;op&#34;: {&#34;type&#34;: &#34;SWAP&#34;}}, {&#34;args&#34;: [[&#34;mq&#34;, [2]]], &#34;op&#34;: {&#34;type&#34;: &#34;H&#34;}}, {&#34;args&#34;: [[&#34;mq&#34;, [2]], [&#34;mq&#34;, [1]]], &#34;op&#34;: {&#34;params&#34;: [&#34;1.5&#34;], &#34;type&#34;: &#34;CU1&#34;}}, {&#34;args&#34;: [[&#34;mq&#34;, [2]], [&#34;mq&#34;, [0]]], &#34;op&#34;: {&#34;params&#34;: [&#34;1.75&#34;], &#34;type&#34;: &#34;CU1&#34;}}, {&#34;args&#34;: [[&#34;mq&#34;, [1]]], &#34;op&#34;: {&#34;type&#34;: &#34;H&#34;}}, {&#34;args&#34;: [[&#34;mq&#34;, [2]], [&#34;mb&#34;, [2]]], &#34;op&#34;: {&#34;type&#34;: &#34;Measure&#34;}}, {&#34;args&#34;: [[&#34;mq&#34;, [1]], [&#34;mq&#34;, [0]]], &#34;op&#34;: {&#34;params&#34;: [&#34;1.5&#34;], &#34;type&#34;: &#34;CU1&#34;}}, {&#34;args&#34;: [[&#34;mq&#34;, [1]], [&#34;mb&#34;, [1]]], &#34;op&#34;: {&#34;type&#34;: &#34;Measure&#34;}}, {&#34;args&#34;: [[&#34;mq&#34;, [0]]], &#34;op&#34;: {&#34;type&#34;: &#34;H&#34;}}, {&#34;args&#34;: [[&#34;mq&#34;, [0]], [&#34;mb&#34;, [0]]], &#34;op&#34;: {&#34;type&#34;: &#34;Measure&#34;}}], &#34;created_qubits&#34;: [], &#34;discarded_qubits&#34;: [], &#34;implicit_permutation&#34;: [[[&#34;mq&#34;, [0]], [&#34;mq&#34;, [0]]], [[&#34;mq&#34;, [1]], [&#34;mq&#34;, [1]]], [[&#34;mq&#34;, [2]], [&#34;mq&#34;, [2]]], [[&#34;sp&#34;, [0]], [&#34;sp&#34;, [0]]]], &#34;phase&#34;: &#34;0.0&#34;, &#34;qubits&#34;: [[&#34;mq&#34;, [0]], [&#34;mq&#34;, [1]], [&#34;mq&#34;, [2]], [&#34;sp&#34;, [0]]]}&lt;/div&gt;\n",
       "        &lt;/div&gt;\n",
       "        &lt;circuit-display-container :circuit-element-str=&#34;&#39;#circuit-json-to-display&#39;&#34;&gt;&lt;/circuit-display-container&gt;\n",
       "    &lt;/div&gt;\n",
       "    &lt;script type=&#34;application/javascript&#34;&gt;\n",
       "      const circuitRendererUid = &#34;1235aa50-d9a7-4fef-852b-13fe46429fd7&#34;;\n",
       "\n",
       "      // Script to initialise the circuit renderer app\n",
       "\n",
       "const { createApp } = Vue;\n",
       "const circuitDisplayContainer = window[&#34;pytket-circuit-renderer&#34;].default;\n",
       "// Init variables to be shared between circuit display instances\n",
       "if (typeof window.pytketCircuitDisplays === &#34;undefined&#34;) {\n",
       "    window.pytketCircuitDisplays = {};\n",
       "}\n",
       "// Create the root Vue component\n",
       "const app = createApp({\n",
       "    delimiters: [&#39;[[#&#39;, &#39;#]]&#39;],\n",
       "    components: { circuitDisplayContainer },\n",
       "})\n",
       "app.config.unwrapInjectedRef = true;\n",
       "app.mount(&#34;#circuit-display-vue-container-&#34;+circuitRendererUid);\n",
       "window.pytketCircuitDisplays[circuitRendererUid] = app;\n",
       "    &lt;/script&gt;\n",
       "&lt;/body&gt;\n",
       "&lt;/html&gt;\n",
       "\"\n",
       "        width=\"100%\" height=\"200px\"\n",
       "        style=\"border: none; outline: none; resize: vertical; overflow: auto\"></iframe>\n",
       "\n"
      ],
      "text/plain": [
       "<IPython.core.display.HTML object>"
      ]
     },
     "metadata": {},
     "output_type": "display_data"
    }
   ],
   "source": [
    "from pytket.qasm import circuit_from_qasm\n",
    "\n",
    "qpe_circ = circuit_from_qasm(\"qpe.qasm\")\n",
    "print(\"Total number of gates =\", qpe_circ.n_gates)\n",
    "print(\"#two qubit gates =\", qpe_circ.n_2qb_gates())\n",
    "\n",
    "render_circuit_jupyter(qpe_circ)"
   ]
  },
  {
   "cell_type": "markdown",
   "id": "f6c9a796-a480-4f07-9400-7f9431d15057",
   "metadata": {
    "slideshow": {
     "slide_type": "slide"
    },
    "tags": []
   },
   "source": [
    "## Using Quantum devices and Simulators"
   ]
  },
  {
   "cell_type": "markdown",
   "id": "597704a9-e128-46b3-bff3-31445b766618",
   "metadata": {},
   "source": [
    "In addition to the idealised noiseless simulators we used previously we can also target emulators which try to replicate the constraints and noise of a real quantum computer\n",
    "\n",
    "In order to give some ideas of quantum compilation we can use a larger Quantum Phase estimation circuit and run it on an IBM Simulator.\n",
    "\n",
    "**Disclaimer:** Not the most realistic experiment "
   ]
  },
  {
   "cell_type": "markdown",
   "id": "99b3a748-4f55-485e-b569-4e8679ac1cb7",
   "metadata": {},
   "source": [
    "Visit https://quantum-computing.ibm.com/ to get an API token\n",
    "\n",
    "Credential saving process below"
   ]
  },
  {
   "cell_type": "code",
   "execution_count": 15,
   "id": "070efaae-c584-4cbe-935d-d163d3a7c3de",
   "metadata": {},
   "outputs": [],
   "source": [
    "#from qiskit import IBMQ\n",
    "#IBMQ.save_account(\"MyToken\", overwrite=True)\n",
    "\n",
    "#from pytket.extensions.qiskit.backends.config import set_ibmq_config\n",
    "\n",
    "#set_ibmq_config(ibmq_api_token=\"MyToken\")"
   ]
  },
  {
   "cell_type": "code",
   "execution_count": 16,
   "id": "37be92d4-f674-4fa8-a193-2d9f24c10967",
   "metadata": {
    "slideshow": {
     "slide_type": "subslide"
    },
    "tags": []
   },
   "outputs": [],
   "source": [
    "from pytket.extensions.qiskit import IBMQEmulatorBackend\n",
    "\n",
    "qpe5_circ = circuit_from_qasm(\"qpe5.qasm\")\n",
    "noisy_backend = IBMQEmulatorBackend('ibmq_jakarta')"
   ]
  },
  {
   "cell_type": "code",
   "execution_count": 17,
   "id": "80a63d8d-2ce5-46f3-8870-841d8d4e7743",
   "metadata": {
    "tags": []
   },
   "outputs": [
    {
     "data": {
      "image/svg+xml": [
       "<?xml version=\"1.0\" encoding=\"UTF-8\" standalone=\"no\"?>\n",
       "<!DOCTYPE svg PUBLIC \"-//W3C//DTD SVG 1.1//EN\"\n",
       " \"http://www.w3.org/Graphics/SVG/1.1/DTD/svg11.dtd\">\n",
       "<!-- Generated by graphviz version 6.0.1 (20220911.1526)\n",
       " -->\n",
       "<!-- Title: Qubit connectivity Pages: 1 -->\n",
       "<svg width=\"142pt\" height=\"153pt\"\n",
       " viewBox=\"0.00 0.00 142.45 152.98\" xmlns=\"http://www.w3.org/2000/svg\" xmlns:xlink=\"http://www.w3.org/1999/xlink\">\n",
       "<g id=\"graph0\" class=\"graph\" transform=\"scale(1 1) rotate(0) translate(4 148.98)\">\n",
       "<title>Qubit connectivity</title>\n",
       "<polygon fill=\"white\" stroke=\"none\" points=\"-4,4 -4,-148.98 138.45,-148.98 138.45,4 -4,4\"/>\n",
       "<!-- sp[0] -->\n",
       "<g id=\"node1\" class=\"node\">\n",
       "<title>sp[0]</title>\n",
       "<ellipse fill=\"none\" stroke=\"blue\" cx=\"28.95\" cy=\"-48.2\" rx=\"27.84\" ry=\"27.84\"/>\n",
       "<text text-anchor=\"middle\" x=\"28.95\" y=\"-45.7\" font-family=\"Courier,monospace\" font-size=\"10.00\">sp[0]</text>\n",
       "</g>\n",
       "<!-- mq[4] -->\n",
       "<g id=\"node2\" class=\"node\">\n",
       "<title>mq[4]</title>\n",
       "<ellipse fill=\"none\" stroke=\"blue\" cx=\"106.78\" cy=\"-51.53\" rx=\"27.84\" ry=\"27.84\"/>\n",
       "<text text-anchor=\"middle\" x=\"106.78\" y=\"-49.03\" font-family=\"Courier,monospace\" font-size=\"10.00\">mq[4]</text>\n",
       "</g>\n",
       "<!-- sp[0]&#45;&#45;mq[4] -->\n",
       "<g id=\"edge1\" class=\"edge\">\n",
       "<title>sp[0]&#45;&#45;mq[4]</title>\n",
       "<path fill=\"none\" stroke=\"black\" d=\"M56.61,-49.38C63.86,-49.69 71.69,-50.03 78.95,-50.34\"/>\n",
       "</g>\n",
       "<!-- mq[3] -->\n",
       "<g id=\"node3\" class=\"node\">\n",
       "<title>mq[3]</title>\n",
       "<ellipse fill=\"none\" stroke=\"blue\" cx=\"68.92\" cy=\"-27.67\" rx=\"27.84\" ry=\"27.84\"/>\n",
       "<text text-anchor=\"middle\" x=\"68.92\" y=\"-25.17\" font-family=\"Courier,monospace\" font-size=\"10.00\">mq[3]</text>\n",
       "</g>\n",
       "<!-- sp[0]&#45;&#45;mq[3] -->\n",
       "<g id=\"edge2\" class=\"edge\">\n",
       "<title>sp[0]&#45;&#45;mq[3]</title>\n",
       "<path fill=\"none\" stroke=\"black\" d=\"M53.58,-35.55C53.71,-35.48 53.83,-35.41 53.96,-35.35\"/>\n",
       "</g>\n",
       "<!-- mq[2] -->\n",
       "<g id=\"node4\" class=\"node\">\n",
       "<title>mq[2]</title>\n",
       "<ellipse fill=\"none\" stroke=\"blue\" cx=\"65.04\" cy=\"-117.31\" rx=\"27.84\" ry=\"27.84\"/>\n",
       "<text text-anchor=\"middle\" x=\"65.04\" y=\"-114.81\" font-family=\"Courier,monospace\" font-size=\"10.00\">mq[2]</text>\n",
       "</g>\n",
       "<!-- sp[0]&#45;&#45;mq[2] -->\n",
       "<g id=\"edge3\" class=\"edge\">\n",
       "<title>sp[0]&#45;&#45;mq[2]</title>\n",
       "<path fill=\"none\" stroke=\"black\" d=\"M41.77,-72.76C45.1,-79.12 48.68,-85.98 52.01,-92.37\"/>\n",
       "</g>\n",
       "<!-- mq[1] -->\n",
       "<g id=\"node5\" class=\"node\">\n",
       "<title>mq[1]</title>\n",
       "<ellipse fill=\"none\" stroke=\"blue\" cx=\"104.72\" cy=\"-96.23\" rx=\"27.84\" ry=\"27.84\"/>\n",
       "<text text-anchor=\"middle\" x=\"104.72\" y=\"-93.73\" font-family=\"Courier,monospace\" font-size=\"10.00\">mq[1]</text>\n",
       "</g>\n",
       "<!-- sp[0]&#45;&#45;mq[1] -->\n",
       "<g id=\"edge4\" class=\"edge\">\n",
       "<title>sp[0]&#45;&#45;mq[1]</title>\n",
       "<path fill=\"none\" stroke=\"black\" d=\"M52.51,-63.13C61.63,-68.92 72.05,-75.52 81.18,-81.31\"/>\n",
       "</g>\n",
       "<!-- mq[0] -->\n",
       "<g id=\"node6\" class=\"node\">\n",
       "<title>mq[0]</title>\n",
       "<ellipse fill=\"none\" stroke=\"blue\" cx=\"27.67\" cy=\"-92.85\" rx=\"27.84\" ry=\"27.84\"/>\n",
       "<text text-anchor=\"middle\" x=\"27.67\" y=\"-90.35\" font-family=\"Courier,monospace\" font-size=\"10.00\">mq[0]</text>\n",
       "</g>\n",
       "<!-- sp[0]&#45;&#45;mq[0] -->\n",
       "<g id=\"edge5\" class=\"edge\">\n",
       "<title>sp[0]&#45;&#45;mq[0]</title>\n",
       "<path fill=\"none\" stroke=\"black\" d=\"M28.15,-75.97C28.15,-76.11 28.14,-76.25 28.14,-76.39\"/>\n",
       "</g>\n",
       "<!-- mq[4]&#45;&#45;mq[3] -->\n",
       "<g id=\"edge7\" class=\"edge\">\n",
       "<title>mq[4]&#45;&#45;mq[3]</title>\n",
       "<path fill=\"none\" stroke=\"black\" d=\"M83.02,-36.55C82.9,-36.48 82.78,-36.4 82.66,-36.33\"/>\n",
       "</g>\n",
       "<!-- mq[4]&#45;&#45;mq[2] -->\n",
       "<g id=\"edge8\" class=\"edge\">\n",
       "<title>mq[4]&#45;&#45;mq[2]</title>\n",
       "<path fill=\"none\" stroke=\"black\" d=\"M91.95,-74.91C88.11,-80.96 83.96,-87.49 80.11,-93.57\"/>\n",
       "</g>\n",
       "<!-- mq[4]&#45;&#45;mq[1] -->\n",
       "<g id=\"edge9\" class=\"edge\">\n",
       "<title>mq[4]&#45;&#45;mq[1]</title>\n",
       "<path fill=\"none\" stroke=\"black\" d=\"M105.5,-79.33C105.49,-79.47 105.49,-79.62 105.48,-79.76\"/>\n",
       "</g>\n",
       "<!-- mq[4]&#45;&#45;mq[0] -->\n",
       "<g id=\"edge6\" class=\"edge\">\n",
       "<title>mq[4]&#45;&#45;mq[0]</title>\n",
       "<path fill=\"none\" stroke=\"black\" d=\"M82.18,-64.38C72.66,-69.35 61.78,-75.03 52.25,-80.01\"/>\n",
       "</g>\n",
       "<!-- mq[3]&#45;&#45;mq[2] -->\n",
       "<g id=\"edge11\" class=\"edge\">\n",
       "<title>mq[3]&#45;&#45;mq[2]</title>\n",
       "<path fill=\"none\" stroke=\"black\" d=\"M67.71,-55.54C67.25,-66.33 66.71,-78.67 66.25,-89.46\"/>\n",
       "</g>\n",
       "<!-- mq[3]&#45;&#45;mq[1] -->\n",
       "<g id=\"edge10\" class=\"edge\">\n",
       "<title>mq[3]&#45;&#45;mq[1]</title>\n",
       "<path fill=\"none\" stroke=\"black\" d=\"M81.84,-52.42C85.05,-58.56 88.48,-65.14 91.69,-71.28\"/>\n",
       "</g>\n",
       "<!-- mq[3]&#45;&#45;mq[0] -->\n",
       "<g id=\"edge12\" class=\"edge\">\n",
       "<title>mq[3]&#45;&#45;mq[0]</title>\n",
       "<path fill=\"none\" stroke=\"black\" d=\"M54.02,-51.2C50.33,-57.03 46.37,-63.29 42.68,-69.13\"/>\n",
       "</g>\n",
       "<!-- mq[2]&#45;&#45;mq[1] -->\n",
       "<g id=\"edge13\" class=\"edge\">\n",
       "<title>mq[2]&#45;&#45;mq[1]</title>\n",
       "<path fill=\"none\" stroke=\"black\" d=\"M89.49,-104.32C89.62,-104.26 89.75,-104.19 89.88,-104.12\"/>\n",
       "</g>\n",
       "<!-- mq[2]&#45;&#45;mq[0] -->\n",
       "<g id=\"edge14\" class=\"edge\">\n",
       "<title>mq[2]&#45;&#45;mq[0]</title>\n",
       "<path fill=\"none\" stroke=\"black\" d=\"M41.58,-101.96C41.47,-101.88 41.35,-101.8 41.23,-101.73\"/>\n",
       "</g>\n",
       "<!-- mq[1]&#45;&#45;mq[0] -->\n",
       "<g id=\"edge15\" class=\"edge\">\n",
       "<title>mq[1]&#45;&#45;mq[0]</title>\n",
       "<path fill=\"none\" stroke=\"black\" d=\"M76.9,-95.01C69.92,-94.7 62.43,-94.37 55.44,-94.07\"/>\n",
       "</g>\n",
       "</g>\n",
       "</svg>\n"
      ],
      "text/plain": [
       "<graphviz.graphs.Graph at 0x15c0b46d0>"
      ]
     },
     "execution_count": 17,
     "metadata": {},
     "output_type": "execute_result"
    }
   ],
   "source": [
    "from pytket.utils import Graph\n",
    "\n",
    "Graph(qpe5_circ).get_qubit_graph()"
   ]
  },
  {
   "cell_type": "code",
   "execution_count": 18,
   "id": "0893b372-caec-4cc3-b46b-fadc67c70d66",
   "metadata": {
    "tags": []
   },
   "outputs": [
    {
     "data": {
      "image/png": "[encoded data removed]",
      "text/plain": [
       "<Figure size 200x200 with 1 Axes>"
      ]
     },
     "metadata": {},
     "output_type": "display_data"
    }
   ],
   "source": [
    "import networkx as nx\n",
    "import matplotlib.pyplot as plt\n",
    "\n",
    "coupling_graph = noisy_backend.backend_info.architecture.coupling\n",
    "G = nx.Graph(coupling_graph)\n",
    "plt.figure(figsize=(2,2))\n",
    "nx.draw(G)\n",
    "plt.show()"
   ]
  },
  {
   "cell_type": "code",
   "execution_count": 19,
   "id": "b84428eb-6aed-4203-ab61-20ca49a8070e",
   "metadata": {
    "slideshow": {
     "slide_type": "subslide"
    },
    "tags": []
   },
   "outputs": [
    {
     "name": "stdout",
     "output_type": "stream",
     "text": [
      "How many CX gates do we have? 136\n"
     ]
    }
   ],
   "source": [
    "compiled_circuit_l0 = noisy_backend.get_compiled_circuit(qpe5_circ, optimisation_level=0)\n",
    "\n",
    "cx_count = compiled_circuit_l0.n_2qb_gates()\n",
    "print(\"How many CX gates do we have?\" ,cx_count)"
   ]
  },
  {
   "cell_type": "code",
   "execution_count": 20,
   "id": "267d1c66-f01e-48ea-a2f5-cde99bd3c05c",
   "metadata": {
    "slideshow": {
     "slide_type": "subslide"
    },
    "tags": []
   },
   "outputs": [
    {
     "data": {
      "text/html": [
       "\n",
       "\n",
       "\n",
       "\n",
       "\n",
       "\n",
       "<iframe srcdoc=\"\n",
       "&lt;!DOCTYPE html&gt;\n",
       "&lt;html lang=&#34;en&#34;&gt;\n",
       "&lt;head&gt;\n",
       "    &lt;meta charset=&#34;UTF-8&#34;&gt;\n",
       "    &lt;!-- Download Vue 3--&gt;\n",
       "&lt;script type=&#34;application/javascript&#34; src=&#34;https://cdn.jsdelivr.net/npm/vue@3&#34;&gt;&lt;/script&gt;\n",
       "&lt;!-- Download Circuit Renderer with styles --&gt;\n",
       "&lt;script type=&#34;application/javascript&#34; src=&#34;https://unpkg.com/pytket-circuit-renderer@0.5/dist/pytket-circuit-renderer.umd.js&#34;&gt;&lt;/script&gt;\n",
       "&lt;link rel=&#34;stylesheet&#34; href=&#34;https://unpkg.com/pytket-circuit-renderer@0.5/dist/pytket-circuit-renderer.css&#34;&gt;\n",
       "&lt;/head&gt;\n",
       "&lt;body&gt;\n",
       "    &lt;div id=&#34;circuit-display-vue-container-de427c44-1a0a-4d05-8fec-0a2c677c6915&#34; class=&#34;pytket-circuit-display-container&#34;&gt;\n",
       "        &lt;div style=&#34;display: none&#34;&gt;\n",
       "            &lt;div id=&#34;circuit-json-to-display&#34;&gt;{&#34;bits&#34;: [[&#34;mb&#34;, [0]], [&#34;mb&#34;, [1]], [&#34;mb&#34;, [2]], [&#34;mb&#34;, [3]], [&#34;mb&#34;, [4]]], &#34;commands&#34;: [{&#34;args&#34;: [[&#34;node&#34;, [0]]], &#34;op&#34;: {&#34;params&#34;: [&#34;0.5&#34;], &#34;type&#34;: &#34;Rz&#34;}}, {&#34;args&#34;: [[&#34;node&#34;, [1]]], &#34;op&#34;: {&#34;params&#34;: [&#34;0.5&#34;], &#34;type&#34;: &#34;Rz&#34;}}, {&#34;args&#34;: [[&#34;node&#34;, [3]]], &#34;op&#34;: {&#34;params&#34;: [&#34;0.5&#34;], &#34;type&#34;: &#34;Rz&#34;}}, {&#34;args&#34;: [[&#34;node&#34;, [4]]], &#34;op&#34;: {&#34;params&#34;: [&#34;0.5&#34;], &#34;type&#34;: &#34;Rz&#34;}}, {&#34;args&#34;: [[&#34;node&#34;, [5]]], &#34;op&#34;: {&#34;type&#34;: &#34;X&#34;}}, {&#34;args&#34;: [[&#34;node&#34;, [6]]], &#34;op&#34;: {&#34;params&#34;: [&#34;0.5&#34;], &#34;type&#34;: &#34;Rz&#34;}}, {&#34;args&#34;: [[&#34;node&#34;, [0]]], &#34;op&#34;: {&#34;type&#34;: &#34;SX&#34;}}, {&#34;args&#34;: [[&#34;node&#34;, [1]]], &#34;op&#34;: {&#34;type&#34;: &#34;SX&#34;}}, {&#34;args&#34;: [[&#34;node&#34;, [3]]], &#34;op&#34;: {&#34;type&#34;: &#34;SX&#34;}}, {&#34;args&#34;: [[&#34;node&#34;, [4]]], &#34;op&#34;: {&#34;type&#34;: &#34;SX&#34;}}, {&#34;args&#34;: [[&#34;node&#34;, [5]]], &#34;op&#34;: {&#34;type&#34;: &#34;SX&#34;}}, {&#34;args&#34;: [[&#34;node&#34;, [6]]], &#34;op&#34;: {&#34;type&#34;: &#34;SX&#34;}}, {&#34;args&#34;: [[&#34;node&#34;, [0]]], &#34;op&#34;: {&#34;params&#34;: [&#34;0.5&#34;], &#34;type&#34;: &#34;Rz&#34;}}, {&#34;args&#34;: [[&#34;node&#34;, [1]]], &#34;op&#34;: {&#34;params&#34;: [&#34;0.5&#34;], &#34;type&#34;: &#34;Rz&#34;}}, {&#34;args&#34;: [[&#34;node&#34;, [3]]], &#34;op&#34;: {&#34;params&#34;: [&#34;0.5&#34;], &#34;type&#34;: &#34;Rz&#34;}}, {&#34;args&#34;: [[&#34;node&#34;, [4]]], &#34;op&#34;: {&#34;params&#34;: [&#34;0.5&#34;], &#34;type&#34;: &#34;Rz&#34;}}, {&#34;args&#34;: [[&#34;node&#34;, [5]]], &#34;op&#34;: {&#34;params&#34;: [&#34;0.5&#34;], &#34;type&#34;: &#34;Rz&#34;}}, {&#34;args&#34;: [[&#34;node&#34;, [6]]], &#34;op&#34;: {&#34;params&#34;: [&#34;0.5&#34;], &#34;type&#34;: &#34;Rz&#34;}}, {&#34;args&#34;: [[&#34;node&#34;, [0]]], &#34;op&#34;: {&#34;type&#34;: &#34;SX&#34;}}, {&#34;args&#34;: [[&#34;node&#34;, [1]]], &#34;op&#34;: {&#34;type&#34;: &#34;SX&#34;}}, {&#34;args&#34;: [[&#34;node&#34;, [3]]], &#34;op&#34;: {&#34;type&#34;: &#34;SX&#34;}}, {&#34;args&#34;: [[&#34;node&#34;, [4]]], &#34;op&#34;: {&#34;type&#34;: &#34;SX&#34;}}, {&#34;args&#34;: [[&#34;node&#34;, [5]]], &#34;op&#34;: {&#34;type&#34;: &#34;X&#34;}}, {&#34;args&#34;: [[&#34;node&#34;, [6]]], &#34;op&#34;: {&#34;type&#34;: &#34;SX&#34;}}, {&#34;args&#34;: [[&#34;node&#34;, [0]]], &#34;op&#34;: {&#34;params&#34;: [&#34;-0.5&#34;], &#34;type&#34;: &#34;Rz&#34;}}, {&#34;args&#34;: [[&#34;node&#34;, [1]]], &#34;op&#34;: {&#34;params&#34;: [&#34;-0.5&#34;], &#34;type&#34;: &#34;Rz&#34;}}, {&#34;args&#34;: [[&#34;node&#34;, [3]]], &#34;op&#34;: {&#34;params&#34;: [&#34;-0.5&#34;], &#34;type&#34;: &#34;Rz&#34;}}, {&#34;args&#34;: [[&#34;node&#34;, [4]]], &#34;op&#34;: {&#34;params&#34;: [&#34;-0.5&#34;], &#34;type&#34;: &#34;Rz&#34;}}, {&#34;args&#34;: [[&#34;node&#34;, [5]]], &#34;op&#34;: {&#34;type&#34;: &#34;SX&#34;}}, {&#34;args&#34;: [[&#34;node&#34;, [6]]], &#34;op&#34;: {&#34;params&#34;: [&#34;-0.5&#34;], &#34;type&#34;: &#34;Rz&#34;}}, {&#34;args&#34;: [[&#34;node&#34;, [0]]], &#34;op&#34;: {&#34;type&#34;: &#34;SX&#34;}}, {&#34;args&#34;: [[&#34;node&#34;, [1]]], &#34;op&#34;: {&#34;type&#34;: &#34;SX&#34;}}, {&#34;args&#34;: [[&#34;node&#34;, [3]]], &#34;op&#34;: {&#34;type&#34;: &#34;SX&#34;}}, {&#34;args&#34;: [[&#34;node&#34;, [4]]], &#34;op&#34;: {&#34;type&#34;: &#34;SX&#34;}}, {&#34;args&#34;: [[&#34;node&#34;, [6]]], &#34;op&#34;: {&#34;type&#34;: &#34;SX&#34;}}, {&#34;args&#34;: [[&#34;node&#34;, [0]]], &#34;op&#34;: {&#34;params&#34;: [&#34;0.5&#34;], &#34;type&#34;: &#34;Rz&#34;}}, {&#34;args&#34;: [[&#34;node&#34;, [1]]], &#34;op&#34;: {&#34;params&#34;: [&#34;0.5&#34;], &#34;type&#34;: &#34;Rz&#34;}}, {&#34;args&#34;: [[&#34;node&#34;, [3]]], &#34;op&#34;: {&#34;params&#34;: [&#34;0.5&#34;], &#34;type&#34;: &#34;Rz&#34;}}, {&#34;args&#34;: [[&#34;node&#34;, [4]]], &#34;op&#34;: {&#34;params&#34;: [&#34;0.5&#34;], &#34;type&#34;: &#34;Rz&#34;}}, {&#34;args&#34;: [[&#34;node&#34;, [6]]], &#34;op&#34;: {&#34;params&#34;: [&#34;0.5&#34;], &#34;type&#34;: &#34;Rz&#34;}}, {&#34;args&#34;: [[&#34;node&#34;, [5]], [&#34;node&#34;, [3]]], &#34;op&#34;: {&#34;type&#34;: &#34;CX&#34;}}, {&#34;args&#34;: [[&#34;node&#34;, [3]], [&#34;node&#34;, [5]]], &#34;op&#34;: {&#34;type&#34;: &#34;CX&#34;}}, {&#34;args&#34;: [[&#34;node&#34;, [5]], [&#34;node&#34;, [3]]], &#34;op&#34;: {&#34;type&#34;: &#34;CX&#34;}}, {&#34;args&#34;: [[&#34;node&#34;, [1]], [&#34;node&#34;, [3]]], &#34;op&#34;: {&#34;type&#34;: &#34;CX&#34;}}, {&#34;args&#34;: [[&#34;node&#34;, [1]]], &#34;op&#34;: {&#34;type&#34;: &#34;SX&#34;}}, {&#34;args&#34;: [[&#34;node&#34;, [3]]], &#34;op&#34;: {&#34;type&#34;: &#34;X&#34;}}, {&#34;args&#34;: [[&#34;node&#34;, [1]]], &#34;op&#34;: {&#34;params&#34;: [&#34;0.4&#34;], &#34;type&#34;: &#34;Rz&#34;}}, {&#34;args&#34;: [[&#34;node&#34;, [3]]], &#34;op&#34;: {&#34;type&#34;: &#34;SX&#34;}}, {&#34;args&#34;: [[&#34;node&#34;, [1]]], &#34;op&#34;: {&#34;type&#34;: &#34;SX&#34;}}, {&#34;args&#34;: [[&#34;node&#34;, [1]]], &#34;op&#34;: {&#34;params&#34;: [&#34;0.5&#34;], &#34;type&#34;: &#34;Rz&#34;}}, {&#34;args&#34;: [[&#34;node&#34;, [1]], [&#34;node&#34;, [3]]], &#34;op&#34;: {&#34;type&#34;: &#34;CX&#34;}}, {&#34;args&#34;: [[&#34;node&#34;, [1]]], &#34;op&#34;: {&#34;type&#34;: &#34;SX&#34;}}, {&#34;args&#34;: [[&#34;node&#34;, [3]]], &#34;op&#34;: {&#34;params&#34;: [&#34;0.5&#34;], &#34;type&#34;: &#34;Rz&#34;}}, {&#34;args&#34;: [[&#34;node&#34;, [1]]], &#34;op&#34;: {&#34;params&#34;: [&#34;-0.5&#34;], &#34;type&#34;: &#34;Rz&#34;}}, {&#34;args&#34;: [[&#34;node&#34;, [3]]], &#34;op&#34;: {&#34;type&#34;: &#34;SX&#34;}}, {&#34;args&#34;: [[&#34;node&#34;, [1]]], &#34;op&#34;: {&#34;type&#34;: &#34;SX&#34;}}, {&#34;args&#34;: [[&#34;node&#34;, [3]]], &#34;op&#34;: {&#34;params&#34;: [&#34;1.4&#34;], &#34;type&#34;: &#34;Rz&#34;}}, {&#34;args&#34;: [[&#34;node&#34;, [1]]], &#34;op&#34;: {&#34;params&#34;: [&#34;-0.6&#34;], &#34;type&#34;: &#34;Rz&#34;}}, {&#34;args&#34;: [[&#34;node&#34;, [3]]], &#34;op&#34;: {&#34;type&#34;: &#34;SX&#34;}}, {&#34;args&#34;: [[&#34;node&#34;, [1]]], &#34;op&#34;: {&#34;type&#34;: &#34;SX&#34;}}, {&#34;args&#34;: [[&#34;node&#34;, [3]]], &#34;op&#34;: {&#34;params&#34;: [&#34;0.5&#34;], &#34;type&#34;: &#34;Rz&#34;}}, {&#34;args&#34;: [[&#34;node&#34;, [0]], [&#34;node&#34;, [1]]], &#34;op&#34;: {&#34;type&#34;: &#34;CX&#34;}}, {&#34;args&#34;: [[&#34;node&#34;, [3]]], &#34;op&#34;: {&#34;type&#34;: &#34;X&#34;}}, {&#34;args&#34;: [[&#34;node&#34;, [1]], [&#34;node&#34;, [0]]], &#34;op&#34;: {&#34;type&#34;: &#34;CX&#34;}}, {&#34;args&#34;: [[&#34;node&#34;, [3]]], &#34;op&#34;: {&#34;type&#34;: &#34;SX&#34;}}, {&#34;args&#34;: [[&#34;node&#34;, [0]], [&#34;node&#34;, [1]]], &#34;op&#34;: {&#34;type&#34;: &#34;CX&#34;}}, {&#34;args&#34;: [[&#34;node&#34;, [1]], [&#34;node&#34;, [3]]], &#34;op&#34;: {&#34;type&#34;: &#34;CX&#34;}}, {&#34;args&#34;: [[&#34;node&#34;, [1]]], &#34;op&#34;: {&#34;type&#34;: &#34;SX&#34;}}, {&#34;args&#34;: [[&#34;node&#34;, [3]]], &#34;op&#34;: {&#34;type&#34;: &#34;X&#34;}}, {&#34;args&#34;: [[&#34;node&#34;, [1]]], &#34;op&#34;: {&#34;params&#34;: [&#34;0.4&#34;], &#34;type&#34;: &#34;Rz&#34;}}, {&#34;args&#34;: [[&#34;node&#34;, [3]]], &#34;op&#34;: {&#34;type&#34;: &#34;SX&#34;}}, {&#34;args&#34;: [[&#34;node&#34;, [1]]], &#34;op&#34;: {&#34;type&#34;: &#34;SX&#34;}}, {&#34;args&#34;: [[&#34;node&#34;, [1]]], &#34;op&#34;: {&#34;params&#34;: [&#34;0.5&#34;], &#34;type&#34;: &#34;Rz&#34;}}, {&#34;args&#34;: [[&#34;node&#34;, [1]], [&#34;node&#34;, [3]]], &#34;op&#34;: {&#34;type&#34;: &#34;CX&#34;}}, {&#34;args&#34;: [[&#34;node&#34;, [1]]], &#34;op&#34;: {&#34;type&#34;: &#34;SX&#34;}}, {&#34;args&#34;: [[&#34;node&#34;, [3]]], &#34;op&#34;: {&#34;params&#34;: [&#34;0.5&#34;], &#34;type&#34;: &#34;Rz&#34;}}, {&#34;args&#34;: [[&#34;node&#34;, [1]]], &#34;op&#34;: {&#34;params&#34;: [&#34;-0.5&#34;], &#34;type&#34;: &#34;Rz&#34;}}, {&#34;args&#34;: [[&#34;node&#34;, [3]]], &#34;op&#34;: {&#34;type&#34;: &#34;SX&#34;}}, {&#34;args&#34;: [[&#34;node&#34;, [1]]], &#34;op&#34;: {&#34;type&#34;: &#34;SX&#34;}}, {&#34;args&#34;: [[&#34;node&#34;, [3]]], &#34;op&#34;: {&#34;params&#34;: [&#34;1.4&#34;], &#34;type&#34;: &#34;Rz&#34;}}, {&#34;args&#34;: [[&#34;node&#34;, [1]]], &#34;op&#34;: {&#34;params&#34;: [&#34;-0.6&#34;], &#34;type&#34;: &#34;Rz&#34;}}, {&#34;args&#34;: [[&#34;node&#34;, [3]]], &#34;op&#34;: {&#34;type&#34;: &#34;SX&#34;}}, {&#34;args&#34;: [[&#34;node&#34;, [1]]], &#34;op&#34;: {&#34;type&#34;: &#34;SX&#34;}}, {&#34;args&#34;: [[&#34;node&#34;, [3]]], &#34;op&#34;: {&#34;params&#34;: [&#34;0.5&#34;], &#34;type&#34;: &#34;Rz&#34;}}, {&#34;args&#34;: [[&#34;node&#34;, [1]]], &#34;op&#34;: {&#34;params&#34;: [&#34;-0.5&#34;], &#34;type&#34;: &#34;Rz&#34;}}, {&#34;args&#34;: [[&#34;node&#34;, [3]]], &#34;op&#34;: {&#34;type&#34;: &#34;X&#34;}}, {&#34;args&#34;: [[&#34;node&#34;, [1]]], &#34;op&#34;: {&#34;type&#34;: &#34;SX&#34;}}, {&#34;args&#34;: [[&#34;node&#34;, [3]]], &#34;op&#34;: {&#34;type&#34;: &#34;SX&#34;}}, {&#34;args&#34;: [[&#34;node&#34;, [1]]], &#34;op&#34;: {&#34;params&#34;: [&#34;0.5&#34;], &#34;type&#34;: &#34;Rz&#34;}}, {&#34;args&#34;: [[&#34;node&#34;, [1]], [&#34;node&#34;, [3]]], &#34;op&#34;: {&#34;type&#34;: &#34;CX&#34;}}, {&#34;args&#34;: [[&#34;node&#34;, [1]]], &#34;op&#34;: {&#34;type&#34;: &#34;SX&#34;}}, {&#34;args&#34;: [[&#34;node&#34;, [3]]], &#34;op&#34;: {&#34;type&#34;: &#34;X&#34;}}, {&#34;args&#34;: [[&#34;node&#34;, [1]]], &#34;op&#34;: {&#34;params&#34;: [&#34;0.4&#34;], &#34;type&#34;: &#34;Rz&#34;}}, {&#34;args&#34;: [[&#34;node&#34;, [3]]], &#34;op&#34;: {&#34;type&#34;: &#34;SX&#34;}}, {&#34;args&#34;: [[&#34;node&#34;, [1]]], &#34;op&#34;: {&#34;type&#34;: &#34;SX&#34;}}, {&#34;args&#34;: [[&#34;node&#34;, [1]]], &#34;op&#34;: {&#34;params&#34;: [&#34;0.5&#34;], &#34;type&#34;: &#34;Rz&#34;}}, {&#34;args&#34;: [[&#34;node&#34;, [1]], [&#34;node&#34;, [3]]], &#34;op&#34;: {&#34;type&#34;: &#34;CX&#34;}}, {&#34;args&#34;: [[&#34;node&#34;, [1]]], &#34;op&#34;: {&#34;type&#34;: &#34;SX&#34;}}, {&#34;args&#34;: [[&#34;node&#34;, [3]]], &#34;op&#34;: {&#34;params&#34;: [&#34;0.5&#34;], &#34;type&#34;: &#34;Rz&#34;}}, {&#34;args&#34;: [[&#34;node&#34;, [1]]], &#34;op&#34;: {&#34;params&#34;: [&#34;-0.5&#34;], &#34;type&#34;: &#34;Rz&#34;}}, {&#34;args&#34;: [[&#34;node&#34;, [3]]], &#34;op&#34;: {&#34;type&#34;: &#34;SX&#34;}}, {&#34;args&#34;: [[&#34;node&#34;, [1]]], &#34;op&#34;: {&#34;type&#34;: &#34;SX&#34;}}, {&#34;args&#34;: [[&#34;node&#34;, [3]]], &#34;op&#34;: {&#34;params&#34;: [&#34;1.4&#34;], &#34;type&#34;: &#34;Rz&#34;}}, {&#34;args&#34;: [[&#34;node&#34;, [1]]], &#34;op&#34;: {&#34;params&#34;: [&#34;-0.6&#34;], &#34;type&#34;: &#34;Rz&#34;}}, {&#34;args&#34;: [[&#34;node&#34;, [3]]], &#34;op&#34;: {&#34;type&#34;: &#34;SX&#34;}}, {&#34;args&#34;: [[&#34;node&#34;, [1]]], &#34;op&#34;: {&#34;type&#34;: &#34;SX&#34;}}, {&#34;args&#34;: [[&#34;node&#34;, [3]]], &#34;op&#34;: {&#34;params&#34;: [&#34;0.5&#34;], &#34;type&#34;: &#34;Rz&#34;}}, {&#34;args&#34;: [[&#34;node&#34;, [3]]], &#34;op&#34;: {&#34;type&#34;: &#34;X&#34;}}, {&#34;args&#34;: [[&#34;node&#34;, [3]]], &#34;op&#34;: {&#34;type&#34;: &#34;SX&#34;}}, {&#34;args&#34;: [[&#34;node&#34;, [3]], [&#34;node&#34;, [5]]], &#34;op&#34;: {&#34;type&#34;: &#34;CX&#34;}}, {&#34;args&#34;: [[&#34;node&#34;, [5]], [&#34;node&#34;, [3]]], &#34;op&#34;: {&#34;type&#34;: &#34;CX&#34;}}, {&#34;args&#34;: [[&#34;node&#34;, [3]], [&#34;node&#34;, [5]]], &#34;op&#34;: {&#34;type&#34;: &#34;CX&#34;}}, {&#34;args&#34;: [[&#34;node&#34;, [6]], [&#34;node&#34;, [5]]], &#34;op&#34;: {&#34;type&#34;: &#34;CX&#34;}}, {&#34;args&#34;: [[&#34;node&#34;, [5]]], &#34;op&#34;: {&#34;type&#34;: &#34;X&#34;}}, {&#34;args&#34;: [[&#34;node&#34;, [6]]], &#34;op&#34;: {&#34;type&#34;: &#34;SX&#34;}}, {&#34;args&#34;: [[&#34;node&#34;, [5]]], &#34;op&#34;: {&#34;type&#34;: &#34;SX&#34;}}, {&#34;args&#34;: [[&#34;node&#34;, [6]]], &#34;op&#34;: {&#34;params&#34;: [&#34;0.4&#34;], &#34;type&#34;: &#34;Rz&#34;}}, {&#34;args&#34;: [[&#34;node&#34;, [6]]], &#34;op&#34;: {&#34;type&#34;: &#34;SX&#34;}}, {&#34;args&#34;: [[&#34;node&#34;, [6]]], &#34;op&#34;: {&#34;params&#34;: [&#34;0.5&#34;], &#34;type&#34;: &#34;Rz&#34;}}, {&#34;args&#34;: [[&#34;node&#34;, [6]], [&#34;node&#34;, [5]]], &#34;op&#34;: {&#34;type&#34;: &#34;CX&#34;}}, {&#34;args&#34;: [[&#34;node&#34;, [5]]], &#34;op&#34;: {&#34;params&#34;: [&#34;0.5&#34;], &#34;type&#34;: &#34;Rz&#34;}}, {&#34;args&#34;: [[&#34;node&#34;, [6]]], &#34;op&#34;: {&#34;type&#34;: &#34;SX&#34;}}, {&#34;args&#34;: [[&#34;node&#34;, [5]]], &#34;op&#34;: {&#34;type&#34;: &#34;SX&#34;}}, {&#34;args&#34;: [[&#34;node&#34;, [6]]], &#34;op&#34;: {&#34;params&#34;: [&#34;-0.5&#34;], &#34;type&#34;: &#34;Rz&#34;}}, {&#34;args&#34;: [[&#34;node&#34;, [5]]], &#34;op&#34;: {&#34;params&#34;: [&#34;1.4&#34;], &#34;type&#34;: &#34;Rz&#34;}}, {&#34;args&#34;: [[&#34;node&#34;, [6]]], &#34;op&#34;: {&#34;type&#34;: &#34;SX&#34;}}, {&#34;args&#34;: [[&#34;node&#34;, [5]]], &#34;op&#34;: {&#34;type&#34;: &#34;SX&#34;}}, {&#34;args&#34;: [[&#34;node&#34;, [6]]], &#34;op&#34;: {&#34;params&#34;: [&#34;-0.6&#34;], &#34;type&#34;: &#34;Rz&#34;}}, {&#34;args&#34;: [[&#34;node&#34;, [5]]], &#34;op&#34;: {&#34;params&#34;: [&#34;0.5&#34;], &#34;type&#34;: &#34;Rz&#34;}}, {&#34;args&#34;: [[&#34;node&#34;, [6]]], &#34;op&#34;: {&#34;type&#34;: &#34;SX&#34;}}, {&#34;args&#34;: [[&#34;node&#34;, [5]]], &#34;op&#34;: {&#34;type&#34;: &#34;X&#34;}}, {&#34;args&#34;: [[&#34;node&#34;, [6]]], &#34;op&#34;: {&#34;params&#34;: [&#34;-0.5&#34;], &#34;type&#34;: &#34;Rz&#34;}}, {&#34;args&#34;: [[&#34;node&#34;, [5]]], &#34;op&#34;: {&#34;type&#34;: &#34;SX&#34;}}, {&#34;args&#34;: [[&#34;node&#34;, [6]]], &#34;op&#34;: {&#34;type&#34;: &#34;SX&#34;}}, {&#34;args&#34;: [[&#34;node&#34;, [6]]], &#34;op&#34;: {&#34;params&#34;: [&#34;0.5&#34;], &#34;type&#34;: &#34;Rz&#34;}}, {&#34;args&#34;: [[&#34;node&#34;, [6]], [&#34;node&#34;, [5]]], &#34;op&#34;: {&#34;type&#34;: &#34;CX&#34;}}, {&#34;args&#34;: [[&#34;node&#34;, [5]]], &#34;op&#34;: {&#34;type&#34;: &#34;X&#34;}}, {&#34;args&#34;: [[&#34;node&#34;, [6]]], &#34;op&#34;: {&#34;type&#34;: &#34;SX&#34;}}, {&#34;args&#34;: [[&#34;node&#34;, [5]]], &#34;op&#34;: {&#34;type&#34;: &#34;SX&#34;}}, {&#34;args&#34;: [[&#34;node&#34;, [6]]], &#34;op&#34;: {&#34;params&#34;: [&#34;0.4&#34;], &#34;type&#34;: &#34;Rz&#34;}}, {&#34;args&#34;: [[&#34;node&#34;, [6]]], &#34;op&#34;: {&#34;type&#34;: &#34;SX&#34;}}, {&#34;args&#34;: [[&#34;node&#34;, [6]]], &#34;op&#34;: {&#34;params&#34;: [&#34;0.5&#34;], &#34;type&#34;: &#34;Rz&#34;}}, {&#34;args&#34;: [[&#34;node&#34;, [6]], [&#34;node&#34;, [5]]], &#34;op&#34;: {&#34;type&#34;: &#34;CX&#34;}}, {&#34;args&#34;: [[&#34;node&#34;, [5]]], &#34;op&#34;: {&#34;params&#34;: [&#34;0.5&#34;], &#34;type&#34;: &#34;Rz&#34;}}, {&#34;args&#34;: [[&#34;node&#34;, [6]]], &#34;op&#34;: {&#34;type&#34;: &#34;SX&#34;}}, {&#34;args&#34;: [[&#34;node&#34;, [5]]], &#34;op&#34;: {&#34;type&#34;: &#34;SX&#34;}}, {&#34;args&#34;: [[&#34;node&#34;, [6]]], &#34;op&#34;: {&#34;params&#34;: [&#34;-0.5&#34;], &#34;type&#34;: &#34;Rz&#34;}}, {&#34;args&#34;: [[&#34;node&#34;, [5]]], &#34;op&#34;: {&#34;params&#34;: [&#34;1.4&#34;], &#34;type&#34;: &#34;Rz&#34;}}, {&#34;args&#34;: [[&#34;node&#34;, [6]]], &#34;op&#34;: {&#34;type&#34;: &#34;SX&#34;}}, {&#34;args&#34;: [[&#34;node&#34;, [5]]], &#34;op&#34;: {&#34;type&#34;: &#34;SX&#34;}}, {&#34;args&#34;: [[&#34;node&#34;, [6]]], &#34;op&#34;: {&#34;params&#34;: [&#34;-0.6&#34;], &#34;type&#34;: &#34;Rz&#34;}}, {&#34;args&#34;: [[&#34;node&#34;, [5]]], &#34;op&#34;: {&#34;params&#34;: [&#34;0.5&#34;], &#34;type&#34;: &#34;Rz&#34;}}, {&#34;args&#34;: [[&#34;node&#34;, [6]]], &#34;op&#34;: {&#34;type&#34;: &#34;SX&#34;}}, {&#34;args&#34;: [[&#34;node&#34;, [5]]], &#34;op&#34;: {&#34;type&#34;: &#34;X&#34;}}, {&#34;args&#34;: [[&#34;node&#34;, [6]]], &#34;op&#34;: {&#34;params&#34;: [&#34;-0.5&#34;], &#34;type&#34;: &#34;Rz&#34;}}, {&#34;args&#34;: [[&#34;node&#34;, [5]]], &#34;op&#34;: {&#34;type&#34;: &#34;SX&#34;}}, {&#34;args&#34;: [[&#34;node&#34;, [6]]], &#34;op&#34;: {&#34;type&#34;: &#34;SX&#34;}}, {&#34;args&#34;: [[&#34;node&#34;, [6]]], &#34;op&#34;: {&#34;params&#34;: [&#34;0.5&#34;], &#34;type&#34;: &#34;Rz&#34;}}, {&#34;args&#34;: [[&#34;node&#34;, [6]], [&#34;node&#34;, [5]]], &#34;op&#34;: {&#34;type&#34;: &#34;CX&#34;}}, {&#34;args&#34;: [[&#34;node&#34;, [5]]], &#34;op&#34;: {&#34;type&#34;: &#34;X&#34;}}, {&#34;args&#34;: [[&#34;node&#34;, [6]]], &#34;op&#34;: {&#34;type&#34;: &#34;SX&#34;}}, {&#34;args&#34;: [[&#34;node&#34;, [5]]], &#34;op&#34;: {&#34;type&#34;: &#34;SX&#34;}}, {&#34;args&#34;: [[&#34;node&#34;, [6]]], &#34;op&#34;: {&#34;params&#34;: [&#34;0.4&#34;], &#34;type&#34;: &#34;Rz&#34;}}, {&#34;args&#34;: [[&#34;node&#34;, [6]]], &#34;op&#34;: {&#34;type&#34;: &#34;SX&#34;}}, {&#34;args&#34;: [[&#34;node&#34;, [6]]], &#34;op&#34;: {&#34;params&#34;: [&#34;0.5&#34;], &#34;type&#34;: &#34;Rz&#34;}}, {&#34;args&#34;: [[&#34;node&#34;, [6]], [&#34;node&#34;, [5]]], &#34;op&#34;: {&#34;type&#34;: &#34;CX&#34;}}, {&#34;args&#34;: [[&#34;node&#34;, [5]]], &#34;op&#34;: {&#34;params&#34;: [&#34;0.5&#34;], &#34;type&#34;: &#34;Rz&#34;}}, {&#34;args&#34;: [[&#34;node&#34;, [6]]], &#34;op&#34;: {&#34;type&#34;: &#34;SX&#34;}}, {&#34;args&#34;: [[&#34;node&#34;, [5]]], &#34;op&#34;: {&#34;type&#34;: &#34;SX&#34;}}, {&#34;args&#34;: [[&#34;node&#34;, [6]]], &#34;op&#34;: {&#34;params&#34;: [&#34;-0.5&#34;], &#34;type&#34;: &#34;Rz&#34;}}, {&#34;args&#34;: [[&#34;node&#34;, [5]]], &#34;op&#34;: {&#34;params&#34;: [&#34;1.4&#34;], &#34;type&#34;: &#34;Rz&#34;}}, {&#34;args&#34;: [[&#34;node&#34;, [6]]], &#34;op&#34;: {&#34;type&#34;: &#34;SX&#34;}}, {&#34;args&#34;: [[&#34;node&#34;, [5]]], &#34;op&#34;: {&#34;type&#34;: &#34;SX&#34;}}, {&#34;args&#34;: [[&#34;node&#34;, [6]]], &#34;op&#34;: {&#34;params&#34;: [&#34;-0.6&#34;], &#34;type&#34;: &#34;Rz&#34;}}, {&#34;args&#34;: [[&#34;node&#34;, [5]]], &#34;op&#34;: {&#34;params&#34;: [&#34;0.5&#34;], &#34;type&#34;: &#34;Rz&#34;}}, {&#34;args&#34;: [[&#34;node&#34;, [6]]], &#34;op&#34;: {&#34;type&#34;: &#34;SX&#34;}}, {&#34;args&#34;: [[&#34;node&#34;, [5]]], &#34;op&#34;: {&#34;type&#34;: &#34;X&#34;}}, {&#34;args&#34;: [[&#34;node&#34;, [6]]], &#34;op&#34;: {&#34;params&#34;: [&#34;-0.5&#34;], &#34;type&#34;: &#34;Rz&#34;}}, {&#34;args&#34;: [[&#34;node&#34;, [5]]], &#34;op&#34;: {&#34;type&#34;: &#34;SX&#34;}}, {&#34;args&#34;: [[&#34;node&#34;, [6]]], &#34;op&#34;: {&#34;type&#34;: &#34;SX&#34;}}, {&#34;args&#34;: [[&#34;node&#34;, [6]]], &#34;op&#34;: {&#34;params&#34;: [&#34;0.5&#34;], &#34;type&#34;: &#34;Rz&#34;}}, {&#34;args&#34;: [[&#34;node&#34;, [6]], [&#34;node&#34;, [5]]], &#34;op&#34;: {&#34;type&#34;: &#34;CX&#34;}}, {&#34;args&#34;: [[&#34;node&#34;, [5]]], &#34;op&#34;: {&#34;type&#34;: &#34;X&#34;}}, {&#34;args&#34;: [[&#34;node&#34;, [6]]], &#34;op&#34;: {&#34;type&#34;: &#34;SX&#34;}}, {&#34;args&#34;: [[&#34;node&#34;, [5]]], &#34;op&#34;: {&#34;type&#34;: &#34;SX&#34;}}, {&#34;args&#34;: [[&#34;node&#34;, [6]]], &#34;op&#34;: {&#34;params&#34;: [&#34;0.4&#34;], &#34;type&#34;: &#34;Rz&#34;}}, {&#34;args&#34;: [[&#34;node&#34;, [6]]], &#34;op&#34;: {&#34;type&#34;: &#34;SX&#34;}}, {&#34;args&#34;: [[&#34;node&#34;, [6]]], &#34;op&#34;: {&#34;params&#34;: [&#34;0.5&#34;], &#34;type&#34;: &#34;Rz&#34;}}, {&#34;args&#34;: [[&#34;node&#34;, [6]], [&#34;node&#34;, [5]]], &#34;op&#34;: {&#34;type&#34;: &#34;CX&#34;}}, {&#34;args&#34;: [[&#34;node&#34;, [5]]], &#34;op&#34;: {&#34;params&#34;: [&#34;0.5&#34;], &#34;type&#34;: &#34;Rz&#34;}}, {&#34;args&#34;: [[&#34;node&#34;, [6]]], &#34;op&#34;: {&#34;type&#34;: &#34;SX&#34;}}, {&#34;args&#34;: [[&#34;node&#34;, [5]]], &#34;op&#34;: {&#34;type&#34;: &#34;SX&#34;}}, {&#34;args&#34;: [[&#34;node&#34;, [6]]], &#34;op&#34;: {&#34;params&#34;: [&#34;-0.5&#34;], &#34;type&#34;: &#34;Rz&#34;}}, {&#34;args&#34;: [[&#34;node&#34;, [5]]], &#34;op&#34;: {&#34;params&#34;: [&#34;1.4&#34;], &#34;type&#34;: &#34;Rz&#34;}}, {&#34;args&#34;: [[&#34;node&#34;, [6]]], &#34;op&#34;: {&#34;type&#34;: &#34;SX&#34;}}, {&#34;args&#34;: [[&#34;node&#34;, [5]]], &#34;op&#34;: {&#34;type&#34;: &#34;SX&#34;}}, {&#34;args&#34;: [[&#34;node&#34;, [6]]], &#34;op&#34;: {&#34;params&#34;: [&#34;-1.1&#34;], &#34;type&#34;: &#34;Rz&#34;}}, {&#34;args&#34;: [[&#34;node&#34;, [5]]], &#34;op&#34;: {&#34;params&#34;: [&#34;0.5&#34;], &#34;type&#34;: &#34;Rz&#34;}}, {&#34;args&#34;: [[&#34;node&#34;, [6]]], &#34;op&#34;: {&#34;type&#34;: &#34;SX&#34;}}, {&#34;args&#34;: [[&#34;node&#34;, [5]]], &#34;op&#34;: {&#34;type&#34;: &#34;X&#34;}}, {&#34;args&#34;: [[&#34;node&#34;, [6]]], &#34;op&#34;: {&#34;params&#34;: [&#34;0.5&#34;], &#34;type&#34;: &#34;Rz&#34;}}, {&#34;args&#34;: [[&#34;node&#34;, [5]]], &#34;op&#34;: {&#34;type&#34;: &#34;SX&#34;}}, {&#34;args&#34;: [[&#34;node&#34;, [6]]], &#34;op&#34;: {&#34;type&#34;: &#34;X&#34;}}, {&#34;args&#34;: [[&#34;node&#34;, [3]], [&#34;node&#34;, [5]]], &#34;op&#34;: {&#34;type&#34;: &#34;CX&#34;}}, {&#34;args&#34;: [[&#34;node&#34;, [6]]], &#34;op&#34;: {&#34;type&#34;: &#34;SX&#34;}}, {&#34;args&#34;: [[&#34;node&#34;, [3]]], &#34;op&#34;: {&#34;type&#34;: &#34;SX&#34;}}, {&#34;args&#34;: [[&#34;node&#34;, [5]]], &#34;op&#34;: {&#34;type&#34;: &#34;X&#34;}}, {&#34;args&#34;: [[&#34;node&#34;, [3]]], &#34;op&#34;: {&#34;params&#34;: [&#34;0.4&#34;], &#34;type&#34;: &#34;Rz&#34;}}, {&#34;args&#34;: [[&#34;node&#34;, [5]]], &#34;op&#34;: {&#34;type&#34;: &#34;SX&#34;}}, {&#34;args&#34;: [[&#34;node&#34;, [3]]], &#34;op&#34;: {&#34;type&#34;: &#34;SX&#34;}}, {&#34;args&#34;: [[&#34;node&#34;, [3]]], &#34;op&#34;: {&#34;params&#34;: [&#34;0.5&#34;], &#34;type&#34;: &#34;Rz&#34;}}, {&#34;args&#34;: [[&#34;node&#34;, [3]], [&#34;node&#34;, [5]]], &#34;op&#34;: {&#34;type&#34;: &#34;CX&#34;}}, {&#34;args&#34;: [[&#34;node&#34;, [3]]], &#34;op&#34;: {&#34;type&#34;: &#34;SX&#34;}}, {&#34;args&#34;: [[&#34;node&#34;, [5]]], &#34;op&#34;: {&#34;params&#34;: [&#34;0.5&#34;], &#34;type&#34;: &#34;Rz&#34;}}, {&#34;args&#34;: [[&#34;node&#34;, [3]]], &#34;op&#34;: {&#34;params&#34;: [&#34;-0.5&#34;], &#34;type&#34;: &#34;Rz&#34;}}, {&#34;args&#34;: [[&#34;node&#34;, [5]]], &#34;op&#34;: {&#34;type&#34;: &#34;SX&#34;}}, {&#34;args&#34;: [[&#34;node&#34;, [3]]], &#34;op&#34;: {&#34;type&#34;: &#34;SX&#34;}}, {&#34;args&#34;: [[&#34;node&#34;, [5]]], &#34;op&#34;: {&#34;params&#34;: [&#34;1.4&#34;], &#34;type&#34;: &#34;Rz&#34;}}, {&#34;args&#34;: [[&#34;node&#34;, [3]]], &#34;op&#34;: {&#34;params&#34;: [&#34;-0.6&#34;], &#34;type&#34;: &#34;Rz&#34;}}, {&#34;args&#34;: [[&#34;node&#34;, [5]]], &#34;op&#34;: {&#34;type&#34;: &#34;SX&#34;}}, {&#34;args&#34;: [[&#34;node&#34;, [3]]], &#34;op&#34;: {&#34;type&#34;: &#34;SX&#34;}}, {&#34;args&#34;: [[&#34;node&#34;, [5]]], &#34;op&#34;: {&#34;params&#34;: [&#34;0.5&#34;], &#34;type&#34;: &#34;Rz&#34;}}, {&#34;args&#34;: [[&#34;node&#34;, [3]]], &#34;op&#34;: {&#34;params&#34;: [&#34;-0.5&#34;], &#34;type&#34;: &#34;Rz&#34;}}, {&#34;args&#34;: [[&#34;node&#34;, [5]]], &#34;op&#34;: {&#34;type&#34;: &#34;X&#34;}}, {&#34;args&#34;: [[&#34;node&#34;, [3]]], &#34;op&#34;: {&#34;type&#34;: &#34;SX&#34;}}, {&#34;args&#34;: [[&#34;node&#34;, [5]]], &#34;op&#34;: {&#34;type&#34;: &#34;SX&#34;}}, {&#34;args&#34;: [[&#34;node&#34;, [3]]], &#34;op&#34;: {&#34;params&#34;: [&#34;0.5&#34;], &#34;type&#34;: &#34;Rz&#34;}}, {&#34;args&#34;: [[&#34;node&#34;, [3]], [&#34;node&#34;, [5]]], &#34;op&#34;: {&#34;type&#34;: &#34;CX&#34;}}, {&#34;args&#34;: [[&#34;node&#34;, [3]]], &#34;op&#34;: {&#34;type&#34;: &#34;SX&#34;}}, {&#34;args&#34;: [[&#34;node&#34;, [5]]], &#34;op&#34;: {&#34;type&#34;: &#34;X&#34;}}, {&#34;args&#34;: [[&#34;node&#34;, [3]]], &#34;op&#34;: {&#34;params&#34;: [&#34;0.4&#34;], &#34;type&#34;: &#34;Rz&#34;}}, {&#34;args&#34;: [[&#34;node&#34;, [5]]], &#34;op&#34;: {&#34;type&#34;: &#34;SX&#34;}}, {&#34;args&#34;: [[&#34;node&#34;, [3]]], &#34;op&#34;: {&#34;type&#34;: &#34;SX&#34;}}, {&#34;args&#34;: [[&#34;node&#34;, [3]]], &#34;op&#34;: {&#34;params&#34;: [&#34;0.5&#34;], &#34;type&#34;: &#34;Rz&#34;}}, {&#34;args&#34;: [[&#34;node&#34;, [3]], [&#34;node&#34;, [5]]], &#34;op&#34;: {&#34;type&#34;: &#34;CX&#34;}}, {&#34;args&#34;: [[&#34;node&#34;, [3]]], &#34;op&#34;: {&#34;type&#34;: &#34;SX&#34;}}, {&#34;args&#34;: [[&#34;node&#34;, [5]]], &#34;op&#34;: {&#34;params&#34;: [&#34;0.5&#34;], &#34;type&#34;: &#34;Rz&#34;}}, {&#34;args&#34;: [[&#34;node&#34;, [3]]], &#34;op&#34;: {&#34;params&#34;: [&#34;-0.5&#34;], &#34;type&#34;: &#34;Rz&#34;}}, {&#34;args&#34;: [[&#34;node&#34;, [5]]], &#34;op&#34;: {&#34;type&#34;: &#34;SX&#34;}}, {&#34;args&#34;: [[&#34;node&#34;, [3]]], &#34;op&#34;: {&#34;type&#34;: &#34;SX&#34;}}, {&#34;args&#34;: [[&#34;node&#34;, [5]]], &#34;op&#34;: {&#34;params&#34;: [&#34;1.4&#34;], &#34;type&#34;: &#34;Rz&#34;}}, {&#34;args&#34;: [[&#34;node&#34;, [3]]], &#34;op&#34;: {&#34;params&#34;: [&#34;-0.6&#34;], &#34;type&#34;: &#34;Rz&#34;}}, {&#34;args&#34;: [[&#34;node&#34;, [5]]], &#34;op&#34;: {&#34;type&#34;: &#34;SX&#34;}}, {&#34;args&#34;: [[&#34;node&#34;, [3]]], &#34;op&#34;: {&#34;type&#34;: &#34;SX&#34;}}, {&#34;args&#34;: [[&#34;node&#34;, [5]]], &#34;op&#34;: {&#34;params&#34;: [&#34;0.5&#34;], &#34;type&#34;: &#34;Rz&#34;}}, {&#34;args&#34;: [[&#34;node&#34;, [3]]], &#34;op&#34;: {&#34;params&#34;: [&#34;-0.5&#34;], &#34;type&#34;: &#34;Rz&#34;}}, {&#34;args&#34;: [[&#34;node&#34;, [5]]], &#34;op&#34;: {&#34;type&#34;: &#34;X&#34;}}, {&#34;args&#34;: [[&#34;node&#34;, [3]]], &#34;op&#34;: {&#34;type&#34;: &#34;SX&#34;}}, {&#34;args&#34;: [[&#34;node&#34;, [5]]], &#34;op&#34;: {&#34;type&#34;: &#34;SX&#34;}}, {&#34;args&#34;: [[&#34;node&#34;, [3]]], &#34;op&#34;: {&#34;params&#34;: [&#34;0.5&#34;], &#34;type&#34;: &#34;Rz&#34;}}, {&#34;args&#34;: [[&#34;node&#34;, [3]], [&#34;node&#34;, [5]]], &#34;op&#34;: {&#34;type&#34;: &#34;CX&#34;}}, {&#34;args&#34;: [[&#34;node&#34;, [3]]], &#34;op&#34;: {&#34;type&#34;: &#34;SX&#34;}}, {&#34;args&#34;: [[&#34;node&#34;, [5]]], &#34;op&#34;: {&#34;type&#34;: &#34;X&#34;}}, {&#34;args&#34;: [[&#34;node&#34;, [3]]], &#34;op&#34;: {&#34;params&#34;: [&#34;0.4&#34;], &#34;type&#34;: &#34;Rz&#34;}}, {&#34;args&#34;: [[&#34;node&#34;, [5]]], &#34;op&#34;: {&#34;type&#34;: &#34;SX&#34;}}, {&#34;args&#34;: [[&#34;node&#34;, [3]]], &#34;op&#34;: {&#34;type&#34;: &#34;SX&#34;}}, {&#34;args&#34;: [[&#34;node&#34;, [3]]], &#34;op&#34;: {&#34;params&#34;: [&#34;0.5&#34;], &#34;type&#34;: &#34;Rz&#34;}}, {&#34;args&#34;: [[&#34;node&#34;, [3]], [&#34;node&#34;, [5]]], &#34;op&#34;: {&#34;type&#34;: &#34;CX&#34;}}, {&#34;args&#34;: [[&#34;node&#34;, [3]]], &#34;op&#34;: {&#34;type&#34;: &#34;SX&#34;}}, {&#34;args&#34;: [[&#34;node&#34;, [5]]], &#34;op&#34;: {&#34;params&#34;: [&#34;0.5&#34;], &#34;type&#34;: &#34;Rz&#34;}}, {&#34;args&#34;: [[&#34;node&#34;, [3]]], &#34;op&#34;: {&#34;params&#34;: [&#34;-0.5&#34;], &#34;type&#34;: &#34;Rz&#34;}}, {&#34;args&#34;: [[&#34;node&#34;, [5]]], &#34;op&#34;: {&#34;type&#34;: &#34;SX&#34;}}, {&#34;args&#34;: [[&#34;node&#34;, [3]]], &#34;op&#34;: {&#34;type&#34;: &#34;SX&#34;}}, {&#34;args&#34;: [[&#34;node&#34;, [5]]], &#34;op&#34;: {&#34;params&#34;: [&#34;1.4&#34;], &#34;type&#34;: &#34;Rz&#34;}}, {&#34;args&#34;: [[&#34;node&#34;, [3]]], &#34;op&#34;: {&#34;params&#34;: [&#34;-0.6&#34;], &#34;type&#34;: &#34;Rz&#34;}}, {&#34;args&#34;: [[&#34;node&#34;, [5]]], &#34;op&#34;: {&#34;type&#34;: &#34;SX&#34;}}, {&#34;args&#34;: [[&#34;node&#34;, [3]]], &#34;op&#34;: {&#34;type&#34;: &#34;SX&#34;}}, {&#34;args&#34;: [[&#34;node&#34;, [5]]], &#34;op&#34;: {&#34;params&#34;: [&#34;0.5&#34;], &#34;type&#34;: &#34;Rz&#34;}}, {&#34;args&#34;: [[&#34;node&#34;, [3]]], &#34;op&#34;: {&#34;params&#34;: [&#34;-0.5&#34;], &#34;type&#34;: &#34;Rz&#34;}}, {&#34;args&#34;: [[&#34;node&#34;, [5]]], &#34;op&#34;: {&#34;type&#34;: &#34;X&#34;}}, {&#34;args&#34;: [[&#34;node&#34;, [3]]], &#34;op&#34;: {&#34;type&#34;: &#34;SX&#34;}}, {&#34;args&#34;: [[&#34;node&#34;, [5]]], &#34;op&#34;: {&#34;type&#34;: &#34;SX&#34;}}, {&#34;args&#34;: [[&#34;node&#34;, [3]]], &#34;op&#34;: {&#34;params&#34;: [&#34;0.5&#34;], &#34;type&#34;: &#34;Rz&#34;}}, {&#34;args&#34;: [[&#34;node&#34;, [3]], [&#34;node&#34;, [5]]], &#34;op&#34;: {&#34;type&#34;: &#34;CX&#34;}}, {&#34;args&#34;: [[&#34;node&#34;, [3]]], &#34;op&#34;: {&#34;type&#34;: &#34;SX&#34;}}, {&#34;args&#34;: [[&#34;node&#34;, [5]]], &#34;op&#34;: {&#34;type&#34;: &#34;X&#34;}}, {&#34;args&#34;: [[&#34;node&#34;, [3]]], &#34;op&#34;: {&#34;params&#34;: [&#34;0.4&#34;], &#34;type&#34;: &#34;Rz&#34;}}, {&#34;args&#34;: [[&#34;node&#34;, [5]]], &#34;op&#34;: {&#34;type&#34;: &#34;SX&#34;}}, {&#34;args&#34;: [[&#34;node&#34;, [3]]], &#34;op&#34;: {&#34;type&#34;: &#34;SX&#34;}}, {&#34;args&#34;: [[&#34;node&#34;, [3]]], &#34;op&#34;: {&#34;params&#34;: [&#34;0.5&#34;], &#34;type&#34;: &#34;Rz&#34;}}, {&#34;args&#34;: [[&#34;node&#34;, [3]], [&#34;node&#34;, [5]]], &#34;op&#34;: {&#34;type&#34;: &#34;CX&#34;}}, {&#34;args&#34;: [[&#34;node&#34;, [3]]], &#34;op&#34;: {&#34;type&#34;: &#34;SX&#34;}}, {&#34;args&#34;: [[&#34;node&#34;, [5]]], &#34;op&#34;: {&#34;params&#34;: [&#34;0.5&#34;], &#34;type&#34;: &#34;Rz&#34;}}, {&#34;args&#34;: [[&#34;node&#34;, [3]]], &#34;op&#34;: {&#34;params&#34;: [&#34;-0.5&#34;], &#34;type&#34;: &#34;Rz&#34;}}, {&#34;args&#34;: [[&#34;node&#34;, [5]]], &#34;op&#34;: {&#34;type&#34;: &#34;SX&#34;}}, {&#34;args&#34;: [[&#34;node&#34;, [3]]], &#34;op&#34;: {&#34;type&#34;: &#34;SX&#34;}}, {&#34;args&#34;: [[&#34;node&#34;, [5]]], &#34;op&#34;: {&#34;params&#34;: [&#34;1.4&#34;], &#34;type&#34;: &#34;Rz&#34;}}, {&#34;args&#34;: [[&#34;node&#34;, [3]]], &#34;op&#34;: {&#34;params&#34;: [&#34;-0.6&#34;], &#34;type&#34;: &#34;Rz&#34;}}, {&#34;args&#34;: [[&#34;node&#34;, [5]]], &#34;op&#34;: {&#34;type&#34;: &#34;SX&#34;}}, {&#34;args&#34;: [[&#34;node&#34;, [3]]], &#34;op&#34;: {&#34;type&#34;: &#34;SX&#34;}}, {&#34;args&#34;: [[&#34;node&#34;, [5]]], &#34;op&#34;: {&#34;params&#34;: [&#34;0.5&#34;], &#34;type&#34;: &#34;Rz&#34;}}, {&#34;args&#34;: [[&#34;node&#34;, [3]]], &#34;op&#34;: {&#34;params&#34;: [&#34;-0.5&#34;], &#34;type&#34;: &#34;Rz&#34;}}, {&#34;args&#34;: [[&#34;node&#34;, [5]]], &#34;op&#34;: {&#34;type&#34;: &#34;X&#34;}}, {&#34;args&#34;: [[&#34;node&#34;, [3]]], &#34;op&#34;: {&#34;type&#34;: &#34;SX&#34;}}, {&#34;args&#34;: [[&#34;node&#34;, [5]]], &#34;op&#34;: {&#34;type&#34;: &#34;SX&#34;}}, {&#34;args&#34;: [[&#34;node&#34;, [3]]], &#34;op&#34;: {&#34;params&#34;: [&#34;0.5&#34;], &#34;type&#34;: &#34;Rz&#34;}}, {&#34;args&#34;: [[&#34;node&#34;, [3]], [&#34;node&#34;, [5]]], &#34;op&#34;: {&#34;type&#34;: &#34;CX&#34;}}, {&#34;args&#34;: [[&#34;node&#34;, [3]]], &#34;op&#34;: {&#34;type&#34;: &#34;SX&#34;}}, {&#34;args&#34;: [[&#34;node&#34;, [5]]], &#34;op&#34;: {&#34;type&#34;: &#34;X&#34;}}, {&#34;args&#34;: [[&#34;node&#34;, [3]]], &#34;op&#34;: {&#34;params&#34;: [&#34;0.4&#34;], &#34;type&#34;: &#34;Rz&#34;}}, {&#34;args&#34;: [[&#34;node&#34;, [5]]], &#34;op&#34;: {&#34;type&#34;: &#34;SX&#34;}}, {&#34;args&#34;: [[&#34;node&#34;, [3]]], &#34;op&#34;: {&#34;type&#34;: &#34;SX&#34;}}, {&#34;args&#34;: [[&#34;node&#34;, [3]]], &#34;op&#34;: {&#34;params&#34;: [&#34;0.5&#34;], &#34;type&#34;: &#34;Rz&#34;}}, {&#34;args&#34;: [[&#34;node&#34;, [3]], [&#34;node&#34;, [5]]], &#34;op&#34;: {&#34;type&#34;: &#34;CX&#34;}}, {&#34;args&#34;: [[&#34;node&#34;, [3]]], &#34;op&#34;: {&#34;type&#34;: &#34;SX&#34;}}, {&#34;args&#34;: [[&#34;node&#34;, [5]]], &#34;op&#34;: {&#34;params&#34;: [&#34;0.5&#34;], &#34;type&#34;: &#34;Rz&#34;}}, {&#34;args&#34;: [[&#34;node&#34;, [3]]], &#34;op&#34;: {&#34;params&#34;: [&#34;-0.5&#34;], &#34;type&#34;: &#34;Rz&#34;}}, {&#34;args&#34;: [[&#34;node&#34;, [5]]], &#34;op&#34;: {&#34;type&#34;: &#34;SX&#34;}}, {&#34;args&#34;: [[&#34;node&#34;, [3]]], &#34;op&#34;: {&#34;type&#34;: &#34;SX&#34;}}, {&#34;args&#34;: [[&#34;node&#34;, [5]]], &#34;op&#34;: {&#34;params&#34;: [&#34;1.4&#34;], &#34;type&#34;: &#34;Rz&#34;}}, {&#34;args&#34;: [[&#34;node&#34;, [3]]], &#34;op&#34;: {&#34;params&#34;: [&#34;-0.6&#34;], &#34;type&#34;: &#34;Rz&#34;}}, {&#34;args&#34;: [[&#34;node&#34;, [5]]], &#34;op&#34;: {&#34;type&#34;: &#34;SX&#34;}}, {&#34;args&#34;: [[&#34;node&#34;, [3]]], &#34;op&#34;: {&#34;type&#34;: &#34;SX&#34;}}, {&#34;args&#34;: [[&#34;node&#34;, [5]]], &#34;op&#34;: {&#34;params&#34;: [&#34;0.5&#34;], &#34;type&#34;: &#34;Rz&#34;}}, {&#34;args&#34;: [[&#34;node&#34;, [3]]], &#34;op&#34;: {&#34;params&#34;: [&#34;-0.5&#34;], &#34;type&#34;: &#34;Rz&#34;}}, {&#34;args&#34;: [[&#34;node&#34;, [5]]], &#34;op&#34;: {&#34;type&#34;: &#34;X&#34;}}, {&#34;args&#34;: [[&#34;node&#34;, [3]]], &#34;op&#34;: {&#34;type&#34;: &#34;SX&#34;}}, {&#34;args&#34;: [[&#34;node&#34;, [5]]], &#34;op&#34;: {&#34;type&#34;: &#34;SX&#34;}}, {&#34;args&#34;: [[&#34;node&#34;, [3]]], &#34;op&#34;: {&#34;params&#34;: [&#34;0.5&#34;], &#34;type&#34;: &#34;Rz&#34;}}, {&#34;args&#34;: [[&#34;node&#34;, [3]], [&#34;node&#34;, [5]]], &#34;op&#34;: {&#34;type&#34;: &#34;CX&#34;}}, {&#34;args&#34;: [[&#34;node&#34;, [3]]], &#34;op&#34;: {&#34;type&#34;: &#34;SX&#34;}}, {&#34;args&#34;: [[&#34;node&#34;, [5]]], &#34;op&#34;: {&#34;type&#34;: &#34;X&#34;}}, {&#34;args&#34;: [[&#34;node&#34;, [3]]], &#34;op&#34;: {&#34;params&#34;: [&#34;0.4&#34;], &#34;type&#34;: &#34;Rz&#34;}}, {&#34;args&#34;: [[&#34;node&#34;, [5]]], &#34;op&#34;: {&#34;type&#34;: &#34;SX&#34;}}, {&#34;args&#34;: [[&#34;node&#34;, [3]]], &#34;op&#34;: {&#34;type&#34;: &#34;SX&#34;}}, {&#34;args&#34;: [[&#34;node&#34;, [3]]], &#34;op&#34;: {&#34;params&#34;: [&#34;0.5&#34;], &#34;type&#34;: &#34;Rz&#34;}}, {&#34;args&#34;: [[&#34;node&#34;, [3]], [&#34;node&#34;, [5]]], &#34;op&#34;: {&#34;type&#34;: &#34;CX&#34;}}, {&#34;args&#34;: [[&#34;node&#34;, [3]]], &#34;op&#34;: {&#34;type&#34;: &#34;SX&#34;}}, {&#34;args&#34;: [[&#34;node&#34;, [5]]], &#34;op&#34;: {&#34;params&#34;: [&#34;0.5&#34;], &#34;type&#34;: &#34;Rz&#34;}}, {&#34;args&#34;: [[&#34;node&#34;, [3]]], &#34;op&#34;: {&#34;params&#34;: [&#34;-0.5&#34;], &#34;type&#34;: &#34;Rz&#34;}}, {&#34;args&#34;: [[&#34;node&#34;, [5]]], &#34;op&#34;: {&#34;type&#34;: &#34;SX&#34;}}, {&#34;args&#34;: [[&#34;node&#34;, [3]]], &#34;op&#34;: {&#34;type&#34;: &#34;SX&#34;}}, {&#34;args&#34;: [[&#34;node&#34;, [5]]], &#34;op&#34;: {&#34;params&#34;: [&#34;1.4&#34;], &#34;type&#34;: &#34;Rz&#34;}}, {&#34;args&#34;: [[&#34;node&#34;, [3]]], &#34;op&#34;: {&#34;params&#34;: [&#34;-0.6&#34;], &#34;type&#34;: &#34;Rz&#34;}}, {&#34;args&#34;: [[&#34;node&#34;, [5]]], &#34;op&#34;: {&#34;type&#34;: &#34;SX&#34;}}, {&#34;args&#34;: [[&#34;node&#34;, [3]]], &#34;op&#34;: {&#34;type&#34;: &#34;SX&#34;}}, {&#34;args&#34;: [[&#34;node&#34;, [5]]], &#34;op&#34;: {&#34;params&#34;: [&#34;0.5&#34;], &#34;type&#34;: &#34;Rz&#34;}}, {&#34;args&#34;: [[&#34;node&#34;, [3]]], &#34;op&#34;: {&#34;params&#34;: [&#34;-0.5&#34;], &#34;type&#34;: &#34;Rz&#34;}}, {&#34;args&#34;: [[&#34;node&#34;, [5]]], &#34;op&#34;: {&#34;type&#34;: &#34;X&#34;}}, {&#34;args&#34;: [[&#34;node&#34;, [3]]], &#34;op&#34;: {&#34;type&#34;: &#34;SX&#34;}}, {&#34;args&#34;: [[&#34;node&#34;, [5]]], &#34;op&#34;: {&#34;type&#34;: &#34;SX&#34;}}, {&#34;args&#34;: [[&#34;node&#34;, [3]]], &#34;op&#34;: {&#34;params&#34;: [&#34;0.5&#34;], &#34;type&#34;: &#34;Rz&#34;}}, {&#34;args&#34;: [[&#34;node&#34;, [3]], [&#34;node&#34;, [5]]], &#34;op&#34;: {&#34;type&#34;: &#34;CX&#34;}}, {&#34;args&#34;: [[&#34;node&#34;, [3]]], &#34;op&#34;: {&#34;type&#34;: &#34;SX&#34;}}, {&#34;args&#34;: [[&#34;node&#34;, [5]]], &#34;op&#34;: {&#34;type&#34;: &#34;X&#34;}}, {&#34;args&#34;: [[&#34;node&#34;, [3]]], &#34;op&#34;: {&#34;params&#34;: [&#34;0.4&#34;], &#34;type&#34;: &#34;Rz&#34;}}, {&#34;args&#34;: [[&#34;node&#34;, [5]]], &#34;op&#34;: {&#34;type&#34;: &#34;SX&#34;}}, {&#34;args&#34;: [[&#34;node&#34;, [3]]], &#34;op&#34;: {&#34;type&#34;: &#34;SX&#34;}}, {&#34;args&#34;: [[&#34;node&#34;, [3]]], &#34;op&#34;: {&#34;params&#34;: [&#34;0.5&#34;], &#34;type&#34;: &#34;Rz&#34;}}, {&#34;args&#34;: [[&#34;node&#34;, [3]], [&#34;node&#34;, [5]]], &#34;op&#34;: {&#34;type&#34;: &#34;CX&#34;}}, {&#34;args&#34;: [[&#34;node&#34;, [3]]], &#34;op&#34;: {&#34;type&#34;: &#34;SX&#34;}}, {&#34;args&#34;: [[&#34;node&#34;, [5]]], &#34;op&#34;: {&#34;params&#34;: [&#34;0.5&#34;], &#34;type&#34;: &#34;Rz&#34;}}, {&#34;args&#34;: [[&#34;node&#34;, [3]]], &#34;op&#34;: {&#34;params&#34;: [&#34;-0.5&#34;], &#34;type&#34;: &#34;Rz&#34;}}, {&#34;args&#34;: [[&#34;node&#34;, [5]]], &#34;op&#34;: {&#34;type&#34;: &#34;SX&#34;}}, {&#34;args&#34;: [[&#34;node&#34;, [3]]], &#34;op&#34;: {&#34;type&#34;: &#34;SX&#34;}}, {&#34;args&#34;: [[&#34;node&#34;, [5]]], &#34;op&#34;: {&#34;params&#34;: [&#34;1.4&#34;], &#34;type&#34;: &#34;Rz&#34;}}, {&#34;args&#34;: [[&#34;node&#34;, [3]]], &#34;op&#34;: {&#34;params&#34;: [&#34;-0.6&#34;], &#34;type&#34;: &#34;Rz&#34;}}, {&#34;args&#34;: [[&#34;node&#34;, [5]]], &#34;op&#34;: {&#34;type&#34;: &#34;SX&#34;}}, {&#34;args&#34;: [[&#34;node&#34;, [3]]], &#34;op&#34;: {&#34;type&#34;: &#34;SX&#34;}}, {&#34;args&#34;: [[&#34;node&#34;, [5]]], &#34;op&#34;: {&#34;params&#34;: [&#34;0.5&#34;], &#34;type&#34;: &#34;Rz&#34;}}, {&#34;args&#34;: [[&#34;node&#34;, [3]]], &#34;op&#34;: {&#34;params&#34;: [&#34;-0.5&#34;], &#34;type&#34;: &#34;Rz&#34;}}, {&#34;args&#34;: [[&#34;node&#34;, [5]]], &#34;op&#34;: {&#34;type&#34;: &#34;X&#34;}}, {&#34;args&#34;: [[&#34;node&#34;, [3]]], &#34;op&#34;: {&#34;type&#34;: &#34;SX&#34;}}, {&#34;args&#34;: [[&#34;node&#34;, [5]]], &#34;op&#34;: {&#34;type&#34;: &#34;SX&#34;}}, {&#34;args&#34;: [[&#34;node&#34;, [3]]], &#34;op&#34;: {&#34;params&#34;: [&#34;0.5&#34;], &#34;type&#34;: &#34;Rz&#34;}}, {&#34;args&#34;: [[&#34;node&#34;, [3]], [&#34;node&#34;, [5]]], &#34;op&#34;: {&#34;type&#34;: &#34;CX&#34;}}, {&#34;args&#34;: [[&#34;node&#34;, [3]]], &#34;op&#34;: {&#34;type&#34;: &#34;SX&#34;}}, {&#34;args&#34;: [[&#34;node&#34;, [5]]], &#34;op&#34;: {&#34;type&#34;: &#34;X&#34;}}, {&#34;args&#34;: [[&#34;node&#34;, [3]]], &#34;op&#34;: {&#34;params&#34;: [&#34;0.4&#34;], &#34;type&#34;: &#34;Rz&#34;}}, {&#34;args&#34;: [[&#34;node&#34;, [5]]], &#34;op&#34;: {&#34;type&#34;: &#34;SX&#34;}}, {&#34;args&#34;: [[&#34;node&#34;, [3]]], &#34;op&#34;: {&#34;type&#34;: &#34;SX&#34;}}, {&#34;args&#34;: [[&#34;node&#34;, [3]]], &#34;op&#34;: {&#34;params&#34;: [&#34;0.5&#34;], &#34;type&#34;: &#34;Rz&#34;}}, {&#34;args&#34;: [[&#34;node&#34;, [3]], [&#34;node&#34;, [5]]], &#34;op&#34;: {&#34;type&#34;: &#34;CX&#34;}}, {&#34;args&#34;: [[&#34;node&#34;, [3]]], &#34;op&#34;: {&#34;type&#34;: &#34;SX&#34;}}, {&#34;args&#34;: [[&#34;node&#34;, [5]]], &#34;op&#34;: {&#34;params&#34;: [&#34;0.5&#34;], &#34;type&#34;: &#34;Rz&#34;}}, {&#34;args&#34;: [[&#34;node&#34;, [3]]], &#34;op&#34;: {&#34;params&#34;: [&#34;-0.5&#34;], &#34;type&#34;: &#34;Rz&#34;}}, {&#34;args&#34;: [[&#34;node&#34;, [5]]], &#34;op&#34;: {&#34;type&#34;: &#34;SX&#34;}}, {&#34;args&#34;: [[&#34;node&#34;, [3]]], &#34;op&#34;: {&#34;type&#34;: &#34;SX&#34;}}, {&#34;args&#34;: [[&#34;node&#34;, [5]]], &#34;op&#34;: {&#34;params&#34;: [&#34;1.4&#34;], &#34;type&#34;: &#34;Rz&#34;}}, {&#34;args&#34;: [[&#34;node&#34;, [3]]], &#34;op&#34;: {&#34;params&#34;: [&#34;-0.6&#34;], &#34;type&#34;: &#34;Rz&#34;}}, {&#34;args&#34;: [[&#34;node&#34;, [5]]], &#34;op&#34;: {&#34;type&#34;: &#34;SX&#34;}}, {&#34;args&#34;: [[&#34;node&#34;, [3]]], &#34;op&#34;: {&#34;type&#34;: &#34;SX&#34;}}, {&#34;args&#34;: [[&#34;node&#34;, [5]]], &#34;op&#34;: {&#34;params&#34;: [&#34;0.5&#34;], &#34;type&#34;: &#34;Rz&#34;}}, {&#34;args&#34;: [[&#34;node&#34;, [3]]], &#34;op&#34;: {&#34;params&#34;: [&#34;1.5&#34;], &#34;type&#34;: &#34;Rz&#34;}}, {&#34;args&#34;: [[&#34;node&#34;, [5]]], &#34;op&#34;: {&#34;type&#34;: &#34;X&#34;}}, {&#34;args&#34;: [[&#34;node&#34;, [3]], [&#34;node&#34;, [1]]], &#34;op&#34;: {&#34;type&#34;: &#34;CX&#34;}}, {&#34;args&#34;: [[&#34;node&#34;, [5]]], &#34;op&#34;: {&#34;type&#34;: &#34;SX&#34;}}, {&#34;args&#34;: [[&#34;node&#34;, [1]]], &#34;op&#34;: {&#34;params&#34;: [&#34;1.0&#34;], &#34;type&#34;: &#34;Rz&#34;}}, {&#34;args&#34;: [[&#34;node&#34;, [3]]], &#34;op&#34;: {&#34;type&#34;: &#34;X&#34;}}, {&#34;args&#34;: [[&#34;node&#34;, [4]], [&#34;node&#34;, [5]]], &#34;op&#34;: {&#34;type&#34;: &#34;CX&#34;}}, {&#34;args&#34;: [[&#34;node&#34;, [1]]], &#34;op&#34;: {&#34;type&#34;: &#34;X&#34;}}, {&#34;args&#34;: [[&#34;node&#34;, [3]]], &#34;op&#34;: {&#34;type&#34;: &#34;SX&#34;}}, {&#34;args&#34;: [[&#34;node&#34;, [4]]], &#34;op&#34;: {&#34;type&#34;: &#34;SX&#34;}}, {&#34;args&#34;: [[&#34;node&#34;, [5]]], &#34;op&#34;: {&#34;type&#34;: &#34;X&#34;}}, {&#34;args&#34;: [[&#34;node&#34;, [1]]], &#34;op&#34;: {&#34;params&#34;: [&#34;0.5&#34;], &#34;type&#34;: &#34;Rz&#34;}}, {&#34;args&#34;: [[&#34;node&#34;, [4]]], &#34;op&#34;: {&#34;params&#34;: [&#34;0.4&#34;], &#34;type&#34;: &#34;Rz&#34;}}, {&#34;args&#34;: [[&#34;node&#34;, [5]]], &#34;op&#34;: {&#34;type&#34;: &#34;SX&#34;}}, {&#34;args&#34;: [[&#34;node&#34;, [3]], [&#34;node&#34;, [1]]], &#34;op&#34;: {&#34;type&#34;: &#34;CX&#34;}}, {&#34;args&#34;: [[&#34;node&#34;, [4]]], &#34;op&#34;: {&#34;type&#34;: &#34;SX&#34;}}, {&#34;args&#34;: [[&#34;node&#34;, [1]]], &#34;op&#34;: {&#34;params&#34;: [&#34;0.5&#34;], &#34;type&#34;: &#34;Rz&#34;}}, {&#34;args&#34;: [[&#34;node&#34;, [3]]], &#34;op&#34;: {&#34;type&#34;: &#34;SX&#34;}}, {&#34;args&#34;: [[&#34;node&#34;, [4]]], &#34;op&#34;: {&#34;params&#34;: [&#34;0.5&#34;], &#34;type&#34;: &#34;Rz&#34;}}, {&#34;args&#34;: [[&#34;node&#34;, [3]]], &#34;op&#34;: {&#34;params&#34;: [&#34;0.5&#34;], &#34;type&#34;: &#34;Rz&#34;}}, {&#34;args&#34;: [[&#34;node&#34;, [4]], [&#34;node&#34;, [5]]], &#34;op&#34;: {&#34;type&#34;: &#34;CX&#34;}}, {&#34;args&#34;: [[&#34;node&#34;, [3]], [&#34;node&#34;, [1]]], &#34;op&#34;: {&#34;type&#34;: &#34;CX&#34;}}, {&#34;args&#34;: [[&#34;node&#34;, [4]]], &#34;op&#34;: {&#34;type&#34;: &#34;SX&#34;}}, {&#34;args&#34;: [[&#34;node&#34;, [5]]], &#34;op&#34;: {&#34;params&#34;: [&#34;0.5&#34;], &#34;type&#34;: &#34;Rz&#34;}}, {&#34;args&#34;: [[&#34;node&#34;, [1]]], &#34;op&#34;: {&#34;params&#34;: [&#34;0.5&#34;], &#34;type&#34;: &#34;Rz&#34;}}, {&#34;args&#34;: [[&#34;node&#34;, [3]]], &#34;op&#34;: {&#34;params&#34;: [&#34;0.5&#34;], &#34;type&#34;: &#34;Rz&#34;}}, {&#34;args&#34;: [[&#34;node&#34;, [4]]], &#34;op&#34;: {&#34;params&#34;: [&#34;-0.5&#34;], &#34;type&#34;: &#34;Rz&#34;}}, {&#34;args&#34;: [[&#34;node&#34;, [5]]], &#34;op&#34;: {&#34;type&#34;: &#34;SX&#34;}}, {&#34;args&#34;: [[&#34;node&#34;, [1]]], &#34;op&#34;: {&#34;type&#34;: &#34;X&#34;}}, {&#34;args&#34;: [[&#34;node&#34;, [3]]], &#34;op&#34;: {&#34;type&#34;: &#34;X&#34;}}, {&#34;args&#34;: [[&#34;node&#34;, [4]]], &#34;op&#34;: {&#34;type&#34;: &#34;SX&#34;}}, {&#34;args&#34;: [[&#34;node&#34;, [5]]], &#34;op&#34;: {&#34;params&#34;: [&#34;1.4&#34;], &#34;type&#34;: &#34;Rz&#34;}}, {&#34;args&#34;: [[&#34;node&#34;, [1]]], &#34;op&#34;: {&#34;params&#34;: [&#34;0.5&#34;], &#34;type&#34;: &#34;Rz&#34;}}, {&#34;args&#34;: [[&#34;node&#34;, [3]]], &#34;op&#34;: {&#34;params&#34;: [&#34;0.5&#34;], &#34;type&#34;: &#34;Rz&#34;}}, {&#34;args&#34;: [[&#34;node&#34;, [4]]], &#34;op&#34;: {&#34;params&#34;: [&#34;-0.6&#34;], &#34;type&#34;: &#34;Rz&#34;}}, {&#34;args&#34;: [[&#34;node&#34;, [5]]], &#34;op&#34;: {&#34;type&#34;: &#34;SX&#34;}}, {&#34;args&#34;: [[&#34;node&#34;, [1]]], &#34;op&#34;: {&#34;type&#34;: &#34;X&#34;}}, {&#34;args&#34;: [[&#34;node&#34;, [3]]], &#34;op&#34;: {&#34;type&#34;: &#34;X&#34;}}, {&#34;args&#34;: [[&#34;node&#34;, [4]]], &#34;op&#34;: {&#34;type&#34;: &#34;SX&#34;}}, {&#34;args&#34;: [[&#34;node&#34;, [5]]], &#34;op&#34;: {&#34;params&#34;: [&#34;0.5&#34;], &#34;type&#34;: &#34;Rz&#34;}}, {&#34;args&#34;: [[&#34;node&#34;, [1]]], &#34;op&#34;: {&#34;params&#34;: [&#34;-0.5&#34;], &#34;type&#34;: &#34;Rz&#34;}}, {&#34;args&#34;: [[&#34;node&#34;, [3]]], &#34;op&#34;: {&#34;params&#34;: [&#34;-0.5&#34;], &#34;type&#34;: &#34;Rz&#34;}}, {&#34;args&#34;: [[&#34;node&#34;, [4]]], &#34;op&#34;: {&#34;params&#34;: [&#34;-0.5&#34;], &#34;type&#34;: &#34;Rz&#34;}}, {&#34;args&#34;: [[&#34;node&#34;, [5]]], &#34;op&#34;: {&#34;type&#34;: &#34;X&#34;}}, {&#34;args&#34;: [[&#34;node&#34;, [1]]], &#34;op&#34;: {&#34;type&#34;: &#34;SX&#34;}}, {&#34;args&#34;: [[&#34;node&#34;, [3]]], &#34;op&#34;: {&#34;type&#34;: &#34;SX&#34;}}, {&#34;args&#34;: [[&#34;node&#34;, [4]]], &#34;op&#34;: {&#34;type&#34;: &#34;SX&#34;}}, {&#34;args&#34;: [[&#34;node&#34;, [5]]], &#34;op&#34;: {&#34;type&#34;: &#34;SX&#34;}}, {&#34;args&#34;: [[&#34;node&#34;, [1]]], &#34;op&#34;: {&#34;params&#34;: [&#34;0.5&#34;], &#34;type&#34;: &#34;Rz&#34;}}, {&#34;args&#34;: [[&#34;node&#34;, [3]]], &#34;op&#34;: {&#34;params&#34;: [&#34;0.5&#34;], &#34;type&#34;: &#34;Rz&#34;}}, {&#34;args&#34;: [[&#34;node&#34;, [4]]], &#34;op&#34;: {&#34;params&#34;: [&#34;0.5&#34;], &#34;type&#34;: &#34;Rz&#34;}}, {&#34;args&#34;: [[&#34;node&#34;, [1]]], &#34;op&#34;: {&#34;type&#34;: &#34;X&#34;}}, {&#34;args&#34;: [[&#34;node&#34;, [3]]], &#34;op&#34;: {&#34;type&#34;: &#34;X&#34;}}, {&#34;args&#34;: [[&#34;node&#34;, [4]], [&#34;node&#34;, [5]]], &#34;op&#34;: {&#34;type&#34;: &#34;CX&#34;}}, {&#34;args&#34;: [[&#34;node&#34;, [1]]], &#34;op&#34;: {&#34;type&#34;: &#34;SX&#34;}}, {&#34;args&#34;: [[&#34;node&#34;, [3]]], &#34;op&#34;: {&#34;type&#34;: &#34;SX&#34;}}, {&#34;args&#34;: [[&#34;node&#34;, [4]]], &#34;op&#34;: {&#34;type&#34;: &#34;SX&#34;}}, {&#34;args&#34;: [[&#34;node&#34;, [5]]], &#34;op&#34;: {&#34;type&#34;: &#34;X&#34;}}, {&#34;args&#34;: [[&#34;node&#34;, [0]], [&#34;node&#34;, [1]]], &#34;op&#34;: {&#34;type&#34;: &#34;CX&#34;}}, {&#34;args&#34;: [[&#34;node&#34;, [4]]], &#34;op&#34;: {&#34;params&#34;: [&#34;0.4&#34;], &#34;type&#34;: &#34;Rz&#34;}}, {&#34;args&#34;: [[&#34;node&#34;, [5]]], &#34;op&#34;: {&#34;type&#34;: &#34;SX&#34;}}, {&#34;args&#34;: [[&#34;node&#34;, [1]], [&#34;node&#34;, [0]]], &#34;op&#34;: {&#34;type&#34;: &#34;CX&#34;}}, {&#34;args&#34;: [[&#34;node&#34;, [4]]], &#34;op&#34;: {&#34;type&#34;: &#34;SX&#34;}}, {&#34;args&#34;: [[&#34;node&#34;, [0]], [&#34;node&#34;, [1]]], &#34;op&#34;: {&#34;type&#34;: &#34;CX&#34;}}, {&#34;args&#34;: [[&#34;node&#34;, [4]]], &#34;op&#34;: {&#34;params&#34;: [&#34;0.5&#34;], &#34;type&#34;: &#34;Rz&#34;}}, {&#34;args&#34;: [[&#34;node&#34;, [4]], [&#34;node&#34;, [5]]], &#34;op&#34;: {&#34;type&#34;: &#34;CX&#34;}}, {&#34;args&#34;: [[&#34;node&#34;, [4]]], &#34;op&#34;: {&#34;type&#34;: &#34;SX&#34;}}, {&#34;args&#34;: [[&#34;node&#34;, [5]]], &#34;op&#34;: {&#34;params&#34;: [&#34;0.5&#34;], &#34;type&#34;: &#34;Rz&#34;}}, {&#34;args&#34;: [[&#34;node&#34;, [4]]], &#34;op&#34;: {&#34;params&#34;: [&#34;-0.5&#34;], &#34;type&#34;: &#34;Rz&#34;}}, {&#34;args&#34;: [[&#34;node&#34;, [5]]], &#34;op&#34;: {&#34;type&#34;: &#34;SX&#34;}}, {&#34;args&#34;: [[&#34;node&#34;, [4]]], &#34;op&#34;: {&#34;type&#34;: &#34;SX&#34;}}, {&#34;args&#34;: [[&#34;node&#34;, [5]]], &#34;op&#34;: {&#34;params&#34;: [&#34;1.4&#34;], &#34;type&#34;: &#34;Rz&#34;}}, {&#34;args&#34;: [[&#34;node&#34;, [4]]], &#34;op&#34;: {&#34;params&#34;: [&#34;-0.6&#34;], &#34;type&#34;: &#34;Rz&#34;}}, {&#34;args&#34;: [[&#34;node&#34;, [5]]], &#34;op&#34;: {&#34;type&#34;: &#34;SX&#34;}}, {&#34;args&#34;: [[&#34;node&#34;, [4]]], &#34;op&#34;: {&#34;type&#34;: &#34;SX&#34;}}, {&#34;args&#34;: [[&#34;node&#34;, [5]]], &#34;op&#34;: {&#34;params&#34;: [&#34;0.5&#34;], &#34;type&#34;: &#34;Rz&#34;}}, {&#34;args&#34;: [[&#34;node&#34;, [4]]], &#34;op&#34;: {&#34;params&#34;: [&#34;-0.5&#34;], &#34;type&#34;: &#34;Rz&#34;}}, {&#34;args&#34;: [[&#34;node&#34;, [5]]], &#34;op&#34;: {&#34;type&#34;: &#34;X&#34;}}, {&#34;args&#34;: [[&#34;node&#34;, [4]]], &#34;op&#34;: {&#34;type&#34;: &#34;SX&#34;}}, {&#34;args&#34;: [[&#34;node&#34;, [5]]], &#34;op&#34;: {&#34;type&#34;: &#34;SX&#34;}}, {&#34;args&#34;: [[&#34;node&#34;, [4]]], &#34;op&#34;: {&#34;params&#34;: [&#34;0.5&#34;], &#34;type&#34;: &#34;Rz&#34;}}, {&#34;args&#34;: [[&#34;node&#34;, [4]], [&#34;node&#34;, [5]]], &#34;op&#34;: {&#34;type&#34;: &#34;CX&#34;}}, {&#34;args&#34;: [[&#34;node&#34;, [4]]], &#34;op&#34;: {&#34;type&#34;: &#34;SX&#34;}}, {&#34;args&#34;: [[&#34;node&#34;, [5]]], &#34;op&#34;: {&#34;type&#34;: &#34;X&#34;}}, {&#34;args&#34;: [[&#34;node&#34;, [4]]], &#34;op&#34;: {&#34;params&#34;: [&#34;0.4&#34;], &#34;type&#34;: &#34;Rz&#34;}}, {&#34;args&#34;: [[&#34;node&#34;, [5]]], &#34;op&#34;: {&#34;type&#34;: &#34;SX&#34;}}, {&#34;args&#34;: [[&#34;node&#34;, [4]]], &#34;op&#34;: {&#34;type&#34;: &#34;SX&#34;}}, {&#34;args&#34;: [[&#34;node&#34;, [4]]], &#34;op&#34;: {&#34;params&#34;: [&#34;0.5&#34;], &#34;type&#34;: &#34;Rz&#34;}}, {&#34;args&#34;: [[&#34;node&#34;, [4]], [&#34;node&#34;, [5]]], &#34;op&#34;: {&#34;type&#34;: &#34;CX&#34;}}, {&#34;args&#34;: [[&#34;node&#34;, [4]]], &#34;op&#34;: {&#34;type&#34;: &#34;SX&#34;}}, {&#34;args&#34;: [[&#34;node&#34;, [5]]], &#34;op&#34;: {&#34;params&#34;: [&#34;0.5&#34;], &#34;type&#34;: &#34;Rz&#34;}}, {&#34;args&#34;: [[&#34;node&#34;, [4]]], &#34;op&#34;: {&#34;params&#34;: [&#34;-0.5&#34;], &#34;type&#34;: &#34;Rz&#34;}}, {&#34;args&#34;: [[&#34;node&#34;, [5]]], &#34;op&#34;: {&#34;type&#34;: &#34;SX&#34;}}, {&#34;args&#34;: [[&#34;node&#34;, [4]]], &#34;op&#34;: {&#34;type&#34;: &#34;SX&#34;}}, {&#34;args&#34;: [[&#34;node&#34;, [5]]], &#34;op&#34;: {&#34;params&#34;: [&#34;1.4&#34;], &#34;type&#34;: &#34;Rz&#34;}}, {&#34;args&#34;: [[&#34;node&#34;, [4]]], &#34;op&#34;: {&#34;params&#34;: [&#34;-0.6&#34;], &#34;type&#34;: &#34;Rz&#34;}}, {&#34;args&#34;: [[&#34;node&#34;, [5]]], &#34;op&#34;: {&#34;type&#34;: &#34;SX&#34;}}, {&#34;args&#34;: [[&#34;node&#34;, [4]]], &#34;op&#34;: {&#34;type&#34;: &#34;SX&#34;}}, {&#34;args&#34;: [[&#34;node&#34;, [5]]], &#34;op&#34;: {&#34;params&#34;: [&#34;0.5&#34;], &#34;type&#34;: &#34;Rz&#34;}}, {&#34;args&#34;: [[&#34;node&#34;, [4]]], &#34;op&#34;: {&#34;params&#34;: [&#34;-0.5&#34;], &#34;type&#34;: &#34;Rz&#34;}}, {&#34;args&#34;: [[&#34;node&#34;, [5]]], &#34;op&#34;: {&#34;type&#34;: &#34;X&#34;}}, {&#34;args&#34;: [[&#34;node&#34;, [4]]], &#34;op&#34;: {&#34;type&#34;: &#34;SX&#34;}}, {&#34;args&#34;: [[&#34;node&#34;, [5]]], &#34;op&#34;: {&#34;type&#34;: &#34;SX&#34;}}, {&#34;args&#34;: [[&#34;node&#34;, [4]]], &#34;op&#34;: {&#34;params&#34;: [&#34;0.5&#34;], &#34;type&#34;: &#34;Rz&#34;}}, {&#34;args&#34;: [[&#34;node&#34;, [4]], [&#34;node&#34;, [5]]], &#34;op&#34;: {&#34;type&#34;: &#34;CX&#34;}}, {&#34;args&#34;: [[&#34;node&#34;, [4]]], &#34;op&#34;: {&#34;type&#34;: &#34;SX&#34;}}, {&#34;args&#34;: [[&#34;node&#34;, [5]]], &#34;op&#34;: {&#34;type&#34;: &#34;X&#34;}}, {&#34;args&#34;: [[&#34;node&#34;, [4]]], &#34;op&#34;: {&#34;params&#34;: [&#34;0.4&#34;], &#34;type&#34;: &#34;Rz&#34;}}, {&#34;args&#34;: [[&#34;node&#34;, [5]]], &#34;op&#34;: {&#34;type&#34;: &#34;SX&#34;}}, {&#34;args&#34;: [[&#34;node&#34;, [4]]], &#34;op&#34;: {&#34;type&#34;: &#34;SX&#34;}}, {&#34;args&#34;: [[&#34;node&#34;, [4]]], &#34;op&#34;: {&#34;params&#34;: [&#34;0.5&#34;], &#34;type&#34;: &#34;Rz&#34;}}, {&#34;args&#34;: [[&#34;node&#34;, [4]], [&#34;node&#34;, [5]]], &#34;op&#34;: {&#34;type&#34;: &#34;CX&#34;}}, {&#34;args&#34;: [[&#34;node&#34;, [4]]], &#34;op&#34;: {&#34;type&#34;: &#34;SX&#34;}}, {&#34;args&#34;: [[&#34;node&#34;, [5]]], &#34;op&#34;: {&#34;params&#34;: [&#34;0.5&#34;], &#34;type&#34;: &#34;Rz&#34;}}, {&#34;args&#34;: [[&#34;node&#34;, [4]]], &#34;op&#34;: {&#34;params&#34;: [&#34;-0.5&#34;], &#34;type&#34;: &#34;Rz&#34;}}, {&#34;args&#34;: [[&#34;node&#34;, [5]]], &#34;op&#34;: {&#34;type&#34;: &#34;SX&#34;}}, {&#34;args&#34;: [[&#34;node&#34;, [4]]], &#34;op&#34;: {&#34;type&#34;: &#34;SX&#34;}}, {&#34;args&#34;: [[&#34;node&#34;, [5]]], &#34;op&#34;: {&#34;params&#34;: [&#34;1.4&#34;], &#34;type&#34;: &#34;Rz&#34;}}, {&#34;args&#34;: [[&#34;node&#34;, [4]]], &#34;op&#34;: {&#34;params&#34;: [&#34;-0.6&#34;], &#34;type&#34;: &#34;Rz&#34;}}, {&#34;args&#34;: [[&#34;node&#34;, [5]]], &#34;op&#34;: {&#34;type&#34;: &#34;SX&#34;}}, {&#34;args&#34;: [[&#34;node&#34;, [4]]], &#34;op&#34;: {&#34;type&#34;: &#34;SX&#34;}}, {&#34;args&#34;: [[&#34;node&#34;, [5]]], &#34;op&#34;: {&#34;params&#34;: [&#34;0.5&#34;], &#34;type&#34;: &#34;Rz&#34;}}, {&#34;args&#34;: [[&#34;node&#34;, [4]]], &#34;op&#34;: {&#34;params&#34;: [&#34;-0.5&#34;], &#34;type&#34;: &#34;Rz&#34;}}, {&#34;args&#34;: [[&#34;node&#34;, [5]]], &#34;op&#34;: {&#34;type&#34;: &#34;X&#34;}}, {&#34;args&#34;: [[&#34;node&#34;, [4]]], &#34;op&#34;: {&#34;type&#34;: &#34;SX&#34;}}, {&#34;args&#34;: [[&#34;node&#34;, [5]]], &#34;op&#34;: {&#34;type&#34;: &#34;SX&#34;}}, {&#34;args&#34;: [[&#34;node&#34;, [4]]], &#34;op&#34;: {&#34;params&#34;: [&#34;0.5&#34;], &#34;type&#34;: &#34;Rz&#34;}}, {&#34;args&#34;: [[&#34;node&#34;, [4]], [&#34;node&#34;, [5]]], &#34;op&#34;: {&#34;type&#34;: &#34;CX&#34;}}, {&#34;args&#34;: [[&#34;node&#34;, [4]]], &#34;op&#34;: {&#34;type&#34;: &#34;SX&#34;}}, {&#34;args&#34;: [[&#34;node&#34;, [5]]], &#34;op&#34;: {&#34;type&#34;: &#34;X&#34;}}, {&#34;args&#34;: [[&#34;node&#34;, [4]]], &#34;op&#34;: {&#34;params&#34;: [&#34;0.4&#34;], &#34;type&#34;: &#34;Rz&#34;}}, {&#34;args&#34;: [[&#34;node&#34;, [5]]], &#34;op&#34;: {&#34;type&#34;: &#34;SX&#34;}}, {&#34;args&#34;: [[&#34;node&#34;, [4]]], &#34;op&#34;: {&#34;type&#34;: &#34;SX&#34;}}, {&#34;args&#34;: [[&#34;node&#34;, [4]]], &#34;op&#34;: {&#34;params&#34;: [&#34;0.5&#34;], &#34;type&#34;: &#34;Rz&#34;}}, {&#34;args&#34;: [[&#34;node&#34;, [4]], [&#34;node&#34;, [5]]], &#34;op&#34;: {&#34;type&#34;: &#34;CX&#34;}}, {&#34;args&#34;: [[&#34;node&#34;, [4]]], &#34;op&#34;: {&#34;type&#34;: &#34;SX&#34;}}, {&#34;args&#34;: [[&#34;node&#34;, [5]]], &#34;op&#34;: {&#34;params&#34;: [&#34;0.5&#34;], &#34;type&#34;: &#34;Rz&#34;}}, {&#34;args&#34;: [[&#34;node&#34;, [4]]], &#34;op&#34;: {&#34;params&#34;: [&#34;-0.5&#34;], &#34;type&#34;: &#34;Rz&#34;}}, {&#34;args&#34;: [[&#34;node&#34;, [5]]], &#34;op&#34;: {&#34;type&#34;: &#34;SX&#34;}}, {&#34;args&#34;: [[&#34;node&#34;, [4]]], &#34;op&#34;: {&#34;type&#34;: &#34;SX&#34;}}, {&#34;args&#34;: [[&#34;node&#34;, [5]]], &#34;op&#34;: {&#34;params&#34;: [&#34;1.4&#34;], &#34;type&#34;: &#34;Rz&#34;}}, {&#34;args&#34;: [[&#34;node&#34;, [4]]], &#34;op&#34;: {&#34;params&#34;: [&#34;-0.6&#34;], &#34;type&#34;: &#34;Rz&#34;}}, {&#34;args&#34;: [[&#34;node&#34;, [5]]], &#34;op&#34;: {&#34;type&#34;: &#34;SX&#34;}}, {&#34;args&#34;: [[&#34;node&#34;, [4]]], &#34;op&#34;: {&#34;type&#34;: &#34;SX&#34;}}, {&#34;args&#34;: [[&#34;node&#34;, [5]]], &#34;op&#34;: {&#34;params&#34;: [&#34;0.5&#34;], &#34;type&#34;: &#34;Rz&#34;}}, {&#34;args&#34;: [[&#34;node&#34;, [4]]], &#34;op&#34;: {&#34;params&#34;: [&#34;-0.5&#34;], &#34;type&#34;: &#34;Rz&#34;}}, {&#34;args&#34;: [[&#34;node&#34;, [5]]], &#34;op&#34;: {&#34;type&#34;: &#34;X&#34;}}, {&#34;args&#34;: [[&#34;node&#34;, [4]]], &#34;op&#34;: {&#34;type&#34;: &#34;SX&#34;}}, {&#34;args&#34;: [[&#34;node&#34;, [5]]], &#34;op&#34;: {&#34;type&#34;: &#34;SX&#34;}}, {&#34;args&#34;: [[&#34;node&#34;, [4]]], &#34;op&#34;: {&#34;params&#34;: [&#34;0.5&#34;], &#34;type&#34;: &#34;Rz&#34;}}, {&#34;args&#34;: [[&#34;node&#34;, [4]], [&#34;node&#34;, [5]]], &#34;op&#34;: {&#34;type&#34;: &#34;CX&#34;}}, {&#34;args&#34;: [[&#34;node&#34;, [4]]], &#34;op&#34;: {&#34;type&#34;: &#34;SX&#34;}}, {&#34;args&#34;: [[&#34;node&#34;, [5]]], &#34;op&#34;: {&#34;type&#34;: &#34;X&#34;}}, {&#34;args&#34;: [[&#34;node&#34;, [4]]], &#34;op&#34;: {&#34;params&#34;: [&#34;0.4&#34;], &#34;type&#34;: &#34;Rz&#34;}}, {&#34;args&#34;: [[&#34;node&#34;, [5]]], &#34;op&#34;: {&#34;type&#34;: &#34;SX&#34;}}, {&#34;args&#34;: [[&#34;node&#34;, [4]]], &#34;op&#34;: {&#34;type&#34;: &#34;SX&#34;}}, {&#34;args&#34;: [[&#34;node&#34;, [4]]], &#34;op&#34;: {&#34;params&#34;: [&#34;0.5&#34;], &#34;type&#34;: &#34;Rz&#34;}}, {&#34;args&#34;: [[&#34;node&#34;, [4]], [&#34;node&#34;, [5]]], &#34;op&#34;: {&#34;type&#34;: &#34;CX&#34;}}, {&#34;args&#34;: [[&#34;node&#34;, [4]]], &#34;op&#34;: {&#34;type&#34;: &#34;SX&#34;}}, {&#34;args&#34;: [[&#34;node&#34;, [5]]], &#34;op&#34;: {&#34;params&#34;: [&#34;0.5&#34;], &#34;type&#34;: &#34;Rz&#34;}}, {&#34;args&#34;: [[&#34;node&#34;, [4]]], &#34;op&#34;: {&#34;params&#34;: [&#34;-0.5&#34;], &#34;type&#34;: &#34;Rz&#34;}}, {&#34;args&#34;: [[&#34;node&#34;, [5]]], &#34;op&#34;: {&#34;type&#34;: &#34;SX&#34;}}, {&#34;args&#34;: [[&#34;node&#34;, [4]]], &#34;op&#34;: {&#34;type&#34;: &#34;SX&#34;}}, {&#34;args&#34;: [[&#34;node&#34;, [5]]], &#34;op&#34;: {&#34;params&#34;: [&#34;1.4&#34;], &#34;type&#34;: &#34;Rz&#34;}}, {&#34;args&#34;: [[&#34;node&#34;, [4]]], &#34;op&#34;: {&#34;params&#34;: [&#34;-0.6&#34;], &#34;type&#34;: &#34;Rz&#34;}}, {&#34;args&#34;: [[&#34;node&#34;, [5]]], &#34;op&#34;: {&#34;type&#34;: &#34;SX&#34;}}, {&#34;args&#34;: [[&#34;node&#34;, [4]]], &#34;op&#34;: {&#34;type&#34;: &#34;SX&#34;}}, {&#34;args&#34;: [[&#34;node&#34;, [5]]], &#34;op&#34;: {&#34;params&#34;: [&#34;0.5&#34;], &#34;type&#34;: &#34;Rz&#34;}}, {&#34;args&#34;: [[&#34;node&#34;, [4]]], &#34;op&#34;: {&#34;params&#34;: [&#34;-0.5&#34;], &#34;type&#34;: &#34;Rz&#34;}}, {&#34;args&#34;: [[&#34;node&#34;, [5]]], &#34;op&#34;: {&#34;type&#34;: &#34;X&#34;}}, {&#34;args&#34;: [[&#34;node&#34;, [4]]], &#34;op&#34;: {&#34;type&#34;: &#34;SX&#34;}}, {&#34;args&#34;: [[&#34;node&#34;, [5]]], &#34;op&#34;: {&#34;type&#34;: &#34;SX&#34;}}, {&#34;args&#34;: [[&#34;node&#34;, [4]]], &#34;op&#34;: {&#34;params&#34;: [&#34;0.5&#34;], &#34;type&#34;: &#34;Rz&#34;}}, {&#34;args&#34;: [[&#34;node&#34;, [4]], [&#34;node&#34;, [5]]], &#34;op&#34;: {&#34;type&#34;: &#34;CX&#34;}}, {&#34;args&#34;: [[&#34;node&#34;, [4]]], &#34;op&#34;: {&#34;type&#34;: &#34;SX&#34;}}, {&#34;args&#34;: [[&#34;node&#34;, [5]]], &#34;op&#34;: {&#34;type&#34;: &#34;X&#34;}}, {&#34;args&#34;: [[&#34;node&#34;, [4]]], &#34;op&#34;: {&#34;params&#34;: [&#34;0.4&#34;], &#34;type&#34;: &#34;Rz&#34;}}, {&#34;args&#34;: [[&#34;node&#34;, [5]]], &#34;op&#34;: {&#34;type&#34;: &#34;SX&#34;}}, {&#34;args&#34;: [[&#34;node&#34;, [4]]], &#34;op&#34;: {&#34;type&#34;: &#34;SX&#34;}}, {&#34;args&#34;: [[&#34;node&#34;, [4]]], &#34;op&#34;: {&#34;params&#34;: [&#34;0.5&#34;], &#34;type&#34;: &#34;Rz&#34;}}, {&#34;args&#34;: [[&#34;node&#34;, [4]], [&#34;node&#34;, [5]]], &#34;op&#34;: {&#34;type&#34;: &#34;CX&#34;}}, {&#34;args&#34;: [[&#34;node&#34;, [4]]], &#34;op&#34;: {&#34;type&#34;: &#34;SX&#34;}}, {&#34;args&#34;: [[&#34;node&#34;, [5]]], &#34;op&#34;: {&#34;params&#34;: [&#34;0.5&#34;], &#34;type&#34;: &#34;Rz&#34;}}, {&#34;args&#34;: [[&#34;node&#34;, [4]]], &#34;op&#34;: {&#34;params&#34;: [&#34;-0.5&#34;], &#34;type&#34;: &#34;Rz&#34;}}, {&#34;args&#34;: [[&#34;node&#34;, [5]]], &#34;op&#34;: {&#34;type&#34;: &#34;SX&#34;}}, {&#34;args&#34;: [[&#34;node&#34;, [4]]], &#34;op&#34;: {&#34;type&#34;: &#34;SX&#34;}}, {&#34;args&#34;: [[&#34;node&#34;, [5]]], &#34;op&#34;: {&#34;params&#34;: [&#34;1.4&#34;], &#34;type&#34;: &#34;Rz&#34;}}, {&#34;args&#34;: [[&#34;node&#34;, [4]]], &#34;op&#34;: {&#34;params&#34;: [&#34;-0.6&#34;], &#34;type&#34;: &#34;Rz&#34;}}, {&#34;args&#34;: [[&#34;node&#34;, [5]]], &#34;op&#34;: {&#34;type&#34;: &#34;SX&#34;}}, {&#34;args&#34;: [[&#34;node&#34;, [4]]], &#34;op&#34;: {&#34;type&#34;: &#34;SX&#34;}}, {&#34;args&#34;: [[&#34;node&#34;, [5]]], &#34;op&#34;: {&#34;params&#34;: [&#34;0.5&#34;], &#34;type&#34;: &#34;Rz&#34;}}, {&#34;args&#34;: [[&#34;node&#34;, [4]]], &#34;op&#34;: {&#34;params&#34;: [&#34;-0.5&#34;], &#34;type&#34;: &#34;Rz&#34;}}, {&#34;args&#34;: [[&#34;node&#34;, [5]]], &#34;op&#34;: {&#34;type&#34;: &#34;X&#34;}}, {&#34;args&#34;: [[&#34;node&#34;, [4]]], &#34;op&#34;: {&#34;type&#34;: &#34;SX&#34;}}, {&#34;args&#34;: [[&#34;node&#34;, [5]]], &#34;op&#34;: {&#34;type&#34;: &#34;SX&#34;}}, {&#34;args&#34;: [[&#34;node&#34;, [4]]], &#34;op&#34;: {&#34;params&#34;: [&#34;0.5&#34;], &#34;type&#34;: &#34;Rz&#34;}}, {&#34;args&#34;: [[&#34;node&#34;, [4]], [&#34;node&#34;, [5]]], &#34;op&#34;: {&#34;type&#34;: &#34;CX&#34;}}, {&#34;args&#34;: [[&#34;node&#34;, [4]]], &#34;op&#34;: {&#34;type&#34;: &#34;SX&#34;}}, {&#34;args&#34;: [[&#34;node&#34;, [5]]], &#34;op&#34;: {&#34;type&#34;: &#34;X&#34;}}, {&#34;args&#34;: [[&#34;node&#34;, [4]]], &#34;op&#34;: {&#34;params&#34;: [&#34;0.4&#34;], &#34;type&#34;: &#34;Rz&#34;}}, {&#34;args&#34;: [[&#34;node&#34;, [5]]], &#34;op&#34;: {&#34;type&#34;: &#34;SX&#34;}}, {&#34;args&#34;: [[&#34;node&#34;, [4]]], &#34;op&#34;: {&#34;type&#34;: &#34;SX&#34;}}, {&#34;args&#34;: [[&#34;node&#34;, [4]]], &#34;op&#34;: {&#34;params&#34;: [&#34;0.5&#34;], &#34;type&#34;: &#34;Rz&#34;}}, {&#34;args&#34;: [[&#34;node&#34;, [4]], [&#34;node&#34;, [5]]], &#34;op&#34;: {&#34;type&#34;: &#34;CX&#34;}}, {&#34;args&#34;: [[&#34;node&#34;, [4]]], &#34;op&#34;: {&#34;type&#34;: &#34;SX&#34;}}, {&#34;args&#34;: [[&#34;node&#34;, [5]]], &#34;op&#34;: {&#34;params&#34;: [&#34;0.5&#34;], &#34;type&#34;: &#34;Rz&#34;}}, {&#34;args&#34;: [[&#34;node&#34;, [4]]], &#34;op&#34;: {&#34;params&#34;: [&#34;-0.5&#34;], &#34;type&#34;: &#34;Rz&#34;}}, {&#34;args&#34;: [[&#34;node&#34;, [5]]], &#34;op&#34;: {&#34;type&#34;: &#34;SX&#34;}}, {&#34;args&#34;: [[&#34;node&#34;, [4]]], &#34;op&#34;: {&#34;type&#34;: &#34;SX&#34;}}, {&#34;args&#34;: [[&#34;node&#34;, [5]]], &#34;op&#34;: {&#34;params&#34;: [&#34;1.4&#34;], &#34;type&#34;: &#34;Rz&#34;}}, {&#34;args&#34;: [[&#34;node&#34;, [4]]], &#34;op&#34;: {&#34;params&#34;: [&#34;-0.6&#34;], &#34;type&#34;: &#34;Rz&#34;}}, {&#34;args&#34;: [[&#34;node&#34;, [5]]], &#34;op&#34;: {&#34;type&#34;: &#34;SX&#34;}}, {&#34;args&#34;: [[&#34;node&#34;, [4]]], &#34;op&#34;: {&#34;type&#34;: &#34;SX&#34;}}, {&#34;args&#34;: [[&#34;node&#34;, [5]]], &#34;op&#34;: {&#34;params&#34;: [&#34;0.5&#34;], &#34;type&#34;: &#34;Rz&#34;}}, {&#34;args&#34;: [[&#34;node&#34;, [4]]], &#34;op&#34;: {&#34;params&#34;: [&#34;-0.5&#34;], &#34;type&#34;: &#34;Rz&#34;}}, {&#34;args&#34;: [[&#34;node&#34;, [5]]], &#34;op&#34;: {&#34;type&#34;: &#34;X&#34;}}, {&#34;args&#34;: [[&#34;node&#34;, [4]]], &#34;op&#34;: {&#34;type&#34;: &#34;SX&#34;}}, {&#34;args&#34;: [[&#34;node&#34;, [5]]], &#34;op&#34;: {&#34;type&#34;: &#34;SX&#34;}}, {&#34;args&#34;: [[&#34;node&#34;, [4]]], &#34;op&#34;: {&#34;params&#34;: [&#34;0.5&#34;], &#34;type&#34;: &#34;Rz&#34;}}, {&#34;args&#34;: [[&#34;node&#34;, [4]], [&#34;node&#34;, [5]]], &#34;op&#34;: {&#34;type&#34;: &#34;CX&#34;}}, {&#34;args&#34;: [[&#34;node&#34;, [4]]], &#34;op&#34;: {&#34;type&#34;: &#34;SX&#34;}}, {&#34;args&#34;: [[&#34;node&#34;, [5]]], &#34;op&#34;: {&#34;type&#34;: &#34;X&#34;}}, {&#34;args&#34;: [[&#34;node&#34;, [4]]], &#34;op&#34;: {&#34;params&#34;: [&#34;0.4&#34;], &#34;type&#34;: &#34;Rz&#34;}}, {&#34;args&#34;: [[&#34;node&#34;, [5]]], &#34;op&#34;: {&#34;type&#34;: &#34;SX&#34;}}, {&#34;args&#34;: [[&#34;node&#34;, [4]]], &#34;op&#34;: {&#34;type&#34;: &#34;SX&#34;}}, {&#34;args&#34;: [[&#34;node&#34;, [4]]], &#34;op&#34;: {&#34;params&#34;: [&#34;0.5&#34;], &#34;type&#34;: &#34;Rz&#34;}}, {&#34;args&#34;: [[&#34;node&#34;, [4]], [&#34;node&#34;, [5]]], &#34;op&#34;: {&#34;type&#34;: &#34;CX&#34;}}, {&#34;args&#34;: [[&#34;node&#34;, [4]]], &#34;op&#34;: {&#34;type&#34;: &#34;SX&#34;}}, {&#34;args&#34;: [[&#34;node&#34;, [5]]], &#34;op&#34;: {&#34;params&#34;: [&#34;0.5&#34;], &#34;type&#34;: &#34;Rz&#34;}}, {&#34;args&#34;: [[&#34;node&#34;, [4]]], &#34;op&#34;: {&#34;params&#34;: [&#34;-0.5&#34;], &#34;type&#34;: &#34;Rz&#34;}}, {&#34;args&#34;: [[&#34;node&#34;, [5]]], &#34;op&#34;: {&#34;type&#34;: &#34;SX&#34;}}, {&#34;args&#34;: [[&#34;node&#34;, [4]]], &#34;op&#34;: {&#34;type&#34;: &#34;SX&#34;}}, {&#34;args&#34;: [[&#34;node&#34;, [5]]], &#34;op&#34;: {&#34;params&#34;: [&#34;1.4&#34;], &#34;type&#34;: &#34;Rz&#34;}}, {&#34;args&#34;: [[&#34;node&#34;, [4]]], &#34;op&#34;: {&#34;params&#34;: [&#34;-0.6&#34;], &#34;type&#34;: &#34;Rz&#34;}}, {&#34;args&#34;: [[&#34;node&#34;, [5]]], &#34;op&#34;: {&#34;type&#34;: &#34;SX&#34;}}, {&#34;args&#34;: [[&#34;node&#34;, [4]]], &#34;op&#34;: {&#34;type&#34;: &#34;SX&#34;}}, {&#34;args&#34;: [[&#34;node&#34;, [5]]], &#34;op&#34;: {&#34;params&#34;: [&#34;0.5&#34;], &#34;type&#34;: &#34;Rz&#34;}}, {&#34;args&#34;: [[&#34;node&#34;, [4]]], &#34;op&#34;: {&#34;params&#34;: [&#34;-0.5&#34;], &#34;type&#34;: &#34;Rz&#34;}}, {&#34;args&#34;: [[&#34;node&#34;, [5]]], &#34;op&#34;: {&#34;type&#34;: &#34;X&#34;}}, {&#34;args&#34;: [[&#34;node&#34;, [4]]], &#34;op&#34;: {&#34;type&#34;: &#34;SX&#34;}}, {&#34;args&#34;: [[&#34;node&#34;, [5]]], &#34;op&#34;: {&#34;type&#34;: &#34;SX&#34;}}, {&#34;args&#34;: [[&#34;node&#34;, [4]]], &#34;op&#34;: {&#34;params&#34;: [&#34;0.5&#34;], &#34;type&#34;: &#34;Rz&#34;}}, {&#34;args&#34;: [[&#34;node&#34;, [4]], [&#34;node&#34;, [5]]], &#34;op&#34;: {&#34;type&#34;: &#34;CX&#34;}}, {&#34;args&#34;: [[&#34;node&#34;, [4]]], &#34;op&#34;: {&#34;type&#34;: &#34;SX&#34;}}, {&#34;args&#34;: [[&#34;node&#34;, [5]]], &#34;op&#34;: {&#34;type&#34;: &#34;X&#34;}}, {&#34;args&#34;: [[&#34;node&#34;, [4]]], &#34;op&#34;: {&#34;params&#34;: [&#34;0.4&#34;], &#34;type&#34;: &#34;Rz&#34;}}, {&#34;args&#34;: [[&#34;node&#34;, [5]]], &#34;op&#34;: {&#34;type&#34;: &#34;SX&#34;}}, {&#34;args&#34;: [[&#34;node&#34;, [4]]], &#34;op&#34;: {&#34;type&#34;: &#34;SX&#34;}}, {&#34;args&#34;: [[&#34;node&#34;, [4]]], &#34;op&#34;: {&#34;params&#34;: [&#34;0.5&#34;], &#34;type&#34;: &#34;Rz&#34;}}, {&#34;args&#34;: [[&#34;node&#34;, [4]], [&#34;node&#34;, [5]]], &#34;op&#34;: {&#34;type&#34;: &#34;CX&#34;}}, {&#34;args&#34;: [[&#34;node&#34;, [4]]], &#34;op&#34;: {&#34;type&#34;: &#34;SX&#34;}}, {&#34;args&#34;: [[&#34;node&#34;, [5]]], &#34;op&#34;: {&#34;params&#34;: [&#34;0.5&#34;], &#34;type&#34;: &#34;Rz&#34;}}, {&#34;args&#34;: [[&#34;node&#34;, [4]]], &#34;op&#34;: {&#34;params&#34;: [&#34;-0.5&#34;], &#34;type&#34;: &#34;Rz&#34;}}, {&#34;args&#34;: [[&#34;node&#34;, [5]]], &#34;op&#34;: {&#34;type&#34;: &#34;SX&#34;}}, {&#34;args&#34;: [[&#34;node&#34;, [4]]], &#34;op&#34;: {&#34;type&#34;: &#34;SX&#34;}}, {&#34;args&#34;: [[&#34;node&#34;, [5]]], &#34;op&#34;: {&#34;params&#34;: [&#34;1.4&#34;], &#34;type&#34;: &#34;Rz&#34;}}, {&#34;args&#34;: [[&#34;node&#34;, [4]]], &#34;op&#34;: {&#34;params&#34;: [&#34;-0.6&#34;], &#34;type&#34;: &#34;Rz&#34;}}, {&#34;args&#34;: [[&#34;node&#34;, [5]]], &#34;op&#34;: {&#34;type&#34;: &#34;SX&#34;}}, {&#34;args&#34;: [[&#34;node&#34;, [4]]], &#34;op&#34;: {&#34;type&#34;: &#34;SX&#34;}}, {&#34;args&#34;: [[&#34;node&#34;, [5]]], &#34;op&#34;: {&#34;params&#34;: [&#34;0.5&#34;], &#34;type&#34;: &#34;Rz&#34;}}, {&#34;args&#34;: [[&#34;node&#34;, [4]]], &#34;op&#34;: {&#34;params&#34;: [&#34;-0.5&#34;], &#34;type&#34;: &#34;Rz&#34;}}, {&#34;args&#34;: [[&#34;node&#34;, [5]]], &#34;op&#34;: {&#34;type&#34;: &#34;X&#34;}}, {&#34;args&#34;: [[&#34;node&#34;, [4]]], &#34;op&#34;: {&#34;type&#34;: &#34;SX&#34;}}, {&#34;args&#34;: [[&#34;node&#34;, [5]]], &#34;op&#34;: {&#34;type&#34;: &#34;SX&#34;}}, {&#34;args&#34;: [[&#34;node&#34;, [4]]], &#34;op&#34;: {&#34;params&#34;: [&#34;0.5&#34;], &#34;type&#34;: &#34;Rz&#34;}}, {&#34;args&#34;: [[&#34;node&#34;, [4]], [&#34;node&#34;, [5]]], &#34;op&#34;: {&#34;type&#34;: &#34;CX&#34;}}, {&#34;args&#34;: [[&#34;node&#34;, [4]]], &#34;op&#34;: {&#34;type&#34;: &#34;SX&#34;}}, {&#34;args&#34;: [[&#34;node&#34;, [5]]], &#34;op&#34;: {&#34;type&#34;: &#34;X&#34;}}, {&#34;args&#34;: [[&#34;node&#34;, [4]]], &#34;op&#34;: {&#34;params&#34;: [&#34;0.4&#34;], &#34;type&#34;: &#34;Rz&#34;}}, {&#34;args&#34;: [[&#34;node&#34;, [5]]], &#34;op&#34;: {&#34;type&#34;: &#34;SX&#34;}}, {&#34;args&#34;: [[&#34;node&#34;, [4]]], &#34;op&#34;: {&#34;type&#34;: &#34;SX&#34;}}, {&#34;args&#34;: [[&#34;node&#34;, [4]]], &#34;op&#34;: {&#34;params&#34;: [&#34;0.5&#34;], &#34;type&#34;: &#34;Rz&#34;}}, {&#34;args&#34;: [[&#34;node&#34;, [4]], [&#34;node&#34;, [5]]], &#34;op&#34;: {&#34;type&#34;: &#34;CX&#34;}}, {&#34;args&#34;: [[&#34;node&#34;, [4]]], &#34;op&#34;: {&#34;type&#34;: &#34;SX&#34;}}, {&#34;args&#34;: [[&#34;node&#34;, [5]]], &#34;op&#34;: {&#34;params&#34;: [&#34;0.5&#34;], &#34;type&#34;: &#34;Rz&#34;}}, {&#34;args&#34;: [[&#34;node&#34;, [4]]], &#34;op&#34;: {&#34;params&#34;: [&#34;-0.5&#34;], &#34;type&#34;: &#34;Rz&#34;}}, {&#34;args&#34;: [[&#34;node&#34;, [5]]], &#34;op&#34;: {&#34;type&#34;: &#34;SX&#34;}}, {&#34;args&#34;: [[&#34;node&#34;, [4]]], &#34;op&#34;: {&#34;type&#34;: &#34;SX&#34;}}, {&#34;args&#34;: [[&#34;node&#34;, [5]]], &#34;op&#34;: {&#34;params&#34;: [&#34;1.4&#34;], &#34;type&#34;: &#34;Rz&#34;}}, {&#34;args&#34;: [[&#34;node&#34;, [4]]], &#34;op&#34;: {&#34;params&#34;: [&#34;-0.6&#34;], &#34;type&#34;: &#34;Rz&#34;}}, {&#34;args&#34;: [[&#34;node&#34;, [5]]], &#34;op&#34;: {&#34;type&#34;: &#34;SX&#34;}}, {&#34;args&#34;: [[&#34;node&#34;, [4]]], &#34;op&#34;: {&#34;type&#34;: &#34;SX&#34;}}, {&#34;args&#34;: [[&#34;node&#34;, [5]]], &#34;op&#34;: {&#34;params&#34;: [&#34;0.5&#34;], &#34;type&#34;: &#34;Rz&#34;}}, {&#34;args&#34;: [[&#34;node&#34;, [4]]], &#34;op&#34;: {&#34;params&#34;: [&#34;-0.5&#34;], &#34;type&#34;: &#34;Rz&#34;}}, {&#34;args&#34;: [[&#34;node&#34;, [5]]], &#34;op&#34;: {&#34;type&#34;: &#34;X&#34;}}, {&#34;args&#34;: [[&#34;node&#34;, [4]]], &#34;op&#34;: {&#34;type&#34;: &#34;SX&#34;}}, {&#34;args&#34;: [[&#34;node&#34;, [5]]], &#34;op&#34;: {&#34;type&#34;: &#34;SX&#34;}}, {&#34;args&#34;: [[&#34;node&#34;, [4]]], &#34;op&#34;: {&#34;params&#34;: [&#34;0.5&#34;], &#34;type&#34;: &#34;Rz&#34;}}, {&#34;args&#34;: [[&#34;node&#34;, [4]], [&#34;node&#34;, [5]]], &#34;op&#34;: {&#34;type&#34;: &#34;CX&#34;}}, {&#34;args&#34;: [[&#34;node&#34;, [4]]], &#34;op&#34;: {&#34;type&#34;: &#34;SX&#34;}}, {&#34;args&#34;: [[&#34;node&#34;, [5]]], &#34;op&#34;: {&#34;type&#34;: &#34;X&#34;}}, {&#34;args&#34;: [[&#34;node&#34;, [4]]], &#34;op&#34;: {&#34;params&#34;: [&#34;0.4&#34;], &#34;type&#34;: &#34;Rz&#34;}}, {&#34;args&#34;: [[&#34;node&#34;, [5]]], &#34;op&#34;: {&#34;type&#34;: &#34;SX&#34;}}, {&#34;args&#34;: [[&#34;node&#34;, [4]]], &#34;op&#34;: {&#34;type&#34;: &#34;SX&#34;}}, {&#34;args&#34;: [[&#34;node&#34;, [4]]], &#34;op&#34;: {&#34;params&#34;: [&#34;0.5&#34;], &#34;type&#34;: &#34;Rz&#34;}}, {&#34;args&#34;: [[&#34;node&#34;, [4]], [&#34;node&#34;, [5]]], &#34;op&#34;: {&#34;type&#34;: &#34;CX&#34;}}, {&#34;args&#34;: [[&#34;node&#34;, [4]]], &#34;op&#34;: {&#34;type&#34;: &#34;SX&#34;}}, {&#34;args&#34;: [[&#34;node&#34;, [5]]], &#34;op&#34;: {&#34;params&#34;: [&#34;0.5&#34;], &#34;type&#34;: &#34;Rz&#34;}}, {&#34;args&#34;: [[&#34;node&#34;, [4]]], &#34;op&#34;: {&#34;params&#34;: [&#34;-0.5&#34;], &#34;type&#34;: &#34;Rz&#34;}}, {&#34;args&#34;: [[&#34;node&#34;, [5]]], &#34;op&#34;: {&#34;type&#34;: &#34;SX&#34;}}, {&#34;args&#34;: [[&#34;node&#34;, [4]]], &#34;op&#34;: {&#34;type&#34;: &#34;SX&#34;}}, {&#34;args&#34;: [[&#34;node&#34;, [5]]], &#34;op&#34;: {&#34;params&#34;: [&#34;1.4&#34;], &#34;type&#34;: &#34;Rz&#34;}}, {&#34;args&#34;: [[&#34;node&#34;, [4]]], &#34;op&#34;: {&#34;params&#34;: [&#34;-0.6&#34;], &#34;type&#34;: &#34;Rz&#34;}}, {&#34;args&#34;: [[&#34;node&#34;, [5]]], &#34;op&#34;: {&#34;type&#34;: &#34;SX&#34;}}, {&#34;args&#34;: [[&#34;node&#34;, [4]]], &#34;op&#34;: {&#34;type&#34;: &#34;SX&#34;}}, {&#34;args&#34;: [[&#34;node&#34;, [5]]], &#34;op&#34;: {&#34;params&#34;: [&#34;0.5&#34;], &#34;type&#34;: &#34;Rz&#34;}}, {&#34;args&#34;: [[&#34;node&#34;, [4]]], &#34;op&#34;: {&#34;params&#34;: [&#34;-0.5&#34;], &#34;type&#34;: &#34;Rz&#34;}}, {&#34;args&#34;: [[&#34;node&#34;, [5]]], &#34;op&#34;: {&#34;type&#34;: &#34;X&#34;}}, {&#34;args&#34;: [[&#34;node&#34;, [4]]], &#34;op&#34;: {&#34;type&#34;: &#34;SX&#34;}}, {&#34;args&#34;: [[&#34;node&#34;, [5]]], &#34;op&#34;: {&#34;type&#34;: &#34;SX&#34;}}, {&#34;args&#34;: [[&#34;node&#34;, [4]]], &#34;op&#34;: {&#34;params&#34;: [&#34;0.5&#34;], &#34;type&#34;: &#34;Rz&#34;}}, {&#34;args&#34;: [[&#34;node&#34;, [4]], [&#34;node&#34;, [5]]], &#34;op&#34;: {&#34;type&#34;: &#34;CX&#34;}}, {&#34;args&#34;: [[&#34;node&#34;, [4]]], &#34;op&#34;: {&#34;type&#34;: &#34;SX&#34;}}, {&#34;args&#34;: [[&#34;node&#34;, [5]]], &#34;op&#34;: {&#34;type&#34;: &#34;X&#34;}}, {&#34;args&#34;: [[&#34;node&#34;, [4]]], &#34;op&#34;: {&#34;params&#34;: [&#34;0.4&#34;], &#34;type&#34;: &#34;Rz&#34;}}, {&#34;args&#34;: [[&#34;node&#34;, [5]]], &#34;op&#34;: {&#34;type&#34;: &#34;SX&#34;}}, {&#34;args&#34;: [[&#34;node&#34;, [4]]], &#34;op&#34;: {&#34;type&#34;: &#34;SX&#34;}}, {&#34;args&#34;: [[&#34;node&#34;, [4]]], &#34;op&#34;: {&#34;params&#34;: [&#34;0.5&#34;], &#34;type&#34;: &#34;Rz&#34;}}, {&#34;args&#34;: [[&#34;node&#34;, [4]], [&#34;node&#34;, [5]]], &#34;op&#34;: {&#34;type&#34;: &#34;CX&#34;}}, {&#34;args&#34;: [[&#34;node&#34;, [4]]], &#34;op&#34;: {&#34;type&#34;: &#34;SX&#34;}}, {&#34;args&#34;: [[&#34;node&#34;, [5]]], &#34;op&#34;: {&#34;params&#34;: [&#34;0.5&#34;], &#34;type&#34;: &#34;Rz&#34;}}, {&#34;args&#34;: [[&#34;node&#34;, [4]]], &#34;op&#34;: {&#34;params&#34;: [&#34;-0.5&#34;], &#34;type&#34;: &#34;Rz&#34;}}, {&#34;args&#34;: [[&#34;node&#34;, [5]]], &#34;op&#34;: {&#34;type&#34;: &#34;SX&#34;}}, {&#34;args&#34;: [[&#34;node&#34;, [4]]], &#34;op&#34;: {&#34;type&#34;: &#34;SX&#34;}}, {&#34;args&#34;: [[&#34;node&#34;, [5]]], &#34;op&#34;: {&#34;params&#34;: [&#34;1.4&#34;], &#34;type&#34;: &#34;Rz&#34;}}, {&#34;args&#34;: [[&#34;node&#34;, [4]]], &#34;op&#34;: {&#34;params&#34;: [&#34;-0.6&#34;], &#34;type&#34;: &#34;Rz&#34;}}, {&#34;args&#34;: [[&#34;node&#34;, [5]]], &#34;op&#34;: {&#34;type&#34;: &#34;SX&#34;}}, {&#34;args&#34;: [[&#34;node&#34;, [4]]], &#34;op&#34;: {&#34;type&#34;: &#34;SX&#34;}}, {&#34;args&#34;: [[&#34;node&#34;, [5]]], &#34;op&#34;: {&#34;params&#34;: [&#34;0.5&#34;], &#34;type&#34;: &#34;Rz&#34;}}, {&#34;args&#34;: [[&#34;node&#34;, [4]]], &#34;op&#34;: {&#34;params&#34;: [&#34;-0.5&#34;], &#34;type&#34;: &#34;Rz&#34;}}, {&#34;args&#34;: [[&#34;node&#34;, [5]]], &#34;op&#34;: {&#34;type&#34;: &#34;X&#34;}}, {&#34;args&#34;: [[&#34;node&#34;, [4]]], &#34;op&#34;: {&#34;type&#34;: &#34;SX&#34;}}, {&#34;args&#34;: [[&#34;node&#34;, [5]]], &#34;op&#34;: {&#34;type&#34;: &#34;SX&#34;}}, {&#34;args&#34;: [[&#34;node&#34;, [4]]], &#34;op&#34;: {&#34;params&#34;: [&#34;0.5&#34;], &#34;type&#34;: &#34;Rz&#34;}}, {&#34;args&#34;: [[&#34;node&#34;, [4]], [&#34;node&#34;, [5]]], &#34;op&#34;: {&#34;type&#34;: &#34;CX&#34;}}, {&#34;args&#34;: [[&#34;node&#34;, [4]]], &#34;op&#34;: {&#34;type&#34;: &#34;SX&#34;}}, {&#34;args&#34;: [[&#34;node&#34;, [5]]], &#34;op&#34;: {&#34;type&#34;: &#34;X&#34;}}, {&#34;args&#34;: [[&#34;node&#34;, [4]]], &#34;op&#34;: {&#34;params&#34;: [&#34;0.4&#34;], &#34;type&#34;: &#34;Rz&#34;}}, {&#34;args&#34;: [[&#34;node&#34;, [5]]], &#34;op&#34;: {&#34;type&#34;: &#34;SX&#34;}}, {&#34;args&#34;: [[&#34;node&#34;, [4]]], &#34;op&#34;: {&#34;type&#34;: &#34;SX&#34;}}, {&#34;args&#34;: [[&#34;node&#34;, [4]]], &#34;op&#34;: {&#34;params&#34;: [&#34;0.5&#34;], &#34;type&#34;: &#34;Rz&#34;}}, {&#34;args&#34;: [[&#34;node&#34;, [4]], [&#34;node&#34;, [5]]], &#34;op&#34;: {&#34;type&#34;: &#34;CX&#34;}}, {&#34;args&#34;: [[&#34;node&#34;, [4]]], &#34;op&#34;: {&#34;type&#34;: &#34;SX&#34;}}, {&#34;args&#34;: [[&#34;node&#34;, [5]]], &#34;op&#34;: {&#34;params&#34;: [&#34;0.5&#34;], &#34;type&#34;: &#34;Rz&#34;}}, {&#34;args&#34;: [[&#34;node&#34;, [4]]], &#34;op&#34;: {&#34;params&#34;: [&#34;-0.5&#34;], &#34;type&#34;: &#34;Rz&#34;}}, {&#34;args&#34;: [[&#34;node&#34;, [5]]], &#34;op&#34;: {&#34;type&#34;: &#34;SX&#34;}}, {&#34;args&#34;: [[&#34;node&#34;, [4]]], &#34;op&#34;: {&#34;type&#34;: &#34;SX&#34;}}, {&#34;args&#34;: [[&#34;node&#34;, [5]]], &#34;op&#34;: {&#34;params&#34;: [&#34;1.4&#34;], &#34;type&#34;: &#34;Rz&#34;}}, {&#34;args&#34;: [[&#34;node&#34;, [4]]], &#34;op&#34;: {&#34;params&#34;: [&#34;-0.6&#34;], &#34;type&#34;: &#34;Rz&#34;}}, {&#34;args&#34;: [[&#34;node&#34;, [5]]], &#34;op&#34;: {&#34;type&#34;: &#34;SX&#34;}}, {&#34;args&#34;: [[&#34;node&#34;, [4]]], &#34;op&#34;: {&#34;type&#34;: &#34;SX&#34;}}, {&#34;args&#34;: [[&#34;node&#34;, [5]]], &#34;op&#34;: {&#34;params&#34;: [&#34;0.5&#34;], &#34;type&#34;: &#34;Rz&#34;}}, {&#34;args&#34;: [[&#34;node&#34;, [4]]], &#34;op&#34;: {&#34;params&#34;: [&#34;-0.5&#34;], &#34;type&#34;: &#34;Rz&#34;}}, {&#34;args&#34;: [[&#34;node&#34;, [5]]], &#34;op&#34;: {&#34;type&#34;: &#34;X&#34;}}, {&#34;args&#34;: [[&#34;node&#34;, [4]]], &#34;op&#34;: {&#34;type&#34;: &#34;SX&#34;}}, {&#34;args&#34;: [[&#34;node&#34;, [5]]], &#34;op&#34;: {&#34;type&#34;: &#34;SX&#34;}}, {&#34;args&#34;: [[&#34;node&#34;, [4]]], &#34;op&#34;: {&#34;params&#34;: [&#34;0.5&#34;], &#34;type&#34;: &#34;Rz&#34;}}, {&#34;args&#34;: [[&#34;node&#34;, [4]], [&#34;node&#34;, [5]]], &#34;op&#34;: {&#34;type&#34;: &#34;CX&#34;}}, {&#34;args&#34;: [[&#34;node&#34;, [4]]], &#34;op&#34;: {&#34;type&#34;: &#34;SX&#34;}}, {&#34;args&#34;: [[&#34;node&#34;, [5]]], &#34;op&#34;: {&#34;type&#34;: &#34;X&#34;}}, {&#34;args&#34;: [[&#34;node&#34;, [4]]], &#34;op&#34;: {&#34;params&#34;: [&#34;0.4&#34;], &#34;type&#34;: &#34;Rz&#34;}}, {&#34;args&#34;: [[&#34;node&#34;, [5]]], &#34;op&#34;: {&#34;type&#34;: &#34;SX&#34;}}, {&#34;args&#34;: [[&#34;node&#34;, [4]]], &#34;op&#34;: {&#34;type&#34;: &#34;SX&#34;}}, {&#34;args&#34;: [[&#34;node&#34;, [4]]], &#34;op&#34;: {&#34;params&#34;: [&#34;0.5&#34;], &#34;type&#34;: &#34;Rz&#34;}}, {&#34;args&#34;: [[&#34;node&#34;, [4]], [&#34;node&#34;, [5]]], &#34;op&#34;: {&#34;type&#34;: &#34;CX&#34;}}, {&#34;args&#34;: [[&#34;node&#34;, [4]]], &#34;op&#34;: {&#34;type&#34;: &#34;SX&#34;}}, {&#34;args&#34;: [[&#34;node&#34;, [5]]], &#34;op&#34;: {&#34;params&#34;: [&#34;0.5&#34;], &#34;type&#34;: &#34;Rz&#34;}}, {&#34;args&#34;: [[&#34;node&#34;, [4]]], &#34;op&#34;: {&#34;params&#34;: [&#34;-0.5&#34;], &#34;type&#34;: &#34;Rz&#34;}}, {&#34;args&#34;: [[&#34;node&#34;, [5]]], &#34;op&#34;: {&#34;type&#34;: &#34;SX&#34;}}, {&#34;args&#34;: [[&#34;node&#34;, [4]]], &#34;op&#34;: {&#34;type&#34;: &#34;SX&#34;}}, {&#34;args&#34;: [[&#34;node&#34;, [5]]], &#34;op&#34;: {&#34;params&#34;: [&#34;1.4&#34;], &#34;type&#34;: &#34;Rz&#34;}}, {&#34;args&#34;: [[&#34;node&#34;, [4]]], &#34;op&#34;: {&#34;params&#34;: [&#34;-0.6&#34;], &#34;type&#34;: &#34;Rz&#34;}}, {&#34;args&#34;: [[&#34;node&#34;, [5]]], &#34;op&#34;: {&#34;type&#34;: &#34;SX&#34;}}, {&#34;args&#34;: [[&#34;node&#34;, [4]]], &#34;op&#34;: {&#34;type&#34;: &#34;SX&#34;}}, {&#34;args&#34;: [[&#34;node&#34;, [5]]], &#34;op&#34;: {&#34;params&#34;: [&#34;0.5&#34;], &#34;type&#34;: &#34;Rz&#34;}}, {&#34;args&#34;: [[&#34;node&#34;, [4]]], &#34;op&#34;: {&#34;params&#34;: [&#34;-0.5&#34;], &#34;type&#34;: &#34;Rz&#34;}}, {&#34;args&#34;: [[&#34;node&#34;, [5]]], &#34;op&#34;: {&#34;type&#34;: &#34;X&#34;}}, {&#34;args&#34;: [[&#34;node&#34;, [4]]], &#34;op&#34;: {&#34;type&#34;: &#34;SX&#34;}}, {&#34;args&#34;: [[&#34;node&#34;, [5]]], &#34;op&#34;: {&#34;type&#34;: &#34;SX&#34;}}, {&#34;args&#34;: [[&#34;node&#34;, [4]]], &#34;op&#34;: {&#34;params&#34;: [&#34;0.5&#34;], &#34;type&#34;: &#34;Rz&#34;}}, {&#34;args&#34;: [[&#34;node&#34;, [4]], [&#34;node&#34;, [5]]], &#34;op&#34;: {&#34;type&#34;: &#34;CX&#34;}}, {&#34;args&#34;: [[&#34;node&#34;, [4]]], &#34;op&#34;: {&#34;type&#34;: &#34;SX&#34;}}, {&#34;args&#34;: [[&#34;node&#34;, [5]]], &#34;op&#34;: {&#34;type&#34;: &#34;X&#34;}}, {&#34;args&#34;: [[&#34;node&#34;, [4]]], &#34;op&#34;: {&#34;params&#34;: [&#34;0.4&#34;], &#34;type&#34;: &#34;Rz&#34;}}, {&#34;args&#34;: [[&#34;node&#34;, [5]]], &#34;op&#34;: {&#34;type&#34;: &#34;SX&#34;}}, {&#34;args&#34;: [[&#34;node&#34;, [4]]], &#34;op&#34;: {&#34;type&#34;: &#34;SX&#34;}}, {&#34;args&#34;: [[&#34;node&#34;, [4]]], &#34;op&#34;: {&#34;params&#34;: [&#34;0.5&#34;], &#34;type&#34;: &#34;Rz&#34;}}, {&#34;args&#34;: [[&#34;node&#34;, [4]], [&#34;node&#34;, [5]]], &#34;op&#34;: {&#34;type&#34;: &#34;CX&#34;}}, {&#34;args&#34;: [[&#34;node&#34;, [4]]], &#34;op&#34;: {&#34;type&#34;: &#34;SX&#34;}}, {&#34;args&#34;: [[&#34;node&#34;, [5]]], &#34;op&#34;: {&#34;params&#34;: [&#34;0.5&#34;], &#34;type&#34;: &#34;Rz&#34;}}, {&#34;args&#34;: [[&#34;node&#34;, [4]]], &#34;op&#34;: {&#34;params&#34;: [&#34;-0.5&#34;], &#34;type&#34;: &#34;Rz&#34;}}, {&#34;args&#34;: [[&#34;node&#34;, [5]]], &#34;op&#34;: {&#34;type&#34;: &#34;SX&#34;}}, {&#34;args&#34;: [[&#34;node&#34;, [4]]], &#34;op&#34;: {&#34;type&#34;: &#34;SX&#34;}}, {&#34;args&#34;: [[&#34;node&#34;, [5]]], &#34;op&#34;: {&#34;params&#34;: [&#34;1.4&#34;], &#34;type&#34;: &#34;Rz&#34;}}, {&#34;args&#34;: [[&#34;node&#34;, [4]]], &#34;op&#34;: {&#34;params&#34;: [&#34;-0.6&#34;], &#34;type&#34;: &#34;Rz&#34;}}, {&#34;args&#34;: [[&#34;node&#34;, [4]]], &#34;op&#34;: {&#34;type&#34;: &#34;SX&#34;}}, {&#34;args&#34;: [[&#34;node&#34;, [4]]], &#34;op&#34;: {&#34;params&#34;: [&#34;1.5&#34;], &#34;type&#34;: &#34;Rz&#34;}}, {&#34;args&#34;: [[&#34;node&#34;, [4]], [&#34;node&#34;, [5]]], &#34;op&#34;: {&#34;type&#34;: &#34;CX&#34;}}, {&#34;args&#34;: [[&#34;node&#34;, [5]], [&#34;node&#34;, [4]]], &#34;op&#34;: {&#34;type&#34;: &#34;CX&#34;}}, {&#34;args&#34;: [[&#34;node&#34;, [4]], [&#34;node&#34;, [5]]], &#34;op&#34;: {&#34;type&#34;: &#34;CX&#34;}}, {&#34;args&#34;: [[&#34;node&#34;, [5]], [&#34;node&#34;, [3]]], &#34;op&#34;: {&#34;type&#34;: &#34;CX&#34;}}, {&#34;args&#34;: [[&#34;node&#34;, [3]], [&#34;node&#34;, [5]]], &#34;op&#34;: {&#34;type&#34;: &#34;CX&#34;}}, {&#34;args&#34;: [[&#34;node&#34;, [5]], [&#34;node&#34;, [3]]], &#34;op&#34;: {&#34;type&#34;: &#34;CX&#34;}}, {&#34;args&#34;: [[&#34;node&#34;, [3]], [&#34;node&#34;, [1]]], &#34;op&#34;: {&#34;type&#34;: &#34;CX&#34;}}, {&#34;args&#34;: [[&#34;node&#34;, [6]], [&#34;node&#34;, [5]]], &#34;op&#34;: {&#34;type&#34;: &#34;CX&#34;}}, {&#34;args&#34;: [[&#34;node&#34;, [1]]], &#34;op&#34;: {&#34;params&#34;: [&#34;1.0&#34;], &#34;type&#34;: &#34;Rz&#34;}}, {&#34;args&#34;: [[&#34;node&#34;, [3]]], &#34;op&#34;: {&#34;type&#34;: &#34;X&#34;}}, {&#34;args&#34;: [[&#34;node&#34;, [5]], [&#34;node&#34;, [6]]], &#34;op&#34;: {&#34;type&#34;: &#34;CX&#34;}}, {&#34;args&#34;: [[&#34;node&#34;, [1]]], &#34;op&#34;: {&#34;type&#34;: &#34;X&#34;}}, {&#34;args&#34;: [[&#34;node&#34;, [3]]], &#34;op&#34;: {&#34;type&#34;: &#34;SX&#34;}}, {&#34;args&#34;: [[&#34;node&#34;, [6]], [&#34;node&#34;, [5]]], &#34;op&#34;: {&#34;type&#34;: &#34;CX&#34;}}, {&#34;args&#34;: [[&#34;node&#34;, [1]]], &#34;op&#34;: {&#34;params&#34;: [&#34;0.5&#34;], &#34;type&#34;: &#34;Rz&#34;}}, {&#34;args&#34;: [[&#34;node&#34;, [3]], [&#34;node&#34;, [1]]], &#34;op&#34;: {&#34;type&#34;: &#34;CX&#34;}}, {&#34;args&#34;: [[&#34;node&#34;, [1]]], &#34;op&#34;: {&#34;params&#34;: [&#34;0.5&#34;], &#34;type&#34;: &#34;Rz&#34;}}, {&#34;args&#34;: [[&#34;node&#34;, [3]]], &#34;op&#34;: {&#34;type&#34;: &#34;SX&#34;}}, {&#34;args&#34;: [[&#34;node&#34;, [3]]], &#34;op&#34;: {&#34;params&#34;: [&#34;0.5&#34;], &#34;type&#34;: &#34;Rz&#34;}}, {&#34;args&#34;: [[&#34;node&#34;, [3]], [&#34;node&#34;, [1]]], &#34;op&#34;: {&#34;type&#34;: &#34;CX&#34;}}, {&#34;args&#34;: [[&#34;node&#34;, [1]]], &#34;op&#34;: {&#34;params&#34;: [&#34;0.5&#34;], &#34;type&#34;: &#34;Rz&#34;}}, {&#34;args&#34;: [[&#34;node&#34;, [3]]], &#34;op&#34;: {&#34;params&#34;: [&#34;0.5&#34;], &#34;type&#34;: &#34;Rz&#34;}}, {&#34;args&#34;: [[&#34;node&#34;, [1]]], &#34;op&#34;: {&#34;type&#34;: &#34;X&#34;}}, {&#34;args&#34;: [[&#34;node&#34;, [3]]], &#34;op&#34;: {&#34;type&#34;: &#34;X&#34;}}, {&#34;args&#34;: [[&#34;node&#34;, [1]]], &#34;op&#34;: {&#34;params&#34;: [&#34;0.5&#34;], &#34;type&#34;: &#34;Rz&#34;}}, {&#34;args&#34;: [[&#34;node&#34;, [3]]], &#34;op&#34;: {&#34;params&#34;: [&#34;0.5&#34;], &#34;type&#34;: &#34;Rz&#34;}}, {&#34;args&#34;: [[&#34;node&#34;, [1]]], &#34;op&#34;: {&#34;type&#34;: &#34;X&#34;}}, {&#34;args&#34;: [[&#34;node&#34;, [3]]], &#34;op&#34;: {&#34;type&#34;: &#34;X&#34;}}, {&#34;args&#34;: [[&#34;node&#34;, [1]]], &#34;op&#34;: {&#34;params&#34;: [&#34;0.5&#34;], &#34;type&#34;: &#34;Rz&#34;}}, {&#34;args&#34;: [[&#34;node&#34;, [3]]], &#34;op&#34;: {&#34;params&#34;: [&#34;-0.5&#34;], &#34;type&#34;: &#34;Rz&#34;}}, {&#34;args&#34;: [[&#34;node&#34;, [1]]], &#34;op&#34;: {&#34;type&#34;: &#34;SX&#34;}}, {&#34;args&#34;: [[&#34;node&#34;, [3]]], &#34;op&#34;: {&#34;type&#34;: &#34;SX&#34;}}, {&#34;args&#34;: [[&#34;node&#34;, [1]]], &#34;op&#34;: {&#34;type&#34;: &#34;SX&#34;}}, {&#34;args&#34;: [[&#34;node&#34;, [3]]], &#34;op&#34;: {&#34;params&#34;: [&#34;0.5&#34;], &#34;type&#34;: &#34;Rz&#34;}}, {&#34;args&#34;: [[&#34;node&#34;, [1]]], &#34;op&#34;: {&#34;params&#34;: [&#34;0.5&#34;], &#34;type&#34;: &#34;Rz&#34;}}, {&#34;args&#34;: [[&#34;node&#34;, [3]]], &#34;op&#34;: {&#34;type&#34;: &#34;X&#34;}}, {&#34;args&#34;: [[&#34;node&#34;, [1]]], &#34;op&#34;: {&#34;type&#34;: &#34;SX&#34;}}, {&#34;args&#34;: [[&#34;node&#34;, [3]]], &#34;op&#34;: {&#34;type&#34;: &#34;SX&#34;}}, {&#34;args&#34;: [[&#34;node&#34;, [1]]], &#34;op&#34;: {&#34;params&#34;: [&#34;0.5&#34;], &#34;type&#34;: &#34;Rz&#34;}}, {&#34;args&#34;: [[&#34;node&#34;, [1]], [&#34;node&#34;, [0]]], &#34;op&#34;: {&#34;type&#34;: &#34;CX&#34;}}, {&#34;args&#34;: [[&#34;node&#34;, [0]]], &#34;op&#34;: {&#34;type&#34;: &#34;X&#34;}}, {&#34;args&#34;: [[&#34;node&#34;, [1]]], &#34;op&#34;: {&#34;type&#34;: &#34;SX&#34;}}, {&#34;args&#34;: [[&#34;node&#34;, [0]]], &#34;op&#34;: {&#34;type&#34;: &#34;SX&#34;}}, {&#34;args&#34;: [[&#34;node&#34;, [1]]], &#34;op&#34;: {&#34;params&#34;: [&#34;0.25&#34;], &#34;type&#34;: &#34;Rz&#34;}}, {&#34;args&#34;: [[&#34;node&#34;, [1]]], &#34;op&#34;: {&#34;type&#34;: &#34;SX&#34;}}, {&#34;args&#34;: [[&#34;node&#34;, [1]]], &#34;op&#34;: {&#34;params&#34;: [&#34;0.5&#34;], &#34;type&#34;: &#34;Rz&#34;}}, {&#34;args&#34;: [[&#34;node&#34;, [1]], [&#34;node&#34;, [0]]], &#34;op&#34;: {&#34;type&#34;: &#34;CX&#34;}}, {&#34;args&#34;: [[&#34;node&#34;, [0]]], &#34;op&#34;: {&#34;params&#34;: [&#34;0.5&#34;], &#34;type&#34;: &#34;Rz&#34;}}, {&#34;args&#34;: [[&#34;node&#34;, [1]]], &#34;op&#34;: {&#34;type&#34;: &#34;SX&#34;}}, {&#34;args&#34;: [[&#34;node&#34;, [0]]], &#34;op&#34;: {&#34;type&#34;: &#34;SX&#34;}}, {&#34;args&#34;: [[&#34;node&#34;, [1]]], &#34;op&#34;: {&#34;params&#34;: [&#34;0.5&#34;], &#34;type&#34;: &#34;Rz&#34;}}, {&#34;args&#34;: [[&#34;node&#34;, [0]]], &#34;op&#34;: {&#34;params&#34;: [&#34;1.75&#34;], &#34;type&#34;: &#34;Rz&#34;}}, {&#34;args&#34;: [[&#34;node&#34;, [1]]], &#34;op&#34;: {&#34;type&#34;: &#34;SX&#34;}}, {&#34;args&#34;: [[&#34;node&#34;, [0]]], &#34;op&#34;: {&#34;type&#34;: &#34;SX&#34;}}, {&#34;args&#34;: [[&#34;node&#34;, [1]]], &#34;op&#34;: {&#34;params&#34;: [&#34;-1.25&#34;], &#34;type&#34;: &#34;Rz&#34;}}, {&#34;args&#34;: [[&#34;node&#34;, [0]]], &#34;op&#34;: {&#34;type&#34;: &#34;SX&#34;}}, {&#34;args&#34;: [[&#34;node&#34;, [1]]], &#34;op&#34;: {&#34;type&#34;: &#34;SX&#34;}}, {&#34;args&#34;: [[&#34;node&#34;, [0]]], &#34;op&#34;: {&#34;params&#34;: [&#34;0.5&#34;], &#34;type&#34;: &#34;Rz&#34;}}, {&#34;args&#34;: [[&#34;node&#34;, [1]]], &#34;op&#34;: {&#34;params&#34;: [&#34;0.5&#34;], &#34;type&#34;: &#34;Rz&#34;}}, {&#34;args&#34;: [[&#34;node&#34;, [0]]], &#34;op&#34;: {&#34;type&#34;: &#34;SX&#34;}}, {&#34;args&#34;: [[&#34;node&#34;, [1]]], &#34;op&#34;: {&#34;type&#34;: &#34;SX&#34;}}, {&#34;args&#34;: [[&#34;node&#34;, [0]]], &#34;op&#34;: {&#34;params&#34;: [&#34;0.5&#34;], &#34;type&#34;: &#34;Rz&#34;}}, {&#34;args&#34;: [[&#34;node&#34;, [1]]], &#34;op&#34;: {&#34;params&#34;: [&#34;0.5&#34;], &#34;type&#34;: &#34;Rz&#34;}}, {&#34;args&#34;: [[&#34;node&#34;, [1]], [&#34;node&#34;, [3]]], &#34;op&#34;: {&#34;type&#34;: &#34;CX&#34;}}, {&#34;args&#34;: [[&#34;node&#34;, [3]], [&#34;node&#34;, [1]]], &#34;op&#34;: {&#34;type&#34;: &#34;CX&#34;}}, {&#34;args&#34;: [[&#34;node&#34;, [1]], [&#34;node&#34;, [3]]], &#34;op&#34;: {&#34;type&#34;: &#34;CX&#34;}}, {&#34;args&#34;: [[&#34;node&#34;, [3]], [&#34;node&#34;, [5]]], &#34;op&#34;: {&#34;type&#34;: &#34;CX&#34;}}, {&#34;args&#34;: [[&#34;node&#34;, [3]]], &#34;op&#34;: {&#34;type&#34;: &#34;SX&#34;}}, {&#34;args&#34;: [[&#34;node&#34;, [5]]], &#34;op&#34;: {&#34;type&#34;: &#34;X&#34;}}, {&#34;args&#34;: [[&#34;node&#34;, [3]]], &#34;op&#34;: {&#34;params&#34;: [&#34;0.125&#34;], &#34;type&#34;: &#34;Rz&#34;}}, {&#34;args&#34;: [[&#34;node&#34;, [5]]], &#34;op&#34;: {&#34;type&#34;: &#34;SX&#34;}}, {&#34;args&#34;: [[&#34;node&#34;, [3]]], &#34;op&#34;: {&#34;type&#34;: &#34;SX&#34;}}, {&#34;args&#34;: [[&#34;node&#34;, [3]]], &#34;op&#34;: {&#34;params&#34;: [&#34;0.5&#34;], &#34;type&#34;: &#34;Rz&#34;}}, {&#34;args&#34;: [[&#34;node&#34;, [3]], [&#34;node&#34;, [5]]], &#34;op&#34;: {&#34;type&#34;: &#34;CX&#34;}}, {&#34;args&#34;: [[&#34;node&#34;, [3]]], &#34;op&#34;: {&#34;type&#34;: &#34;SX&#34;}}, {&#34;args&#34;: [[&#34;node&#34;, [5]]], &#34;op&#34;: {&#34;params&#34;: [&#34;0.5&#34;], &#34;type&#34;: &#34;Rz&#34;}}, {&#34;args&#34;: [[&#34;node&#34;, [3]]], &#34;op&#34;: {&#34;params&#34;: [&#34;0.5&#34;], &#34;type&#34;: &#34;Rz&#34;}}, {&#34;args&#34;: [[&#34;node&#34;, [5]]], &#34;op&#34;: {&#34;type&#34;: &#34;SX&#34;}}, {&#34;args&#34;: [[&#34;node&#34;, [3]]], &#34;op&#34;: {&#34;type&#34;: &#34;SX&#34;}}, {&#34;args&#34;: [[&#34;node&#34;, [5]]], &#34;op&#34;: {&#34;params&#34;: [&#34;0.875&#34;], &#34;type&#34;: &#34;Rz&#34;}}, {&#34;args&#34;: [[&#34;node&#34;, [3]]], &#34;op&#34;: {&#34;params&#34;: [&#34;0.875&#34;], &#34;type&#34;: &#34;Rz&#34;}}, {&#34;args&#34;: [[&#34;node&#34;, [5]]], &#34;op&#34;: {&#34;type&#34;: &#34;SX&#34;}}, {&#34;args&#34;: [[&#34;node&#34;, [3]]], &#34;op&#34;: {&#34;type&#34;: &#34;SX&#34;}}, {&#34;args&#34;: [[&#34;node&#34;, [5]]], &#34;op&#34;: {&#34;params&#34;: [&#34;0.5&#34;], &#34;type&#34;: &#34;Rz&#34;}}, {&#34;args&#34;: [[&#34;node&#34;, [3]]], &#34;op&#34;: {&#34;params&#34;: [&#34;0.5&#34;], &#34;type&#34;: &#34;Rz&#34;}}, {&#34;args&#34;: [[&#34;node&#34;, [5]]], &#34;op&#34;: {&#34;type&#34;: &#34;X&#34;}}, {&#34;args&#34;: [[&#34;node&#34;, [3]]], &#34;op&#34;: {&#34;type&#34;: &#34;SX&#34;}}, {&#34;args&#34;: [[&#34;node&#34;, [5]]], &#34;op&#34;: {&#34;type&#34;: &#34;SX&#34;}}, {&#34;args&#34;: [[&#34;node&#34;, [3]]], &#34;op&#34;: {&#34;params&#34;: [&#34;0.5&#34;], &#34;type&#34;: &#34;Rz&#34;}}, {&#34;args&#34;: [[&#34;node&#34;, [5]], [&#34;node&#34;, [3]]], &#34;op&#34;: {&#34;type&#34;: &#34;CX&#34;}}, {&#34;args&#34;: [[&#34;node&#34;, [3]], [&#34;node&#34;, [5]]], &#34;op&#34;: {&#34;type&#34;: &#34;CX&#34;}}, {&#34;args&#34;: [[&#34;node&#34;, [5]], [&#34;node&#34;, [3]]], &#34;op&#34;: {&#34;type&#34;: &#34;CX&#34;}}, {&#34;args&#34;: [[&#34;node&#34;, [3]], [&#34;node&#34;, [1]]], &#34;op&#34;: {&#34;type&#34;: &#34;CX&#34;}}, {&#34;args&#34;: [[&#34;node&#34;, [5]], [&#34;node&#34;, [6]]], &#34;op&#34;: {&#34;type&#34;: &#34;CX&#34;}}, {&#34;args&#34;: [[&#34;node&#34;, [1]], [&#34;node&#34;, [3]]], &#34;op&#34;: {&#34;type&#34;: &#34;CX&#34;}}, {&#34;args&#34;: [[&#34;node&#34;, [5]]], &#34;op&#34;: {&#34;type&#34;: &#34;SX&#34;}}, {&#34;args&#34;: [[&#34;node&#34;, [6]]], &#34;op&#34;: {&#34;type&#34;: &#34;X&#34;}}, {&#34;args&#34;: [[&#34;node&#34;, [3]], [&#34;node&#34;, [1]]], &#34;op&#34;: {&#34;type&#34;: &#34;CX&#34;}}, {&#34;args&#34;: [[&#34;node&#34;, [5]]], &#34;op&#34;: {&#34;params&#34;: [&#34;0.0625&#34;], &#34;type&#34;: &#34;Rz&#34;}}, {&#34;args&#34;: [[&#34;node&#34;, [6]]], &#34;op&#34;: {&#34;type&#34;: &#34;SX&#34;}}, {&#34;args&#34;: [[&#34;node&#34;, [0]], [&#34;node&#34;, [1]]], &#34;op&#34;: {&#34;type&#34;: &#34;CX&#34;}}, {&#34;args&#34;: [[&#34;node&#34;, [5]]], &#34;op&#34;: {&#34;type&#34;: &#34;SX&#34;}}, {&#34;args&#34;: [[&#34;node&#34;, [0]]], &#34;op&#34;: {&#34;type&#34;: &#34;SX&#34;}}, {&#34;args&#34;: [[&#34;node&#34;, [1]]], &#34;op&#34;: {&#34;type&#34;: &#34;X&#34;}}, {&#34;args&#34;: [[&#34;node&#34;, [5]]], &#34;op&#34;: {&#34;params&#34;: [&#34;0.5&#34;], &#34;type&#34;: &#34;Rz&#34;}}, {&#34;args&#34;: [[&#34;node&#34;, [0]]], &#34;op&#34;: {&#34;params&#34;: [&#34;0.25&#34;], &#34;type&#34;: &#34;Rz&#34;}}, {&#34;args&#34;: [[&#34;node&#34;, [1]]], &#34;op&#34;: {&#34;type&#34;: &#34;SX&#34;}}, {&#34;args&#34;: [[&#34;node&#34;, [5]], [&#34;node&#34;, [6]]], &#34;op&#34;: {&#34;type&#34;: &#34;CX&#34;}}, {&#34;args&#34;: [[&#34;node&#34;, [0]]], &#34;op&#34;: {&#34;type&#34;: &#34;SX&#34;}}, {&#34;args&#34;: [[&#34;node&#34;, [5]]], &#34;op&#34;: {&#34;type&#34;: &#34;SX&#34;}}, {&#34;args&#34;: [[&#34;node&#34;, [6]]], &#34;op&#34;: {&#34;params&#34;: [&#34;0.5&#34;], &#34;type&#34;: &#34;Rz&#34;}}, {&#34;args&#34;: [[&#34;node&#34;, [0]]], &#34;op&#34;: {&#34;params&#34;: [&#34;0.5&#34;], &#34;type&#34;: &#34;Rz&#34;}}, {&#34;args&#34;: [[&#34;node&#34;, [5]]], &#34;op&#34;: {&#34;params&#34;: [&#34;0.5&#34;], &#34;type&#34;: &#34;Rz&#34;}}, {&#34;args&#34;: [[&#34;node&#34;, [6]]], &#34;op&#34;: {&#34;type&#34;: &#34;SX&#34;}}, {&#34;args&#34;: [[&#34;node&#34;, [0]], [&#34;node&#34;, [1]]], &#34;op&#34;: {&#34;type&#34;: &#34;CX&#34;}}, {&#34;args&#34;: [[&#34;node&#34;, [5]]], &#34;op&#34;: {&#34;type&#34;: &#34;SX&#34;}}, {&#34;args&#34;: [[&#34;node&#34;, [6]]], &#34;op&#34;: {&#34;params&#34;: [&#34;0.9375&#34;], &#34;type&#34;: &#34;Rz&#34;}}, {&#34;args&#34;: [[&#34;node&#34;, [0]]], &#34;op&#34;: {&#34;type&#34;: &#34;SX&#34;}}, {&#34;args&#34;: [[&#34;node&#34;, [1]]], &#34;op&#34;: {&#34;params&#34;: [&#34;0.5&#34;], &#34;type&#34;: &#34;Rz&#34;}}, {&#34;args&#34;: [[&#34;node&#34;, [5]]], &#34;op&#34;: {&#34;params&#34;: [&#34;0.9375&#34;], &#34;type&#34;: &#34;Rz&#34;}}, {&#34;args&#34;: [[&#34;node&#34;, [6]]], &#34;op&#34;: {&#34;type&#34;: &#34;SX&#34;}}, {&#34;args&#34;: [[&#34;node&#34;, [0]]], &#34;op&#34;: {&#34;params&#34;: [&#34;0.5&#34;], &#34;type&#34;: &#34;Rz&#34;}}, {&#34;args&#34;: [[&#34;node&#34;, [1]]], &#34;op&#34;: {&#34;type&#34;: &#34;SX&#34;}}, {&#34;args&#34;: [[&#34;node&#34;, [5]]], &#34;op&#34;: {&#34;type&#34;: &#34;SX&#34;}}, {&#34;args&#34;: [[&#34;node&#34;, [6]]], &#34;op&#34;: {&#34;params&#34;: [&#34;0.5&#34;], &#34;type&#34;: &#34;Rz&#34;}}, {&#34;args&#34;: [[&#34;node&#34;, [0]]], &#34;op&#34;: {&#34;type&#34;: &#34;SX&#34;}}, {&#34;args&#34;: [[&#34;node&#34;, [1]]], &#34;op&#34;: {&#34;params&#34;: [&#34;1.75&#34;], &#34;type&#34;: &#34;Rz&#34;}}, {&#34;args&#34;: [[&#34;node&#34;, [5]]], &#34;op&#34;: {&#34;params&#34;: [&#34;0.5&#34;], &#34;type&#34;: &#34;Rz&#34;}}, {&#34;args&#34;: [[&#34;node&#34;, [6]]], &#34;op&#34;: {&#34;type&#34;: &#34;X&#34;}}, {&#34;args&#34;: [[&#34;node&#34;, [0]]], &#34;op&#34;: {&#34;params&#34;: [&#34;-1.25&#34;], &#34;type&#34;: &#34;Rz&#34;}}, {&#34;args&#34;: [[&#34;node&#34;, [1]]], &#34;op&#34;: {&#34;type&#34;: &#34;SX&#34;}}, {&#34;args&#34;: [[&#34;node&#34;, [5]]], &#34;op&#34;: {&#34;type&#34;: &#34;SX&#34;}}, {&#34;args&#34;: [[&#34;node&#34;, [6]]], &#34;op&#34;: {&#34;type&#34;: &#34;SX&#34;}}, {&#34;args&#34;: [[&#34;node&#34;, [0]]], &#34;op&#34;: {&#34;type&#34;: &#34;SX&#34;}}, {&#34;args&#34;: [[&#34;node&#34;, [1]]], &#34;op&#34;: {&#34;type&#34;: &#34;SX&#34;}}, {&#34;args&#34;: [[&#34;node&#34;, [5]]], &#34;op&#34;: {&#34;params&#34;: [&#34;0.5&#34;], &#34;type&#34;: &#34;Rz&#34;}}, {&#34;args&#34;: [[&#34;node&#34;, [0]]], &#34;op&#34;: {&#34;params&#34;: [&#34;0.5&#34;], &#34;type&#34;: &#34;Rz&#34;}}, {&#34;args&#34;: [[&#34;node&#34;, [1]]], &#34;op&#34;: {&#34;params&#34;: [&#34;0.5&#34;], &#34;type&#34;: &#34;Rz&#34;}}, {&#34;args&#34;: [[&#34;node&#34;, [5]], [&#34;node&#34;, [3]]], &#34;op&#34;: {&#34;type&#34;: &#34;CX&#34;}}, {&#34;args&#34;: [[&#34;node&#34;, [0]]], &#34;op&#34;: {&#34;type&#34;: &#34;SX&#34;}}, {&#34;args&#34;: [[&#34;node&#34;, [1]]], &#34;op&#34;: {&#34;type&#34;: &#34;SX&#34;}}, {&#34;args&#34;: [[&#34;node&#34;, [3]]], &#34;op&#34;: {&#34;type&#34;: &#34;X&#34;}}, {&#34;args&#34;: [[&#34;node&#34;, [5]]], &#34;op&#34;: {&#34;type&#34;: &#34;SX&#34;}}, {&#34;args&#34;: [[&#34;node&#34;, [0]]], &#34;op&#34;: {&#34;params&#34;: [&#34;0.5&#34;], &#34;type&#34;: &#34;Rz&#34;}}, {&#34;args&#34;: [[&#34;node&#34;, [1]]], &#34;op&#34;: {&#34;params&#34;: [&#34;0.5&#34;], &#34;type&#34;: &#34;Rz&#34;}}, {&#34;args&#34;: [[&#34;node&#34;, [3]]], &#34;op&#34;: {&#34;type&#34;: &#34;SX&#34;}}, {&#34;args&#34;: [[&#34;node&#34;, [5]]], &#34;op&#34;: {&#34;params&#34;: [&#34;0.03125&#34;], &#34;type&#34;: &#34;Rz&#34;}}, {&#34;args&#34;: [[&#34;node&#34;, [0]], [&#34;node&#34;, [1]]], &#34;op&#34;: {&#34;type&#34;: &#34;CX&#34;}}, {&#34;args&#34;: [[&#34;node&#34;, [5]]], &#34;op&#34;: {&#34;type&#34;: &#34;SX&#34;}}, {&#34;args&#34;: [[&#34;node&#34;, [1]], [&#34;node&#34;, [0]]], &#34;op&#34;: {&#34;type&#34;: &#34;CX&#34;}}, {&#34;args&#34;: [[&#34;node&#34;, [5]]], &#34;op&#34;: {&#34;params&#34;: [&#34;0.5&#34;], &#34;type&#34;: &#34;Rz&#34;}}, {&#34;args&#34;: [[&#34;node&#34;, [0]], [&#34;node&#34;, [1]]], &#34;op&#34;: {&#34;type&#34;: &#34;CX&#34;}}, {&#34;args&#34;: [[&#34;node&#34;, [5]], [&#34;node&#34;, [3]]], &#34;op&#34;: {&#34;type&#34;: &#34;CX&#34;}}, {&#34;args&#34;: [[&#34;node&#34;, [3]]], &#34;op&#34;: {&#34;params&#34;: [&#34;0.5&#34;], &#34;type&#34;: &#34;Rz&#34;}}, {&#34;args&#34;: [[&#34;node&#34;, [5]]], &#34;op&#34;: {&#34;type&#34;: &#34;SX&#34;}}, {&#34;args&#34;: [[&#34;node&#34;, [3]]], &#34;op&#34;: {&#34;type&#34;: &#34;SX&#34;}}, {&#34;args&#34;: [[&#34;node&#34;, [5]]], &#34;op&#34;: {&#34;params&#34;: [&#34;0.5&#34;], &#34;type&#34;: &#34;Rz&#34;}}, {&#34;args&#34;: [[&#34;node&#34;, [3]]], &#34;op&#34;: {&#34;params&#34;: [&#34;0.96875&#34;], &#34;type&#34;: &#34;Rz&#34;}}, {&#34;args&#34;: [[&#34;node&#34;, [5]]], &#34;op&#34;: {&#34;type&#34;: &#34;SX&#34;}}, {&#34;args&#34;: [[&#34;node&#34;, [5]], [&#34;mb&#34;, [4]]], &#34;op&#34;: {&#34;type&#34;: &#34;Measure&#34;}}, {&#34;args&#34;: [[&#34;node&#34;, [3]]], &#34;op&#34;: {&#34;type&#34;: &#34;SX&#34;}}, {&#34;args&#34;: [[&#34;node&#34;, [3]]], &#34;op&#34;: {&#34;params&#34;: [&#34;0.5&#34;], &#34;type&#34;: &#34;Rz&#34;}}, {&#34;args&#34;: [[&#34;node&#34;, [6]], [&#34;node&#34;, [5]]], &#34;op&#34;: {&#34;type&#34;: &#34;CX&#34;}}, {&#34;args&#34;: [[&#34;node&#34;, [3]]], &#34;op&#34;: {&#34;type&#34;: &#34;X&#34;}}, {&#34;args&#34;: [[&#34;node&#34;, [5]], [&#34;node&#34;, [6]]], &#34;op&#34;: {&#34;type&#34;: &#34;CX&#34;}}, {&#34;args&#34;: [[&#34;node&#34;, [3]]], &#34;op&#34;: {&#34;type&#34;: &#34;SX&#34;}}, {&#34;args&#34;: [[&#34;node&#34;, [6]], [&#34;node&#34;, [5]]], &#34;op&#34;: {&#34;type&#34;: &#34;CX&#34;}}, {&#34;args&#34;: [[&#34;node&#34;, [5]], [&#34;node&#34;, [3]]], &#34;op&#34;: {&#34;type&#34;: &#34;CX&#34;}}, {&#34;args&#34;: [[&#34;node&#34;, [3]], [&#34;node&#34;, [5]]], &#34;op&#34;: {&#34;type&#34;: &#34;CX&#34;}}, {&#34;args&#34;: [[&#34;node&#34;, [5]], [&#34;node&#34;, [3]]], &#34;op&#34;: {&#34;type&#34;: &#34;CX&#34;}}, {&#34;args&#34;: [[&#34;node&#34;, [1]], [&#34;node&#34;, [3]]], &#34;op&#34;: {&#34;type&#34;: &#34;CX&#34;}}, {&#34;args&#34;: [[&#34;node&#34;, [1]]], &#34;op&#34;: {&#34;type&#34;: &#34;SX&#34;}}, {&#34;args&#34;: [[&#34;node&#34;, [3]]], &#34;op&#34;: {&#34;type&#34;: &#34;X&#34;}}, {&#34;args&#34;: [[&#34;node&#34;, [1]]], &#34;op&#34;: {&#34;params&#34;: [&#34;0.125&#34;], &#34;type&#34;: &#34;Rz&#34;}}, {&#34;args&#34;: [[&#34;node&#34;, [3]]], &#34;op&#34;: {&#34;type&#34;: &#34;SX&#34;}}, {&#34;args&#34;: [[&#34;node&#34;, [1]]], &#34;op&#34;: {&#34;type&#34;: &#34;SX&#34;}}, {&#34;args&#34;: [[&#34;node&#34;, [1]]], &#34;op&#34;: {&#34;params&#34;: [&#34;0.5&#34;], &#34;type&#34;: &#34;Rz&#34;}}, {&#34;args&#34;: [[&#34;node&#34;, [1]], [&#34;node&#34;, [3]]], &#34;op&#34;: {&#34;type&#34;: &#34;CX&#34;}}, {&#34;args&#34;: [[&#34;node&#34;, [1]]], &#34;op&#34;: {&#34;type&#34;: &#34;SX&#34;}}, {&#34;args&#34;: [[&#34;node&#34;, [3]]], &#34;op&#34;: {&#34;params&#34;: [&#34;0.5&#34;], &#34;type&#34;: &#34;Rz&#34;}}, {&#34;args&#34;: [[&#34;node&#34;, [1]]], &#34;op&#34;: {&#34;params&#34;: [&#34;0.5&#34;], &#34;type&#34;: &#34;Rz&#34;}}, {&#34;args&#34;: [[&#34;node&#34;, [3]]], &#34;op&#34;: {&#34;type&#34;: &#34;SX&#34;}}, {&#34;args&#34;: [[&#34;node&#34;, [1]]], &#34;op&#34;: {&#34;type&#34;: &#34;SX&#34;}}, {&#34;args&#34;: [[&#34;node&#34;, [3]]], &#34;op&#34;: {&#34;params&#34;: [&#34;0.875&#34;], &#34;type&#34;: &#34;Rz&#34;}}, {&#34;args&#34;: [[&#34;node&#34;, [1]]], &#34;op&#34;: {&#34;params&#34;: [&#34;0.875&#34;], &#34;type&#34;: &#34;Rz&#34;}}, {&#34;args&#34;: [[&#34;node&#34;, [3]]], &#34;op&#34;: {&#34;type&#34;: &#34;SX&#34;}}, {&#34;args&#34;: [[&#34;node&#34;, [1]]], &#34;op&#34;: {&#34;type&#34;: &#34;SX&#34;}}, {&#34;args&#34;: [[&#34;node&#34;, [3]]], &#34;op&#34;: {&#34;params&#34;: [&#34;0.5&#34;], &#34;type&#34;: &#34;Rz&#34;}}, {&#34;args&#34;: [[&#34;node&#34;, [1]]], &#34;op&#34;: {&#34;params&#34;: [&#34;0.5&#34;], &#34;type&#34;: &#34;Rz&#34;}}, {&#34;args&#34;: [[&#34;node&#34;, [3]]], &#34;op&#34;: {&#34;type&#34;: &#34;X&#34;}}, {&#34;args&#34;: [[&#34;node&#34;, [1]]], &#34;op&#34;: {&#34;type&#34;: &#34;SX&#34;}}, {&#34;args&#34;: [[&#34;node&#34;, [3]]], &#34;op&#34;: {&#34;type&#34;: &#34;SX&#34;}}, {&#34;args&#34;: [[&#34;node&#34;, [1]]], &#34;op&#34;: {&#34;params&#34;: [&#34;0.5&#34;], &#34;type&#34;: &#34;Rz&#34;}}, {&#34;args&#34;: [[&#34;node&#34;, [3]], [&#34;node&#34;, [1]]], &#34;op&#34;: {&#34;type&#34;: &#34;CX&#34;}}, {&#34;args&#34;: [[&#34;node&#34;, [1]], [&#34;node&#34;, [3]]], &#34;op&#34;: {&#34;type&#34;: &#34;CX&#34;}}, {&#34;args&#34;: [[&#34;node&#34;, [3]], [&#34;node&#34;, [1]]], &#34;op&#34;: {&#34;type&#34;: &#34;CX&#34;}}, {&#34;args&#34;: [[&#34;node&#34;, [0]], [&#34;node&#34;, [1]]], &#34;op&#34;: {&#34;type&#34;: &#34;CX&#34;}}, {&#34;args&#34;: [[&#34;node&#34;, [3]], [&#34;node&#34;, [5]]], &#34;op&#34;: {&#34;type&#34;: &#34;CX&#34;}}, {&#34;args&#34;: [[&#34;node&#34;, [0]]], &#34;op&#34;: {&#34;type&#34;: &#34;SX&#34;}}, {&#34;args&#34;: [[&#34;node&#34;, [1]]], &#34;op&#34;: {&#34;type&#34;: &#34;X&#34;}}, {&#34;args&#34;: [[&#34;node&#34;, [3]]], &#34;op&#34;: {&#34;type&#34;: &#34;SX&#34;}}, {&#34;args&#34;: [[&#34;node&#34;, [5]]], &#34;op&#34;: {&#34;type&#34;: &#34;X&#34;}}, {&#34;args&#34;: [[&#34;node&#34;, [0]]], &#34;op&#34;: {&#34;params&#34;: [&#34;0.25&#34;], &#34;type&#34;: &#34;Rz&#34;}}, {&#34;args&#34;: [[&#34;node&#34;, [1]]], &#34;op&#34;: {&#34;type&#34;: &#34;SX&#34;}}, {&#34;args&#34;: [[&#34;node&#34;, [3]]], &#34;op&#34;: {&#34;params&#34;: [&#34;0.0625&#34;], &#34;type&#34;: &#34;Rz&#34;}}, {&#34;args&#34;: [[&#34;node&#34;, [5]]], &#34;op&#34;: {&#34;type&#34;: &#34;SX&#34;}}, {&#34;args&#34;: [[&#34;node&#34;, [0]]], &#34;op&#34;: {&#34;type&#34;: &#34;SX&#34;}}, {&#34;args&#34;: [[&#34;node&#34;, [3]]], &#34;op&#34;: {&#34;type&#34;: &#34;SX&#34;}}, {&#34;args&#34;: [[&#34;node&#34;, [0]]], &#34;op&#34;: {&#34;params&#34;: [&#34;0.5&#34;], &#34;type&#34;: &#34;Rz&#34;}}, {&#34;args&#34;: [[&#34;node&#34;, [3]]], &#34;op&#34;: {&#34;params&#34;: [&#34;0.5&#34;], &#34;type&#34;: &#34;Rz&#34;}}, {&#34;args&#34;: [[&#34;node&#34;, [0]], [&#34;node&#34;, [1]]], &#34;op&#34;: {&#34;type&#34;: &#34;CX&#34;}}, {&#34;args&#34;: [[&#34;node&#34;, [3]], [&#34;node&#34;, [5]]], &#34;op&#34;: {&#34;type&#34;: &#34;CX&#34;}}, {&#34;args&#34;: [[&#34;node&#34;, [0]]], &#34;op&#34;: {&#34;type&#34;: &#34;SX&#34;}}, {&#34;args&#34;: [[&#34;node&#34;, [1]]], &#34;op&#34;: {&#34;params&#34;: [&#34;0.5&#34;], &#34;type&#34;: &#34;Rz&#34;}}, {&#34;args&#34;: [[&#34;node&#34;, [3]]], &#34;op&#34;: {&#34;type&#34;: &#34;SX&#34;}}, {&#34;args&#34;: [[&#34;node&#34;, [5]]], &#34;op&#34;: {&#34;params&#34;: [&#34;0.5&#34;], &#34;type&#34;: &#34;Rz&#34;}}, {&#34;args&#34;: [[&#34;node&#34;, [0]]], &#34;op&#34;: {&#34;params&#34;: [&#34;0.5&#34;], &#34;type&#34;: &#34;Rz&#34;}}, {&#34;args&#34;: [[&#34;node&#34;, [1]]], &#34;op&#34;: {&#34;type&#34;: &#34;SX&#34;}}, {&#34;args&#34;: [[&#34;node&#34;, [3]]], &#34;op&#34;: {&#34;params&#34;: [&#34;0.5&#34;], &#34;type&#34;: &#34;Rz&#34;}}, {&#34;args&#34;: [[&#34;node&#34;, [5]]], &#34;op&#34;: {&#34;type&#34;: &#34;SX&#34;}}, {&#34;args&#34;: [[&#34;node&#34;, [0]]], &#34;op&#34;: {&#34;type&#34;: &#34;SX&#34;}}, {&#34;args&#34;: [[&#34;node&#34;, [1]]], &#34;op&#34;: {&#34;params&#34;: [&#34;1.75&#34;], &#34;type&#34;: &#34;Rz&#34;}}, {&#34;args&#34;: [[&#34;node&#34;, [3]]], &#34;op&#34;: {&#34;type&#34;: &#34;SX&#34;}}, {&#34;args&#34;: [[&#34;node&#34;, [5]]], &#34;op&#34;: {&#34;params&#34;: [&#34;0.9375&#34;], &#34;type&#34;: &#34;Rz&#34;}}, {&#34;args&#34;: [[&#34;node&#34;, [3]], [&#34;mb&#34;, [3]]], &#34;op&#34;: {&#34;type&#34;: &#34;Measure&#34;}}, {&#34;args&#34;: [[&#34;node&#34;, [0]]], &#34;op&#34;: {&#34;params&#34;: [&#34;-1.25&#34;], &#34;type&#34;: &#34;Rz&#34;}}, {&#34;args&#34;: [[&#34;node&#34;, [1]]], &#34;op&#34;: {&#34;type&#34;: &#34;SX&#34;}}, {&#34;args&#34;: [[&#34;node&#34;, [5]]], &#34;op&#34;: {&#34;type&#34;: &#34;SX&#34;}}, {&#34;args&#34;: [[&#34;node&#34;, [0]]], &#34;op&#34;: {&#34;type&#34;: &#34;SX&#34;}}, {&#34;args&#34;: [[&#34;node&#34;, [1]]], &#34;op&#34;: {&#34;type&#34;: &#34;SX&#34;}}, {&#34;args&#34;: [[&#34;node&#34;, [5]]], &#34;op&#34;: {&#34;params&#34;: [&#34;0.5&#34;], &#34;type&#34;: &#34;Rz&#34;}}, {&#34;args&#34;: [[&#34;node&#34;, [0]]], &#34;op&#34;: {&#34;params&#34;: [&#34;0.5&#34;], &#34;type&#34;: &#34;Rz&#34;}}, {&#34;args&#34;: [[&#34;node&#34;, [1]]], &#34;op&#34;: {&#34;params&#34;: [&#34;0.5&#34;], &#34;type&#34;: &#34;Rz&#34;}}, {&#34;args&#34;: [[&#34;node&#34;, [5]]], &#34;op&#34;: {&#34;type&#34;: &#34;X&#34;}}, {&#34;args&#34;: [[&#34;node&#34;, [0]]], &#34;op&#34;: {&#34;type&#34;: &#34;SX&#34;}}, {&#34;args&#34;: [[&#34;node&#34;, [1]]], &#34;op&#34;: {&#34;type&#34;: &#34;SX&#34;}}, {&#34;args&#34;: [[&#34;node&#34;, [5]]], &#34;op&#34;: {&#34;type&#34;: &#34;SX&#34;}}, {&#34;args&#34;: [[&#34;node&#34;, [0]]], &#34;op&#34;: {&#34;params&#34;: [&#34;0.5&#34;], &#34;type&#34;: &#34;Rz&#34;}}, {&#34;args&#34;: [[&#34;node&#34;, [1]]], &#34;op&#34;: {&#34;params&#34;: [&#34;0.5&#34;], &#34;type&#34;: &#34;Rz&#34;}}, {&#34;args&#34;: [[&#34;node&#34;, [5]], [&#34;node&#34;, [3]]], &#34;op&#34;: {&#34;type&#34;: &#34;CX&#34;}}, {&#34;args&#34;: [[&#34;node&#34;, [3]], [&#34;node&#34;, [5]]], &#34;op&#34;: {&#34;type&#34;: &#34;CX&#34;}}, {&#34;args&#34;: [[&#34;node&#34;, [5]], [&#34;node&#34;, [3]]], &#34;op&#34;: {&#34;type&#34;: &#34;CX&#34;}}, {&#34;args&#34;: [[&#34;node&#34;, [3]], [&#34;node&#34;, [1]]], &#34;op&#34;: {&#34;type&#34;: &#34;CX&#34;}}, {&#34;args&#34;: [[&#34;node&#34;, [1]], [&#34;node&#34;, [3]]], &#34;op&#34;: {&#34;type&#34;: &#34;CX&#34;}}, {&#34;args&#34;: [[&#34;node&#34;, [3]], [&#34;node&#34;, [1]]], &#34;op&#34;: {&#34;type&#34;: &#34;CX&#34;}}, {&#34;args&#34;: [[&#34;node&#34;, [0]], [&#34;node&#34;, [1]]], &#34;op&#34;: {&#34;type&#34;: &#34;CX&#34;}}, {&#34;args&#34;: [[&#34;node&#34;, [0]]], &#34;op&#34;: {&#34;type&#34;: &#34;SX&#34;}}, {&#34;args&#34;: [[&#34;node&#34;, [1]]], &#34;op&#34;: {&#34;type&#34;: &#34;X&#34;}}, {&#34;args&#34;: [[&#34;node&#34;, [0]]], &#34;op&#34;: {&#34;params&#34;: [&#34;0.125&#34;], &#34;type&#34;: &#34;Rz&#34;}}, {&#34;args&#34;: [[&#34;node&#34;, [1]]], &#34;op&#34;: {&#34;type&#34;: &#34;SX&#34;}}, {&#34;args&#34;: [[&#34;node&#34;, [0]]], &#34;op&#34;: {&#34;type&#34;: &#34;SX&#34;}}, {&#34;args&#34;: [[&#34;node&#34;, [0]]], &#34;op&#34;: {&#34;params&#34;: [&#34;0.5&#34;], &#34;type&#34;: &#34;Rz&#34;}}, {&#34;args&#34;: [[&#34;node&#34;, [0]], [&#34;node&#34;, [1]]], &#34;op&#34;: {&#34;type&#34;: &#34;CX&#34;}}, {&#34;args&#34;: [[&#34;node&#34;, [0]]], &#34;op&#34;: {&#34;type&#34;: &#34;SX&#34;}}, {&#34;args&#34;: [[&#34;node&#34;, [1]]], &#34;op&#34;: {&#34;params&#34;: [&#34;0.5&#34;], &#34;type&#34;: &#34;Rz&#34;}}, {&#34;args&#34;: [[&#34;node&#34;, [0]]], &#34;op&#34;: {&#34;params&#34;: [&#34;0.5&#34;], &#34;type&#34;: &#34;Rz&#34;}}, {&#34;args&#34;: [[&#34;node&#34;, [1]]], &#34;op&#34;: {&#34;type&#34;: &#34;SX&#34;}}, {&#34;args&#34;: [[&#34;node&#34;, [0]]], &#34;op&#34;: {&#34;type&#34;: &#34;SX&#34;}}, {&#34;args&#34;: [[&#34;node&#34;, [1]]], &#34;op&#34;: {&#34;params&#34;: [&#34;0.875&#34;], &#34;type&#34;: &#34;Rz&#34;}}, {&#34;args&#34;: [[&#34;node&#34;, [0]], [&#34;mb&#34;, [2]]], &#34;op&#34;: {&#34;type&#34;: &#34;Measure&#34;}}, {&#34;args&#34;: [[&#34;node&#34;, [1]]], &#34;op&#34;: {&#34;type&#34;: &#34;SX&#34;}}, {&#34;args&#34;: [[&#34;node&#34;, [1]]], &#34;op&#34;: {&#34;params&#34;: [&#34;0.5&#34;], &#34;type&#34;: &#34;Rz&#34;}}, {&#34;args&#34;: [[&#34;node&#34;, [1]]], &#34;op&#34;: {&#34;type&#34;: &#34;X&#34;}}, {&#34;args&#34;: [[&#34;node&#34;, [1]]], &#34;op&#34;: {&#34;type&#34;: &#34;SX&#34;}}, {&#34;args&#34;: [[&#34;node&#34;, [3]], [&#34;node&#34;, [1]]], &#34;op&#34;: {&#34;type&#34;: &#34;CX&#34;}}, {&#34;args&#34;: [[&#34;node&#34;, [1]]], &#34;op&#34;: {&#34;type&#34;: &#34;X&#34;}}, {&#34;args&#34;: [[&#34;node&#34;, [3]]], &#34;op&#34;: {&#34;type&#34;: &#34;SX&#34;}}, {&#34;args&#34;: [[&#34;node&#34;, [1]]], &#34;op&#34;: {&#34;type&#34;: &#34;SX&#34;}}, {&#34;args&#34;: [[&#34;node&#34;, [3]]], &#34;op&#34;: {&#34;params&#34;: [&#34;0.25&#34;], &#34;type&#34;: &#34;Rz&#34;}}, {&#34;args&#34;: [[&#34;node&#34;, [3]]], &#34;op&#34;: {&#34;type&#34;: &#34;SX&#34;}}, {&#34;args&#34;: [[&#34;node&#34;, [3]]], &#34;op&#34;: {&#34;params&#34;: [&#34;0.5&#34;], &#34;type&#34;: &#34;Rz&#34;}}, {&#34;args&#34;: [[&#34;node&#34;, [3]], [&#34;node&#34;, [1]]], &#34;op&#34;: {&#34;type&#34;: &#34;CX&#34;}}, {&#34;args&#34;: [[&#34;node&#34;, [1]]], &#34;op&#34;: {&#34;params&#34;: [&#34;0.5&#34;], &#34;type&#34;: &#34;Rz&#34;}}, {&#34;args&#34;: [[&#34;node&#34;, [3]]], &#34;op&#34;: {&#34;type&#34;: &#34;SX&#34;}}, {&#34;args&#34;: [[&#34;node&#34;, [1]]], &#34;op&#34;: {&#34;type&#34;: &#34;SX&#34;}}, {&#34;args&#34;: [[&#34;node&#34;, [3]]], &#34;op&#34;: {&#34;params&#34;: [&#34;0.5&#34;], &#34;type&#34;: &#34;Rz&#34;}}, {&#34;args&#34;: [[&#34;node&#34;, [1]]], &#34;op&#34;: {&#34;params&#34;: [&#34;1.75&#34;], &#34;type&#34;: &#34;Rz&#34;}}, {&#34;args&#34;: [[&#34;node&#34;, [3]]], &#34;op&#34;: {&#34;type&#34;: &#34;SX&#34;}}, {&#34;args&#34;: [[&#34;node&#34;, [3]], [&#34;mb&#34;, [1]]], &#34;op&#34;: {&#34;type&#34;: &#34;Measure&#34;}}, {&#34;args&#34;: [[&#34;node&#34;, [1]]], &#34;op&#34;: {&#34;type&#34;: &#34;SX&#34;}}, {&#34;args&#34;: [[&#34;node&#34;, [1]], [&#34;mb&#34;, [0]]], &#34;op&#34;: {&#34;type&#34;: &#34;Measure&#34;}}], &#34;created_qubits&#34;: [], &#34;discarded_qubits&#34;: [], &#34;implicit_permutation&#34;: [[[&#34;node&#34;, [0]], [&#34;node&#34;, [0]]], [[&#34;node&#34;, [1]], [&#34;node&#34;, [1]]], [[&#34;node&#34;, [3]], [&#34;node&#34;, [3]]], [[&#34;node&#34;, [4]], [&#34;node&#34;, [4]]], [[&#34;node&#34;, [5]], [&#34;node&#34;, [5]]], [[&#34;node&#34;, [6]], [&#34;node&#34;, [6]]]], &#34;phase&#34;: &#34;0.934375000000045&#34;, &#34;qubits&#34;: [[&#34;node&#34;, [0]], [&#34;node&#34;, [1]], [&#34;node&#34;, [3]], [&#34;node&#34;, [4]], [&#34;node&#34;, [5]], [&#34;node&#34;, [6]]]}&lt;/div&gt;\n",
       "        &lt;/div&gt;\n",
       "        &lt;circuit-display-container :circuit-element-str=&#34;&#39;#circuit-json-to-display&#39;&#34;&gt;&lt;/circuit-display-container&gt;\n",
       "    &lt;/div&gt;\n",
       "    &lt;script type=&#34;application/javascript&#34;&gt;\n",
       "      const circuitRendererUid = &#34;de427c44-1a0a-4d05-8fec-0a2c677c6915&#34;;\n",
       "\n",
       "      // Script to initialise the circuit renderer app\n",
       "\n",
       "const { createApp } = Vue;\n",
       "const circuitDisplayContainer = window[&#34;pytket-circuit-renderer&#34;].default;\n",
       "// Init variables to be shared between circuit display instances\n",
       "if (typeof window.pytketCircuitDisplays === &#34;undefined&#34;) {\n",
       "    window.pytketCircuitDisplays = {};\n",
       "}\n",
       "// Create the root Vue component\n",
       "const app = createApp({\n",
       "    delimiters: [&#39;[[#&#39;, &#39;#]]&#39;],\n",
       "    components: { circuitDisplayContainer },\n",
       "})\n",
       "app.config.unwrapInjectedRef = true;\n",
       "app.mount(&#34;#circuit-display-vue-container-&#34;+circuitRendererUid);\n",
       "window.pytketCircuitDisplays[circuitRendererUid] = app;\n",
       "    &lt;/script&gt;\n",
       "&lt;/body&gt;\n",
       "&lt;/html&gt;\n",
       "\"\n",
       "        width=\"100%\" height=\"200px\"\n",
       "        style=\"border: none; outline: none; resize: vertical; overflow: auto\"></iframe>\n",
       "\n"
      ],
      "text/plain": [
       "<IPython.core.display.HTML object>"
      ]
     },
     "metadata": {},
     "output_type": "display_data"
    }
   ],
   "source": [
    "render_circuit_jupyter(compiled_circuit_l0)\n"
   ]
  },
  {
   "cell_type": "code",
   "execution_count": 21,
   "id": "20e02ec3-ffa2-4ca5-81c0-6f0a548736ed",
   "metadata": {
    "tags": []
   },
   "outputs": [
    {
     "data": {
      "image/svg+xml": [
       "<?xml version=\"1.0\" encoding=\"UTF-8\" standalone=\"no\"?>\n",
       "<!DOCTYPE svg PUBLIC \"-//W3C//DTD SVG 1.1//EN\"\n",
       " \"http://www.w3.org/Graphics/SVG/1.1/DTD/svg11.dtd\">\n",
       "<!-- Generated by graphviz version 6.0.1 (20220911.1526)\n",
       " -->\n",
       "<!-- Title: Qubit connectivity Pages: 1 -->\n",
       "<svg width=\"206pt\" height=\"347pt\"\n",
       " viewBox=\"0.00 0.00 206.27 347.49\" xmlns=\"http://www.w3.org/2000/svg\" xmlns:xlink=\"http://www.w3.org/1999/xlink\">\n",
       "<g id=\"graph0\" class=\"graph\" transform=\"scale(1 1) rotate(0) translate(4 343.49)\">\n",
       "<title>Qubit connectivity</title>\n",
       "<polygon fill=\"white\" stroke=\"none\" points=\"-4,4 -4,-343.49 202.27,-343.49 202.27,4 -4,4\"/>\n",
       "<!-- node[1] -->\n",
       "<g id=\"node1\" class=\"node\">\n",
       "<title>node[1]</title>\n",
       "<ellipse fill=\"none\" stroke=\"blue\" cx=\"83.73\" cy=\"-107.25\" rx=\"34.96\" ry=\"34.96\"/>\n",
       "<text text-anchor=\"middle\" x=\"83.73\" y=\"-104.75\" font-family=\"Courier,monospace\" font-size=\"10.00\">node[1]</text>\n",
       "</g>\n",
       "<!-- node[3] -->\n",
       "<g id=\"node2\" class=\"node\">\n",
       "<title>node[3]</title>\n",
       "<ellipse fill=\"none\" stroke=\"blue\" cx=\"92.53\" cy=\"-180.08\" rx=\"34.96\" ry=\"34.96\"/>\n",
       "<text text-anchor=\"middle\" x=\"92.53\" y=\"-177.58\" font-family=\"Courier,monospace\" font-size=\"10.00\">node[3]</text>\n",
       "</g>\n",
       "<!-- node[1]&#45;&#45;node[3] -->\n",
       "<g id=\"edge1\" class=\"edge\">\n",
       "<title>node[1]&#45;&#45;node[3]</title>\n",
       "<path fill=\"none\" stroke=\"black\" d=\"M87.92,-141.96C88.06,-143.13 88.21,-144.31 88.35,-145.48\"/>\n",
       "</g>\n",
       "<!-- node[0] -->\n",
       "<g id=\"node3\" class=\"node\">\n",
       "<title>node[0]</title>\n",
       "<ellipse fill=\"none\" stroke=\"blue\" cx=\"83.56\" cy=\"-34.73\" rx=\"34.96\" ry=\"34.96\"/>\n",
       "<text text-anchor=\"middle\" x=\"83.56\" y=\"-32.23\" font-family=\"Courier,monospace\" font-size=\"10.00\">node[0]</text>\n",
       "</g>\n",
       "<!-- node[1]&#45;&#45;node[0] -->\n",
       "<g id=\"edge2\" class=\"edge\">\n",
       "<title>node[1]&#45;&#45;node[0]</title>\n",
       "<path fill=\"none\" stroke=\"black\" d=\"M83.65,-72.27C83.65,-71.4 83.64,-70.53 83.64,-69.66\"/>\n",
       "</g>\n",
       "<!-- node[5] -->\n",
       "<g id=\"node4\" class=\"node\">\n",
       "<title>node[5]</title>\n",
       "<ellipse fill=\"none\" stroke=\"blue\" cx=\"96.52\" cy=\"-256.78\" rx=\"34.96\" ry=\"34.96\"/>\n",
       "<text text-anchor=\"middle\" x=\"96.52\" y=\"-254.28\" font-family=\"Courier,monospace\" font-size=\"10.00\">node[5]</text>\n",
       "</g>\n",
       "<!-- node[3]&#45;&#45;node[5] -->\n",
       "<g id=\"edge3\" class=\"edge\">\n",
       "<title>node[3]&#45;&#45;node[5]</title>\n",
       "<path fill=\"none\" stroke=\"black\" d=\"M94.34,-214.84C94.46,-217.22 94.59,-219.62 94.71,-222\"/>\n",
       "</g>\n",
       "<!-- node[4] -->\n",
       "<g id=\"node6\" class=\"node\">\n",
       "<title>node[4]</title>\n",
       "<ellipse fill=\"none\" stroke=\"blue\" cx=\"34.73\" cy=\"-304.76\" rx=\"34.96\" ry=\"34.96\"/>\n",
       "<text text-anchor=\"middle\" x=\"34.73\" y=\"-302.26\" font-family=\"Courier,monospace\" font-size=\"10.00\">node[4]</text>\n",
       "</g>\n",
       "<!-- node[5]&#45;&#45;node[4] -->\n",
       "<g id=\"edge5\" class=\"edge\">\n",
       "<title>node[5]&#45;&#45;node[4]</title>\n",
       "<path fill=\"none\" stroke=\"black\" d=\"M68.88,-278.25C66.69,-279.94 64.49,-281.66 62.3,-283.35\"/>\n",
       "</g>\n",
       "<!-- node[6] -->\n",
       "<g id=\"node5\" class=\"node\">\n",
       "<title>node[6]</title>\n",
       "<ellipse fill=\"none\" stroke=\"blue\" cx=\"163.53\" cy=\"-297.14\" rx=\"34.96\" ry=\"34.96\"/>\n",
       "<text text-anchor=\"middle\" x=\"163.53\" y=\"-294.64\" font-family=\"Courier,monospace\" font-size=\"10.00\">node[6]</text>\n",
       "</g>\n",
       "<!-- node[6]&#45;&#45;node[5] -->\n",
       "<g id=\"edge4\" class=\"edge\">\n",
       "<title>node[6]&#45;&#45;node[5]</title>\n",
       "<path fill=\"none\" stroke=\"black\" d=\"M133.56,-279.09C131.19,-277.66 128.79,-276.22 126.42,-274.79\"/>\n",
       "</g>\n",
       "</g>\n",
       "</svg>\n"
      ],
      "text/plain": [
       "<graphviz.graphs.Graph at 0x15df29d80>"
      ]
     },
     "execution_count": 21,
     "metadata": {},
     "output_type": "execute_result"
    }
   ],
   "source": [
    "Graph(compiled_circuit_l0).get_qubit_graph()"
   ]
  },
  {
   "cell_type": "code",
   "execution_count": 22,
   "id": "68a91069-1705-426e-9bfd-92a7369440a5",
   "metadata": {
    "slideshow": {
     "slide_type": "fragment"
    }
   },
   "outputs": [],
   "source": [
    "handlel0 = noisy_backend.process_circuit(compiled_circuit_l0, n_shots=1000)\n",
    "resultl0 = noisy_backend.get_result(handlel0)"
   ]
  },
  {
   "cell_type": "code",
   "execution_count": 23,
   "id": "c065a2e6",
   "metadata": {
    "slideshow": {
     "slide_type": "subslide"
    },
    "tags": []
   },
   "outputs": [
    {
     "name": "stdout",
     "output_type": "stream",
     "text": [
      "((0, 1, 1, 0, 1), 405)\n"
     ]
    }
   ],
   "source": [
    "print(resultl0.get_counts().most_common()[0])"
   ]
  },
  {
   "cell_type": "code",
   "execution_count": 24,
   "id": "244ddb52-2b40-451a-8444-c57f574eab9f",
   "metadata": {
    "slideshow": {
     "slide_type": "skip"
    },
    "tags": []
   },
   "outputs": [
    {
     "data": {
      "image/png": "[encoded data removed]",
      "text/plain": [
       "<Figure size 640x480 with 1 Axes>"
      ]
     },
     "metadata": {},
     "output_type": "display_data"
    }
   ],
   "source": [
    "plot_results(resultl0, n_strings=4)"
   ]
  },
  {
   "cell_type": "code",
   "execution_count": 25,
   "id": "950390cc-534c-4bf0-bc52-5b61e7d3aeed",
   "metadata": {
    "slideshow": {
     "slide_type": "subslide"
    },
    "tags": []
   },
   "outputs": [
    {
     "name": "stdout",
     "output_type": "stream",
     "text": [
      "Our optimised circuit has 52 CX gates\n"
     ]
    }
   ],
   "source": [
    "compiled_circuit_l2 = noisy_backend.get_compiled_circuit(qpe5_circ, optimisation_level=2)\n",
    "cx_count = compiled_circuit_l2.n_gates_of_type(OpType.CX)\n",
    "print(f\"Our optimised circuit has {cx_count} CX gates\")\n",
    "\n",
    "handlel2 = noisy_backend.process_circuit(compiled_circuit_l2, n_shots=1000)\n",
    "resultl2 = noisy_backend.get_result(handlel2)"
   ]
  },
  {
   "cell_type": "code",
   "execution_count": 26,
   "id": "dbae9511-10e1-401b-b4cf-6376c48db089",
   "metadata": {
    "slideshow": {
     "slide_type": "fragment"
    }
   },
   "outputs": [
    {
     "name": "stdout",
     "output_type": "stream",
     "text": [
      "((0, 1, 1, 0, 1), 506)\n"
     ]
    }
   ],
   "source": [
    "print(resultl2.get_counts().most_common()[0])"
   ]
  },
  {
   "cell_type": "code",
   "execution_count": 27,
   "id": "2f9c3378-0c45-46a0-8b6f-e67ebfc35745",
   "metadata": {
    "slideshow": {
     "slide_type": "skip"
    },
    "tags": []
   },
   "outputs": [
    {
     "data": {
      "image/png": "[encoded data removed]",
      "text/plain": [
       "<Figure size 640x480 with 1 Axes>"
      ]
     },
     "metadata": {},
     "output_type": "display_data"
    }
   ],
   "source": [
    "plot_results(resultl2, n_strings=4)"
   ]
  },
  {
   "cell_type": "markdown",
   "id": "cfc74e4b",
   "metadata": {},
   "source": [
    "### Switching Backends in pytket\n",
    "\n",
    "* Researchers may want to explore running their quantum algorithms on different devices\n",
    "* Uniform `Backend` interface for targeting different devices/simulators\n",
    "* lets switch to a Cirq simulator. This simulator uses the {PhasedX, Rz, CZ} gatset"
   ]
  },
  {
   "cell_type": "code",
   "execution_count": 28,
   "id": "1f18cbfd-1c74-46ff-b1f3-05651e240174",
   "metadata": {
    "tags": []
   },
   "outputs": [
    {
     "data": {
      "text/html": [
       "\n",
       "\n",
       "\n",
       "\n",
       "\n",
       "\n",
       "<iframe srcdoc=\"\n",
       "&lt;!DOCTYPE html&gt;\n",
       "&lt;html lang=&#34;en&#34;&gt;\n",
       "&lt;head&gt;\n",
       "    &lt;meta charset=&#34;UTF-8&#34;&gt;\n",
       "    &lt;!-- Download Vue 3--&gt;\n",
       "&lt;script type=&#34;application/javascript&#34; src=&#34;https://cdn.jsdelivr.net/npm/vue@3&#34;&gt;&lt;/script&gt;\n",
       "&lt;!-- Download Circuit Renderer with styles --&gt;\n",
       "&lt;script type=&#34;application/javascript&#34; src=&#34;https://unpkg.com/pytket-circuit-renderer@0.5/dist/pytket-circuit-renderer.umd.js&#34;&gt;&lt;/script&gt;\n",
       "&lt;link rel=&#34;stylesheet&#34; href=&#34;https://unpkg.com/pytket-circuit-renderer@0.5/dist/pytket-circuit-renderer.css&#34;&gt;\n",
       "&lt;/head&gt;\n",
       "&lt;body&gt;\n",
       "    &lt;div id=&#34;circuit-display-vue-container-d98d4149-1a7d-4bf0-9044-8b691bb6b705&#34; class=&#34;pytket-circuit-display-container&#34;&gt;\n",
       "        &lt;div style=&#34;display: none&#34;&gt;\n",
       "            &lt;div id=&#34;circuit-json-to-display&#34;&gt;{&#34;bits&#34;: [[&#34;c&#34;, [0]], [&#34;c&#34;, [1]], [&#34;c&#34;, [2]]], &#34;commands&#34;: [{&#34;args&#34;: [[&#34;q&#34;, [0]]], &#34;op&#34;: {&#34;params&#34;: [&#34;1&#34;], &#34;type&#34;: &#34;Rz&#34;}}, {&#34;args&#34;: [[&#34;q&#34;, [1]]], &#34;op&#34;: {&#34;params&#34;: [&#34;-1/2&#34;], &#34;type&#34;: &#34;Rz&#34;}}, {&#34;args&#34;: [[&#34;q&#34;, [2]]], &#34;op&#34;: {&#34;params&#34;: [&#34;0.125&#34;], &#34;type&#34;: &#34;Rz&#34;}}, {&#34;args&#34;: [[&#34;q&#34;, [3]]], &#34;op&#34;: {&#34;params&#34;: [&#34;-1.375&#34;], &#34;type&#34;: &#34;Rz&#34;}}, {&#34;args&#34;: [[&#34;q&#34;, [0]]], &#34;op&#34;: {&#34;params&#34;: [&#34;1.5&#34;, &#34;1/2&#34;], &#34;type&#34;: &#34;PhasedX&#34;}}, {&#34;args&#34;: [[&#34;q&#34;, [1]]], &#34;op&#34;: {&#34;params&#34;: [&#34;1.75&#34;, &#34;-1/2&#34;], &#34;type&#34;: &#34;PhasedX&#34;}}, {&#34;args&#34;: [[&#34;q&#34;, [2]]], &#34;op&#34;: {&#34;params&#34;: [&#34;0.5&#34;, &#34;-0.375&#34;], &#34;type&#34;: &#34;PhasedX&#34;}}, {&#34;args&#34;: [[&#34;q&#34;, [3]]], &#34;op&#34;: {&#34;params&#34;: [&#34;0.5&#34;, &#34;-0.5&#34;], &#34;type&#34;: &#34;PhasedX&#34;}}, {&#34;args&#34;: [[&#34;q&#34;, [2]], [&#34;q&#34;, [3]]], &#34;op&#34;: {&#34;type&#34;: &#34;CZ&#34;}}, {&#34;args&#34;: [[&#34;q&#34;, [3]]], &#34;op&#34;: {&#34;params&#34;: [&#34;0&#34;], &#34;type&#34;: &#34;Rz&#34;}}, {&#34;args&#34;: [[&#34;q&#34;, [3]]], &#34;op&#34;: {&#34;params&#34;: [&#34;0.875&#34;, &#34;0&#34;], &#34;type&#34;: &#34;PhasedX&#34;}}, {&#34;args&#34;: [[&#34;q&#34;, [2]], [&#34;q&#34;, [3]]], &#34;op&#34;: {&#34;type&#34;: &#34;CZ&#34;}}, {&#34;args&#34;: [[&#34;q&#34;, [2]]], &#34;op&#34;: {&#34;params&#34;: [&#34;1&#34;], &#34;type&#34;: &#34;Rz&#34;}}, {&#34;args&#34;: [[&#34;q&#34;, [3]]], &#34;op&#34;: {&#34;params&#34;: [&#34;-0.625&#34;], &#34;type&#34;: &#34;Rz&#34;}}, {&#34;args&#34;: [[&#34;q&#34;, [2]]], &#34;op&#34;: {&#34;params&#34;: [&#34;1/2&#34;, &#34;1/2&#34;], &#34;type&#34;: &#34;PhasedX&#34;}}, {&#34;args&#34;: [[&#34;q&#34;, [3]]], &#34;op&#34;: {&#34;params&#34;: [&#34;0.5&#34;, &#34;-1.125&#34;], &#34;type&#34;: &#34;PhasedX&#34;}}, {&#34;args&#34;: [[&#34;q&#34;, [1]], [&#34;q&#34;, [3]]], &#34;op&#34;: {&#34;type&#34;: &#34;CZ&#34;}}, {&#34;args&#34;: [[&#34;q&#34;, [1]]], &#34;op&#34;: {&#34;params&#34;: [&#34;1&#34;], &#34;type&#34;: &#34;Rz&#34;}}, {&#34;args&#34;: [[&#34;q&#34;, [3]]], &#34;op&#34;: {&#34;params&#34;: [&#34;2&#34;], &#34;type&#34;: &#34;Rz&#34;}}, {&#34;args&#34;: [[&#34;q&#34;, [1]]], &#34;op&#34;: {&#34;params&#34;: [&#34;-1.25&#34;, &#34;1/2&#34;], &#34;type&#34;: &#34;PhasedX&#34;}}, {&#34;args&#34;: [[&#34;q&#34;, [1]], [&#34;q&#34;, [3]]], &#34;op&#34;: {&#34;type&#34;: &#34;CZ&#34;}}, {&#34;args&#34;: [[&#34;q&#34;, [1]]], &#34;op&#34;: {&#34;params&#34;: [&#34;-1/2&#34;], &#34;type&#34;: &#34;Rz&#34;}}, {&#34;args&#34;: [[&#34;q&#34;, [3]]], &#34;op&#34;: {&#34;params&#34;: [&#34;2&#34;], &#34;type&#34;: &#34;Rz&#34;}}, {&#34;args&#34;: [[&#34;q&#34;, [0]], [&#34;q&#34;, [3]]], &#34;op&#34;: {&#34;type&#34;: &#34;CZ&#34;}}, {&#34;args&#34;: [[&#34;q&#34;, [1]]], &#34;op&#34;: {&#34;params&#34;: [&#34;1.5&#34;, &#34;0&#34;], &#34;type&#34;: &#34;PhasedX&#34;}}, {&#34;args&#34;: [[&#34;q&#34;, [0]]], &#34;op&#34;: {&#34;params&#34;: [&#34;0.625&#34;], &#34;type&#34;: &#34;Rz&#34;}}, {&#34;args&#34;: [[&#34;q&#34;, [3]]], &#34;op&#34;: {&#34;params&#34;: [&#34;1.625&#34;], &#34;type&#34;: &#34;Rz&#34;}}, {&#34;args&#34;: [[&#34;q&#34;, [0]]], &#34;op&#34;: {&#34;params&#34;: [&#34;0.5&#34;, &#34;1.125&#34;], &#34;type&#34;: &#34;PhasedX&#34;}}, {&#34;args&#34;: [[&#34;q&#34;, [0]], [&#34;q&#34;, [1]]], &#34;op&#34;: {&#34;type&#34;: &#34;CZ&#34;}}, {&#34;args&#34;: [[&#34;q&#34;, [1]]], &#34;op&#34;: {&#34;params&#34;: [&#34;0&#34;], &#34;type&#34;: &#34;Rz&#34;}}, {&#34;args&#34;: [[&#34;q&#34;, [1]]], &#34;op&#34;: {&#34;params&#34;: [&#34;1.25&#34;, &#34;0&#34;], &#34;type&#34;: &#34;PhasedX&#34;}}, {&#34;args&#34;: [[&#34;q&#34;, [0]], [&#34;q&#34;, [1]]], &#34;op&#34;: {&#34;type&#34;: &#34;CZ&#34;}}, {&#34;args&#34;: [[&#34;q&#34;, [0]], [&#34;q&#34;, [2]]], &#34;op&#34;: {&#34;type&#34;: &#34;CZ&#34;}}, {&#34;args&#34;: [[&#34;q&#34;, [1]]], &#34;op&#34;: {&#34;params&#34;: [&#34;2.35619449019234/pi&#34;], &#34;type&#34;: &#34;Rz&#34;}}, {&#34;args&#34;: [[&#34;q&#34;, [1]]], &#34;op&#34;: {&#34;params&#34;: [&#34;-1.25&#34;, &#34;2.35619449019234/pi&#34;], &#34;type&#34;: &#34;PhasedX&#34;}}, {&#34;args&#34;: [[&#34;q&#34;, [2]]], &#34;op&#34;: {&#34;params&#34;: [&#34;0&#34;], &#34;type&#34;: &#34;Rz&#34;}}, {&#34;args&#34;: [[&#34;q&#34;, [2]]], &#34;op&#34;: {&#34;params&#34;: [&#34;1.125&#34;, &#34;0&#34;], &#34;type&#34;: &#34;PhasedX&#34;}}, {&#34;args&#34;: [[&#34;q&#34;, [0]], [&#34;q&#34;, [2]]], &#34;op&#34;: {&#34;type&#34;: &#34;CZ&#34;}}, {&#34;args&#34;: [[&#34;q&#34;, [0]], [&#34;c&#34;, [2]]], &#34;op&#34;: {&#34;type&#34;: &#34;Measure&#34;}}, {&#34;args&#34;: [[&#34;q&#34;, [2]]], &#34;op&#34;: {&#34;params&#34;: [&#34;0&#34;], &#34;type&#34;: &#34;Rz&#34;}}, {&#34;args&#34;: [[&#34;q&#34;, [2]]], &#34;op&#34;: {&#34;params&#34;: [&#34;-1.125&#34;, &#34;0&#34;], &#34;type&#34;: &#34;PhasedX&#34;}}, {&#34;args&#34;: [[&#34;q&#34;, [1]], [&#34;q&#34;, [2]]], &#34;op&#34;: {&#34;type&#34;: &#34;CZ&#34;}}, {&#34;args&#34;: [[&#34;q&#34;, [2]]], &#34;op&#34;: {&#34;params&#34;: [&#34;0&#34;], &#34;type&#34;: &#34;Rz&#34;}}, {&#34;args&#34;: [[&#34;q&#34;, [2]]], &#34;op&#34;: {&#34;params&#34;: [&#34;1.25&#34;, &#34;0&#34;], &#34;type&#34;: &#34;PhasedX&#34;}}, {&#34;args&#34;: [[&#34;q&#34;, [1]], [&#34;q&#34;, [2]]], &#34;op&#34;: {&#34;type&#34;: &#34;CZ&#34;}}, {&#34;args&#34;: [[&#34;q&#34;, [1]], [&#34;c&#34;, [1]]], &#34;op&#34;: {&#34;type&#34;: &#34;Measure&#34;}}, {&#34;args&#34;: [[&#34;q&#34;, [2]]], &#34;op&#34;: {&#34;params&#34;: [&#34;0&#34;], &#34;type&#34;: &#34;Rz&#34;}}, {&#34;args&#34;: [[&#34;q&#34;, [2]]], &#34;op&#34;: {&#34;params&#34;: [&#34;-1.25&#34;, &#34;0&#34;], &#34;type&#34;: &#34;PhasedX&#34;}}, {&#34;args&#34;: [[&#34;q&#34;, [2]], [&#34;c&#34;, [0]]], &#34;op&#34;: {&#34;type&#34;: &#34;Measure&#34;}}], &#34;created_qubits&#34;: [], &#34;discarded_qubits&#34;: [], &#34;implicit_permutation&#34;: [[[&#34;q&#34;, [0]], [&#34;q&#34;, [2]]], [[&#34;q&#34;, [1]], [&#34;q&#34;, [1]]], [[&#34;q&#34;, [2]], [&#34;q&#34;, [0]]], [[&#34;q&#34;, [3]], [&#34;q&#34;, [3]]]], &#34;phase&#34;: &#34;1.375&#34;, &#34;qubits&#34;: [[&#34;q&#34;, [0]], [&#34;q&#34;, [1]], [&#34;q&#34;, [2]], [&#34;q&#34;, [3]]]}&lt;/div&gt;\n",
       "        &lt;/div&gt;\n",
       "        &lt;circuit-display-container :circuit-element-str=&#34;&#39;#circuit-json-to-display&#39;&#34;&gt;&lt;/circuit-display-container&gt;\n",
       "    &lt;/div&gt;\n",
       "    &lt;script type=&#34;application/javascript&#34;&gt;\n",
       "      const circuitRendererUid = &#34;d98d4149-1a7d-4bf0-9044-8b691bb6b705&#34;;\n",
       "\n",
       "      // Script to initialise the circuit renderer app\n",
       "\n",
       "const { createApp } = Vue;\n",
       "const circuitDisplayContainer = window[&#34;pytket-circuit-renderer&#34;].default;\n",
       "// Init variables to be shared between circuit display instances\n",
       "if (typeof window.pytketCircuitDisplays === &#34;undefined&#34;) {\n",
       "    window.pytketCircuitDisplays = {};\n",
       "}\n",
       "// Create the root Vue component\n",
       "const app = createApp({\n",
       "    delimiters: [&#39;[[#&#39;, &#39;#]]&#39;],\n",
       "    components: { circuitDisplayContainer },\n",
       "})\n",
       "app.config.unwrapInjectedRef = true;\n",
       "app.mount(&#34;#circuit-display-vue-container-&#34;+circuitRendererUid);\n",
       "window.pytketCircuitDisplays[circuitRendererUid] = app;\n",
       "    &lt;/script&gt;\n",
       "&lt;/body&gt;\n",
       "&lt;/html&gt;\n",
       "\"\n",
       "        width=\"100%\" height=\"200px\"\n",
       "        style=\"border: none; outline: none; resize: vertical; overflow: auto\"></iframe>\n",
       "\n"
      ],
      "text/plain": [
       "<IPython.core.display.HTML object>"
      ]
     },
     "metadata": {},
     "output_type": "display_data"
    },
    {
     "name": "stderr",
     "output_type": "stream",
     "text": [
      "WARNING:root:Global phase is dependent on a symbolic parameter, so cannot adjust for phase\n"
     ]
    }
   ],
   "source": [
    "from pytket.extensions.cirq import CirqStateSampleBackend\n",
    "\n",
    "cirq_backend = CirqStateSampleBackend()\n",
    "compiled_cirq = cirq_backend.get_compiled_circuit(qpe_circ)\n",
    "\n",
    "render_circuit_jupyter(compiled_cirq)\n",
    "\n",
    "cirq_result = cirq_backend.run_circuit(compiled_cirq, n_shots=1000)"
   ]
  },
  {
   "cell_type": "markdown",
   "id": "ac074e37-4c8e-4d26-a651-0bb8a83dd051",
   "metadata": {},
   "source": [
    "## Brief section on Optimisation passes\n",
    "\n",
    "* As we have seen with the phase estimation circuits we can boost the Fidelity of our circuits by reducing the number of gates in our circuit\n",
    "\n",
    "* Lets try optimising a circuit from quantum chemistry with the general purpose `FullPeepholeOptimise` pass"
   ]
  },
  {
   "cell_type": "code",
   "execution_count": 29,
   "id": "44bf3110-83a5-4ce0-930e-646398161a9d",
   "metadata": {
    "tags": []
   },
   "outputs": [
    {
     "data": {
      "text/html": [
       "\n",
       "\n",
       "\n",
       "\n",
       "\n",
       "\n",
       "<iframe srcdoc=\"\n",
       "&lt;!DOCTYPE html&gt;\n",
       "&lt;html lang=&#34;en&#34;&gt;\n",
       "&lt;head&gt;\n",
       "    &lt;meta charset=&#34;UTF-8&#34;&gt;\n",
       "    &lt;!-- Download Vue 3--&gt;\n",
       "&lt;script type=&#34;application/javascript&#34; src=&#34;https://cdn.jsdelivr.net/npm/vue@3&#34;&gt;&lt;/script&gt;\n",
       "&lt;!-- Download Circuit Renderer with styles --&gt;\n",
       "&lt;script type=&#34;application/javascript&#34; src=&#34;https://unpkg.com/pytket-circuit-renderer@0.5/dist/pytket-circuit-renderer.umd.js&#34;&gt;&lt;/script&gt;\n",
       "&lt;link rel=&#34;stylesheet&#34; href=&#34;https://unpkg.com/pytket-circuit-renderer@0.5/dist/pytket-circuit-renderer.css&#34;&gt;\n",
       "&lt;/head&gt;\n",
       "&lt;body&gt;\n",
       "    &lt;div id=&#34;circuit-display-vue-container-f03515b6-337c-40d8-8811-efdf0675cc58&#34; class=&#34;pytket-circuit-display-container&#34;&gt;\n",
       "        &lt;div style=&#34;display: none&#34;&gt;\n",
       "            &lt;div id=&#34;circuit-json-to-display&#34;&gt;{&#34;bits&#34;: [], &#34;commands&#34;: [{&#34;args&#34;: [[&#34;q&#34;, [0]]], &#34;op&#34;: {&#34;type&#34;: &#34;X&#34;}}, {&#34;args&#34;: [[&#34;q&#34;, [1]]], &#34;op&#34;: {&#34;type&#34;: &#34;SX&#34;}}, {&#34;args&#34;: [[&#34;q&#34;, [2]]], &#34;op&#34;: {&#34;type&#34;: &#34;X&#34;}}, {&#34;args&#34;: [[&#34;q&#34;, [3]]], &#34;op&#34;: {&#34;type&#34;: &#34;SX&#34;}}, {&#34;args&#34;: [[&#34;q&#34;, [0]]], &#34;op&#34;: {&#34;type&#34;: &#34;H&#34;}}, {&#34;args&#34;: [[&#34;q&#34;, [2]]], &#34;op&#34;: {&#34;type&#34;: &#34;H&#34;}}, {&#34;args&#34;: [[&#34;q&#34;, [1]], [&#34;q&#34;, [0]]], &#34;op&#34;: {&#34;type&#34;: &#34;CX&#34;}}, {&#34;args&#34;: [[&#34;q&#34;, [3]], [&#34;q&#34;, [2]]], &#34;op&#34;: {&#34;type&#34;: &#34;CX&#34;}}, {&#34;args&#34;: [[&#34;q&#34;, [0]]], &#34;op&#34;: {&#34;params&#34;: [&#34;1/2&#34;], &#34;type&#34;: &#34;Rz&#34;}}, {&#34;args&#34;: [[&#34;q&#34;, [2]]], &#34;op&#34;: {&#34;params&#34;: [&#34;1/2&#34;], &#34;type&#34;: &#34;Rz&#34;}}, {&#34;args&#34;: [[&#34;q&#34;, [1]], [&#34;q&#34;, [0]]], &#34;op&#34;: {&#34;type&#34;: &#34;CX&#34;}}, {&#34;args&#34;: [[&#34;q&#34;, [3]], [&#34;q&#34;, [2]]], &#34;op&#34;: {&#34;type&#34;: &#34;CX&#34;}}, {&#34;args&#34;: [[&#34;q&#34;, [0]]], &#34;op&#34;: {&#34;type&#34;: &#34;H&#34;}}, {&#34;args&#34;: [[&#34;q&#34;, [1]]], &#34;op&#34;: {&#34;type&#34;: &#34;SXdg&#34;}}, {&#34;args&#34;: [[&#34;q&#34;, [2]]], &#34;op&#34;: {&#34;type&#34;: &#34;H&#34;}}, {&#34;args&#34;: [[&#34;q&#34;, [3]]], &#34;op&#34;: {&#34;type&#34;: &#34;SXdg&#34;}}, {&#34;args&#34;: [[&#34;q&#34;, [0]]], &#34;op&#34;: {&#34;type&#34;: &#34;SX&#34;}}, {&#34;args&#34;: [[&#34;q&#34;, [1]]], &#34;op&#34;: {&#34;type&#34;: &#34;H&#34;}}, {&#34;args&#34;: [[&#34;q&#34;, [2]]], &#34;op&#34;: {&#34;type&#34;: &#34;SX&#34;}}, {&#34;args&#34;: [[&#34;q&#34;, [3]]], &#34;op&#34;: {&#34;type&#34;: &#34;H&#34;}}, {&#34;args&#34;: [[&#34;q&#34;, [1]], [&#34;q&#34;, [0]]], &#34;op&#34;: {&#34;type&#34;: &#34;CX&#34;}}, {&#34;args&#34;: [[&#34;q&#34;, [3]], [&#34;q&#34;, [2]]], &#34;op&#34;: {&#34;type&#34;: &#34;CX&#34;}}, {&#34;args&#34;: [[&#34;q&#34;, [0]]], &#34;op&#34;: {&#34;params&#34;: [&#34;7/2&#34;], &#34;type&#34;: &#34;Rz&#34;}}, {&#34;args&#34;: [[&#34;q&#34;, [2]]], &#34;op&#34;: {&#34;params&#34;: [&#34;7/2&#34;], &#34;type&#34;: &#34;Rz&#34;}}, {&#34;args&#34;: [[&#34;q&#34;, [1]], [&#34;q&#34;, [0]]], &#34;op&#34;: {&#34;type&#34;: &#34;CX&#34;}}, {&#34;args&#34;: [[&#34;q&#34;, [3]], [&#34;q&#34;, [2]]], &#34;op&#34;: {&#34;type&#34;: &#34;CX&#34;}}, {&#34;args&#34;: [[&#34;q&#34;, [0]]], &#34;op&#34;: {&#34;type&#34;: &#34;SXdg&#34;}}, {&#34;args&#34;: [[&#34;q&#34;, [1]]], &#34;op&#34;: {&#34;type&#34;: &#34;H&#34;}}, {&#34;args&#34;: [[&#34;q&#34;, [2]]], &#34;op&#34;: {&#34;type&#34;: &#34;SXdg&#34;}}, {&#34;args&#34;: [[&#34;q&#34;, [3]]], &#34;op&#34;: {&#34;type&#34;: &#34;H&#34;}}, {&#34;args&#34;: [[&#34;q&#34;, [0]]], &#34;op&#34;: {&#34;type&#34;: &#34;SX&#34;}}, {&#34;args&#34;: [[&#34;q&#34;, [1]]], &#34;op&#34;: {&#34;type&#34;: &#34;SX&#34;}}, {&#34;args&#34;: [[&#34;q&#34;, [2]]], &#34;op&#34;: {&#34;type&#34;: &#34;H&#34;}}, {&#34;args&#34;: [[&#34;q&#34;, [3]]], &#34;op&#34;: {&#34;type&#34;: &#34;SX&#34;}}, {&#34;args&#34;: [[&#34;q&#34;, [3]], [&#34;q&#34;, [2]]], &#34;op&#34;: {&#34;type&#34;: &#34;CX&#34;}}, {&#34;args&#34;: [[&#34;q&#34;, [2]], [&#34;q&#34;, [1]]], &#34;op&#34;: {&#34;type&#34;: &#34;CX&#34;}}, {&#34;args&#34;: [[&#34;q&#34;, [1]], [&#34;q&#34;, [0]]], &#34;op&#34;: {&#34;type&#34;: &#34;CX&#34;}}, {&#34;args&#34;: [[&#34;q&#34;, [0]]], &#34;op&#34;: {&#34;params&#34;: [&#34;1/8&#34;], &#34;type&#34;: &#34;Rz&#34;}}, {&#34;args&#34;: [[&#34;q&#34;, [1]], [&#34;q&#34;, [0]]], &#34;op&#34;: {&#34;type&#34;: &#34;CX&#34;}}, {&#34;args&#34;: [[&#34;q&#34;, [0]]], &#34;op&#34;: {&#34;type&#34;: &#34;SXdg&#34;}}, {&#34;args&#34;: [[&#34;q&#34;, [2]], [&#34;q&#34;, [1]]], &#34;op&#34;: {&#34;type&#34;: &#34;CX&#34;}}, {&#34;args&#34;: [[&#34;q&#34;, [0]]], &#34;op&#34;: {&#34;type&#34;: &#34;H&#34;}}, {&#34;args&#34;: [[&#34;q&#34;, [1]]], &#34;op&#34;: {&#34;type&#34;: &#34;SXdg&#34;}}, {&#34;args&#34;: [[&#34;q&#34;, [3]], [&#34;q&#34;, [2]]], &#34;op&#34;: {&#34;type&#34;: &#34;CX&#34;}}, {&#34;args&#34;: [[&#34;q&#34;, [1]]], &#34;op&#34;: {&#34;type&#34;: &#34;H&#34;}}, {&#34;args&#34;: [[&#34;q&#34;, [2]]], &#34;op&#34;: {&#34;type&#34;: &#34;H&#34;}}, {&#34;args&#34;: [[&#34;q&#34;, [3]]], &#34;op&#34;: {&#34;type&#34;: &#34;SXdg&#34;}}, {&#34;args&#34;: [[&#34;q&#34;, [2]]], &#34;op&#34;: {&#34;type&#34;: &#34;H&#34;}}, {&#34;args&#34;: [[&#34;q&#34;, [3]]], &#34;op&#34;: {&#34;type&#34;: &#34;SX&#34;}}, {&#34;args&#34;: [[&#34;q&#34;, [3]], [&#34;q&#34;, [2]]], &#34;op&#34;: {&#34;type&#34;: &#34;CX&#34;}}, {&#34;args&#34;: [[&#34;q&#34;, [2]], [&#34;q&#34;, [1]]], &#34;op&#34;: {&#34;type&#34;: &#34;CX&#34;}}, {&#34;args&#34;: [[&#34;q&#34;, [1]], [&#34;q&#34;, [0]]], &#34;op&#34;: {&#34;type&#34;: &#34;CX&#34;}}, {&#34;args&#34;: [[&#34;q&#34;, [0]]], &#34;op&#34;: {&#34;params&#34;: [&#34;1/8&#34;], &#34;type&#34;: &#34;Rz&#34;}}, {&#34;args&#34;: [[&#34;q&#34;, [1]], [&#34;q&#34;, [0]]], &#34;op&#34;: {&#34;type&#34;: &#34;CX&#34;}}, {&#34;args&#34;: [[&#34;q&#34;, [0]]], &#34;op&#34;: {&#34;type&#34;: &#34;H&#34;}}, {&#34;args&#34;: [[&#34;q&#34;, [2]], [&#34;q&#34;, [1]]], &#34;op&#34;: {&#34;type&#34;: &#34;CX&#34;}}, {&#34;args&#34;: [[&#34;q&#34;, [0]]], &#34;op&#34;: {&#34;type&#34;: &#34;H&#34;}}, {&#34;args&#34;: [[&#34;q&#34;, [1]]], &#34;op&#34;: {&#34;type&#34;: &#34;H&#34;}}, {&#34;args&#34;: [[&#34;q&#34;, [3]], [&#34;q&#34;, [2]]], &#34;op&#34;: {&#34;type&#34;: &#34;CX&#34;}}, {&#34;args&#34;: [[&#34;q&#34;, [1]]], &#34;op&#34;: {&#34;type&#34;: &#34;SX&#34;}}, {&#34;args&#34;: [[&#34;q&#34;, [2]]], &#34;op&#34;: {&#34;type&#34;: &#34;H&#34;}}, {&#34;args&#34;: [[&#34;q&#34;, [3]]], &#34;op&#34;: {&#34;type&#34;: &#34;SXdg&#34;}}, {&#34;args&#34;: [[&#34;q&#34;, [2]]], &#34;op&#34;: {&#34;type&#34;: &#34;SX&#34;}}, {&#34;args&#34;: [[&#34;q&#34;, [3]]], &#34;op&#34;: {&#34;type&#34;: &#34;SX&#34;}}, {&#34;args&#34;: [[&#34;q&#34;, [3]], [&#34;q&#34;, [2]]], &#34;op&#34;: {&#34;type&#34;: &#34;CX&#34;}}, {&#34;args&#34;: [[&#34;q&#34;, [2]], [&#34;q&#34;, [1]]], &#34;op&#34;: {&#34;type&#34;: &#34;CX&#34;}}, {&#34;args&#34;: [[&#34;q&#34;, [1]], [&#34;q&#34;, [0]]], &#34;op&#34;: {&#34;type&#34;: &#34;CX&#34;}}, {&#34;args&#34;: [[&#34;q&#34;, [0]]], &#34;op&#34;: {&#34;params&#34;: [&#34;1/8&#34;], &#34;type&#34;: &#34;Rz&#34;}}, {&#34;args&#34;: [[&#34;q&#34;, [1]], [&#34;q&#34;, [0]]], &#34;op&#34;: {&#34;type&#34;: &#34;CX&#34;}}, {&#34;args&#34;: [[&#34;q&#34;, [0]]], &#34;op&#34;: {&#34;type&#34;: &#34;H&#34;}}, {&#34;args&#34;: [[&#34;q&#34;, [2]], [&#34;q&#34;, [1]]], &#34;op&#34;: {&#34;type&#34;: &#34;CX&#34;}}, {&#34;args&#34;: [[&#34;q&#34;, [0]]], &#34;op&#34;: {&#34;type&#34;: &#34;SX&#34;}}, {&#34;args&#34;: [[&#34;q&#34;, [1]]], &#34;op&#34;: {&#34;type&#34;: &#34;SXdg&#34;}}, {&#34;args&#34;: [[&#34;q&#34;, [3]], [&#34;q&#34;, [2]]], &#34;op&#34;: {&#34;type&#34;: &#34;CX&#34;}}, {&#34;args&#34;: [[&#34;q&#34;, [1]]], &#34;op&#34;: {&#34;type&#34;: &#34;H&#34;}}, {&#34;args&#34;: [[&#34;q&#34;, [2]]], &#34;op&#34;: {&#34;type&#34;: &#34;SXdg&#34;}}, {&#34;args&#34;: [[&#34;q&#34;, [3]]], &#34;op&#34;: {&#34;type&#34;: &#34;SXdg&#34;}}, {&#34;args&#34;: [[&#34;q&#34;, [2]]], &#34;op&#34;: {&#34;type&#34;: &#34;SX&#34;}}, {&#34;args&#34;: [[&#34;q&#34;, [3]]], &#34;op&#34;: {&#34;type&#34;: &#34;SX&#34;}}, {&#34;args&#34;: [[&#34;q&#34;, [3]], [&#34;q&#34;, [2]]], &#34;op&#34;: {&#34;type&#34;: &#34;CX&#34;}}, {&#34;args&#34;: [[&#34;q&#34;, [2]], [&#34;q&#34;, [1]]], &#34;op&#34;: {&#34;type&#34;: &#34;CX&#34;}}, {&#34;args&#34;: [[&#34;q&#34;, [1]], [&#34;q&#34;, [0]]], &#34;op&#34;: {&#34;type&#34;: &#34;CX&#34;}}, {&#34;args&#34;: [[&#34;q&#34;, [0]]], &#34;op&#34;: {&#34;params&#34;: [&#34;12.173672/pi&#34;], &#34;type&#34;: &#34;Rz&#34;}}, {&#34;args&#34;: [[&#34;q&#34;, [1]], [&#34;q&#34;, [0]]], &#34;op&#34;: {&#34;type&#34;: &#34;CX&#34;}}, {&#34;args&#34;: [[&#34;q&#34;, [0]]], &#34;op&#34;: {&#34;type&#34;: &#34;SXdg&#34;}}, {&#34;args&#34;: [[&#34;q&#34;, [2]], [&#34;q&#34;, [1]]], &#34;op&#34;: {&#34;type&#34;: &#34;CX&#34;}}, {&#34;args&#34;: [[&#34;q&#34;, [0]]], &#34;op&#34;: {&#34;type&#34;: &#34;H&#34;}}, {&#34;args&#34;: [[&#34;q&#34;, [1]]], &#34;op&#34;: {&#34;type&#34;: &#34;H&#34;}}, {&#34;args&#34;: [[&#34;q&#34;, [3]], [&#34;q&#34;, [2]]], &#34;op&#34;: {&#34;type&#34;: &#34;CX&#34;}}, {&#34;args&#34;: [[&#34;q&#34;, [1]]], &#34;op&#34;: {&#34;type&#34;: &#34;SX&#34;}}, {&#34;args&#34;: [[&#34;q&#34;, [2]]], &#34;op&#34;: {&#34;type&#34;: &#34;SXdg&#34;}}, {&#34;args&#34;: [[&#34;q&#34;, [3]]], &#34;op&#34;: {&#34;type&#34;: &#34;SXdg&#34;}}, {&#34;args&#34;: [[&#34;q&#34;, [2]]], &#34;op&#34;: {&#34;type&#34;: &#34;H&#34;}}, {&#34;args&#34;: [[&#34;q&#34;, [3]]], &#34;op&#34;: {&#34;type&#34;: &#34;H&#34;}}, {&#34;args&#34;: [[&#34;q&#34;, [3]], [&#34;q&#34;, [2]]], &#34;op&#34;: {&#34;type&#34;: &#34;CX&#34;}}, {&#34;args&#34;: [[&#34;q&#34;, [2]], [&#34;q&#34;, [1]]], &#34;op&#34;: {&#34;type&#34;: &#34;CX&#34;}}, {&#34;args&#34;: [[&#34;q&#34;, [1]], [&#34;q&#34;, [0]]], &#34;op&#34;: {&#34;type&#34;: &#34;CX&#34;}}, {&#34;args&#34;: [[&#34;q&#34;, [0]]], &#34;op&#34;: {&#34;params&#34;: [&#34;1/8&#34;], &#34;type&#34;: &#34;Rz&#34;}}, {&#34;args&#34;: [[&#34;q&#34;, [1]], [&#34;q&#34;, [0]]], &#34;op&#34;: {&#34;type&#34;: &#34;CX&#34;}}, {&#34;args&#34;: [[&#34;q&#34;, [0]]], &#34;op&#34;: {&#34;type&#34;: &#34;H&#34;}}, {&#34;args&#34;: [[&#34;q&#34;, [2]], [&#34;q&#34;, [1]]], &#34;op&#34;: {&#34;type&#34;: &#34;CX&#34;}}, {&#34;args&#34;: [[&#34;q&#34;, [0]]], &#34;op&#34;: {&#34;type&#34;: &#34;SX&#34;}}, {&#34;args&#34;: [[&#34;q&#34;, [1]]], &#34;op&#34;: {&#34;type&#34;: &#34;SXdg&#34;}}, {&#34;args&#34;: [[&#34;q&#34;, [3]], [&#34;q&#34;, [2]]], &#34;op&#34;: {&#34;type&#34;: &#34;CX&#34;}}, {&#34;args&#34;: [[&#34;q&#34;, [1]]], &#34;op&#34;: {&#34;type&#34;: &#34;H&#34;}}, {&#34;args&#34;: [[&#34;q&#34;, [2]]], &#34;op&#34;: {&#34;type&#34;: &#34;H&#34;}}, {&#34;args&#34;: [[&#34;q&#34;, [3]]], &#34;op&#34;: {&#34;type&#34;: &#34;H&#34;}}, {&#34;args&#34;: [[&#34;q&#34;, [2]]], &#34;op&#34;: {&#34;type&#34;: &#34;H&#34;}}, {&#34;args&#34;: [[&#34;q&#34;, [3]]], &#34;op&#34;: {&#34;type&#34;: &#34;H&#34;}}, {&#34;args&#34;: [[&#34;q&#34;, [3]], [&#34;q&#34;, [2]]], &#34;op&#34;: {&#34;type&#34;: &#34;CX&#34;}}, {&#34;args&#34;: [[&#34;q&#34;, [2]], [&#34;q&#34;, [1]]], &#34;op&#34;: {&#34;type&#34;: &#34;CX&#34;}}, {&#34;args&#34;: [[&#34;q&#34;, [1]], [&#34;q&#34;, [0]]], &#34;op&#34;: {&#34;type&#34;: &#34;CX&#34;}}, {&#34;args&#34;: [[&#34;q&#34;, [0]]], &#34;op&#34;: {&#34;params&#34;: [&#34;12.173672/pi&#34;], &#34;type&#34;: &#34;Rz&#34;}}, {&#34;args&#34;: [[&#34;q&#34;, [1]], [&#34;q&#34;, [0]]], &#34;op&#34;: {&#34;type&#34;: &#34;CX&#34;}}, {&#34;args&#34;: [[&#34;q&#34;, [0]]], &#34;op&#34;: {&#34;type&#34;: &#34;SXdg&#34;}}, {&#34;args&#34;: [[&#34;q&#34;, [2]], [&#34;q&#34;, [1]]], &#34;op&#34;: {&#34;type&#34;: &#34;CX&#34;}}, {&#34;args&#34;: [[&#34;q&#34;, [0]]], &#34;op&#34;: {&#34;type&#34;: &#34;SX&#34;}}, {&#34;args&#34;: [[&#34;q&#34;, [1]]], &#34;op&#34;: {&#34;type&#34;: &#34;H&#34;}}, {&#34;args&#34;: [[&#34;q&#34;, [3]], [&#34;q&#34;, [2]]], &#34;op&#34;: {&#34;type&#34;: &#34;CX&#34;}}, {&#34;args&#34;: [[&#34;q&#34;, [1]]], &#34;op&#34;: {&#34;type&#34;: &#34;SX&#34;}}, {&#34;args&#34;: [[&#34;q&#34;, [2]]], &#34;op&#34;: {&#34;type&#34;: &#34;H&#34;}}, {&#34;args&#34;: [[&#34;q&#34;, [3]]], &#34;op&#34;: {&#34;type&#34;: &#34;H&#34;}}, {&#34;args&#34;: [[&#34;q&#34;, [2]]], &#34;op&#34;: {&#34;type&#34;: &#34;SX&#34;}}, {&#34;args&#34;: [[&#34;q&#34;, [3]]], &#34;op&#34;: {&#34;type&#34;: &#34;H&#34;}}, {&#34;args&#34;: [[&#34;q&#34;, [3]], [&#34;q&#34;, [2]]], &#34;op&#34;: {&#34;type&#34;: &#34;CX&#34;}}, {&#34;args&#34;: [[&#34;q&#34;, [2]], [&#34;q&#34;, [1]]], &#34;op&#34;: {&#34;type&#34;: &#34;CX&#34;}}, {&#34;args&#34;: [[&#34;q&#34;, [1]], [&#34;q&#34;, [0]]], &#34;op&#34;: {&#34;type&#34;: &#34;CX&#34;}}, {&#34;args&#34;: [[&#34;q&#34;, [0]]], &#34;op&#34;: {&#34;params&#34;: [&#34;12.173672/pi&#34;], &#34;type&#34;: &#34;Rz&#34;}}, {&#34;args&#34;: [[&#34;q&#34;, [1]], [&#34;q&#34;, [0]]], &#34;op&#34;: {&#34;type&#34;: &#34;CX&#34;}}, {&#34;args&#34;: [[&#34;q&#34;, [0]]], &#34;op&#34;: {&#34;type&#34;: &#34;SXdg&#34;}}, {&#34;args&#34;: [[&#34;q&#34;, [2]], [&#34;q&#34;, [1]]], &#34;op&#34;: {&#34;type&#34;: &#34;CX&#34;}}, {&#34;args&#34;: [[&#34;q&#34;, [0]]], &#34;op&#34;: {&#34;type&#34;: &#34;H&#34;}}, {&#34;args&#34;: [[&#34;q&#34;, [1]]], &#34;op&#34;: {&#34;type&#34;: &#34;SXdg&#34;}}, {&#34;args&#34;: [[&#34;q&#34;, [3]], [&#34;q&#34;, [2]]], &#34;op&#34;: {&#34;type&#34;: &#34;CX&#34;}}, {&#34;args&#34;: [[&#34;q&#34;, [1]]], &#34;op&#34;: {&#34;type&#34;: &#34;H&#34;}}, {&#34;args&#34;: [[&#34;q&#34;, [2]]], &#34;op&#34;: {&#34;type&#34;: &#34;SXdg&#34;}}, {&#34;args&#34;: [[&#34;q&#34;, [3]]], &#34;op&#34;: {&#34;type&#34;: &#34;H&#34;}}, {&#34;args&#34;: [[&#34;q&#34;, [2]]], &#34;op&#34;: {&#34;type&#34;: &#34;SX&#34;}}, {&#34;args&#34;: [[&#34;q&#34;, [3]]], &#34;op&#34;: {&#34;type&#34;: &#34;H&#34;}}, {&#34;args&#34;: [[&#34;q&#34;, [3]], [&#34;q&#34;, [2]]], &#34;op&#34;: {&#34;type&#34;: &#34;CX&#34;}}, {&#34;args&#34;: [[&#34;q&#34;, [2]], [&#34;q&#34;, [1]]], &#34;op&#34;: {&#34;type&#34;: &#34;CX&#34;}}, {&#34;args&#34;: [[&#34;q&#34;, [1]], [&#34;q&#34;, [0]]], &#34;op&#34;: {&#34;type&#34;: &#34;CX&#34;}}, {&#34;args&#34;: [[&#34;q&#34;, [0]]], &#34;op&#34;: {&#34;params&#34;: [&#34;12.173672/pi&#34;], &#34;type&#34;: &#34;Rz&#34;}}, {&#34;args&#34;: [[&#34;q&#34;, [1]], [&#34;q&#34;, [0]]], &#34;op&#34;: {&#34;type&#34;: &#34;CX&#34;}}, {&#34;args&#34;: [[&#34;q&#34;, [0]]], &#34;op&#34;: {&#34;type&#34;: &#34;H&#34;}}, {&#34;args&#34;: [[&#34;q&#34;, [2]], [&#34;q&#34;, [1]]], &#34;op&#34;: {&#34;type&#34;: &#34;CX&#34;}}, {&#34;args&#34;: [[&#34;q&#34;, [1]]], &#34;op&#34;: {&#34;type&#34;: &#34;H&#34;}}, {&#34;args&#34;: [[&#34;q&#34;, [3]], [&#34;q&#34;, [2]]], &#34;op&#34;: {&#34;type&#34;: &#34;CX&#34;}}, {&#34;args&#34;: [[&#34;q&#34;, [2]]], &#34;op&#34;: {&#34;type&#34;: &#34;SXdg&#34;}}, {&#34;args&#34;: [[&#34;q&#34;, [3]]], &#34;op&#34;: {&#34;type&#34;: &#34;H&#34;}}], &#34;created_qubits&#34;: [], &#34;discarded_qubits&#34;: [], &#34;implicit_permutation&#34;: [[[&#34;q&#34;, [0]], [&#34;q&#34;, [0]]], [[&#34;q&#34;, [1]], [&#34;q&#34;, [1]]], [[&#34;q&#34;, [2]], [&#34;q&#34;, [2]]], [[&#34;q&#34;, [3]], [&#34;q&#34;, [3]]]], &#34;phase&#34;: &#34;0.0&#34;, &#34;qubits&#34;: [[&#34;q&#34;, [0]], [&#34;q&#34;, [1]], [&#34;q&#34;, [2]], [&#34;q&#34;, [3]]]}&lt;/div&gt;\n",
       "        &lt;/div&gt;\n",
       "        &lt;circuit-display-container :circuit-element-str=&#34;&#39;#circuit-json-to-display&#39;&#34;&gt;&lt;/circuit-display-container&gt;\n",
       "    &lt;/div&gt;\n",
       "    &lt;script type=&#34;application/javascript&#34;&gt;\n",
       "      const circuitRendererUid = &#34;f03515b6-337c-40d8-8811-efdf0675cc58&#34;;\n",
       "\n",
       "      // Script to initialise the circuit renderer app\n",
       "\n",
       "const { createApp } = Vue;\n",
       "const circuitDisplayContainer = window[&#34;pytket-circuit-renderer&#34;].default;\n",
       "// Init variables to be shared between circuit display instances\n",
       "if (typeof window.pytketCircuitDisplays === &#34;undefined&#34;) {\n",
       "    window.pytketCircuitDisplays = {};\n",
       "}\n",
       "// Create the root Vue component\n",
       "const app = createApp({\n",
       "    delimiters: [&#39;[[#&#39;, &#39;#]]&#39;],\n",
       "    components: { circuitDisplayContainer },\n",
       "})\n",
       "app.config.unwrapInjectedRef = true;\n",
       "app.mount(&#34;#circuit-display-vue-container-&#34;+circuitRendererUid);\n",
       "window.pytketCircuitDisplays[circuitRendererUid] = app;\n",
       "    &lt;/script&gt;\n",
       "&lt;/body&gt;\n",
       "&lt;/html&gt;\n",
       "\"\n",
       "        width=\"100%\" height=\"200px\"\n",
       "        style=\"border: none; outline: none; resize: vertical; overflow: auto\"></iframe>\n",
       "\n"
      ],
      "text/plain": [
       "<IPython.core.display.HTML object>"
      ]
     },
     "metadata": {},
     "output_type": "display_data"
    },
    {
     "name": "stdout",
     "output_type": "stream",
     "text": [
      "Total gate count = 150\n",
      "#2 qubit gates = 56\n"
     ]
    }
   ],
   "source": [
    "jw_chem_circ = circuit_from_qasm(\"H2JordanWignerMapper.qasm\")\n",
    "render_circuit_jupyter(jw_chem_circ)\n",
    "\n",
    "print(\"Total gate count =\", jw_chem_circ.n_gates)\n",
    "print(\"#2 qubit gates =\", jw_chem_circ.n_2qb_gates())"
   ]
  },
  {
   "cell_type": "code",
   "execution_count": 30,
   "id": "0965899f-5698-4813-bf67-652e5131e6dc",
   "metadata": {
    "tags": []
   },
   "outputs": [
    {
     "data": {
      "text/html": [
       "\n",
       "\n",
       "\n",
       "\n",
       "\n",
       "\n",
       "<iframe srcdoc=\"\n",
       "&lt;!DOCTYPE html&gt;\n",
       "&lt;html lang=&#34;en&#34;&gt;\n",
       "&lt;head&gt;\n",
       "    &lt;meta charset=&#34;UTF-8&#34;&gt;\n",
       "    &lt;!-- Download Vue 3--&gt;\n",
       "&lt;script type=&#34;application/javascript&#34; src=&#34;https://cdn.jsdelivr.net/npm/vue@3&#34;&gt;&lt;/script&gt;\n",
       "&lt;!-- Download Circuit Renderer with styles --&gt;\n",
       "&lt;script type=&#34;application/javascript&#34; src=&#34;https://unpkg.com/pytket-circuit-renderer@0.5/dist/pytket-circuit-renderer.umd.js&#34;&gt;&lt;/script&gt;\n",
       "&lt;link rel=&#34;stylesheet&#34; href=&#34;https://unpkg.com/pytket-circuit-renderer@0.5/dist/pytket-circuit-renderer.css&#34;&gt;\n",
       "&lt;/head&gt;\n",
       "&lt;body&gt;\n",
       "    &lt;div id=&#34;circuit-display-vue-container-e61927f4-25c8-434f-8d83-6ada21d14988&#34; class=&#34;pytket-circuit-display-container&#34;&gt;\n",
       "        &lt;div style=&#34;display: none&#34;&gt;\n",
       "            &lt;div id=&#34;circuit-json-to-display&#34;&gt;{&#34;bits&#34;: [], &#34;commands&#34;: [{&#34;args&#34;: [[&#34;q&#34;, [0]]], &#34;op&#34;: {&#34;params&#34;: [&#34;3/2&#34;, &#34;-1/2&#34;, &#34;0&#34;], &#34;type&#34;: &#34;TK1&#34;}}, {&#34;args&#34;: [[&#34;q&#34;, [1]]], &#34;op&#34;: {&#34;params&#34;: [&#34;0&#34;, &#34;1&#34;, &#34;-1&#34;], &#34;type&#34;: &#34;TK1&#34;}}, {&#34;args&#34;: [[&#34;q&#34;, [2]]], &#34;op&#34;: {&#34;params&#34;: [&#34;0&#34;, &#34;1&#34;, &#34;-1&#34;], &#34;type&#34;: &#34;TK1&#34;}}, {&#34;args&#34;: [[&#34;q&#34;, [3]]], &#34;op&#34;: {&#34;params&#34;: [&#34;0&#34;, &#34;1&#34;, &#34;-1&#34;], &#34;type&#34;: &#34;TK1&#34;}}, {&#34;args&#34;: [[&#34;q&#34;, [3]], [&#34;q&#34;, [2]]], &#34;op&#34;: {&#34;type&#34;: &#34;CX&#34;}}, {&#34;args&#34;: [[&#34;q&#34;, [2]]], &#34;op&#34;: {&#34;params&#34;: [&#34;0&#34;, &#34;0&#34;, &#34;1/2&#34;], &#34;type&#34;: &#34;TK1&#34;}}, {&#34;args&#34;: [[&#34;q&#34;, [3]]], &#34;op&#34;: {&#34;params&#34;: [&#34;1/2&#34;, &#34;1/2&#34;, &#34;0&#34;], &#34;type&#34;: &#34;TK1&#34;}}, {&#34;args&#34;: [[&#34;q&#34;, [3]], [&#34;q&#34;, [0]]], &#34;op&#34;: {&#34;type&#34;: &#34;CX&#34;}}, {&#34;args&#34;: [[&#34;q&#34;, [0]]], &#34;op&#34;: {&#34;params&#34;: [&#34;0&#34;, &#34;0&#34;, &#34;1/2&#34;], &#34;type&#34;: &#34;TK1&#34;}}, {&#34;args&#34;: [[&#34;q&#34;, [3]]], &#34;op&#34;: {&#34;params&#34;: [&#34;0&#34;, &#34;1/2&#34;, &#34;0&#34;], &#34;type&#34;: &#34;TK1&#34;}}, {&#34;args&#34;: [[&#34;q&#34;, [0]], [&#34;q&#34;, [1]]], &#34;op&#34;: {&#34;type&#34;: &#34;CX&#34;}}, {&#34;args&#34;: [[&#34;q&#34;, [0]]], &#34;op&#34;: {&#34;params&#34;: [&#34;0&#34;, &#34;-0.625&#34;, &#34;0&#34;], &#34;type&#34;: &#34;TK1&#34;}}, {&#34;args&#34;: [[&#34;q&#34;, [1]]], &#34;op&#34;: {&#34;params&#34;: [&#34;1/2&#34;, &#34;1.375&#34;, &#34;1/2&#34;], &#34;type&#34;: &#34;TK1&#34;}}, {&#34;args&#34;: [[&#34;q&#34;, [0]], [&#34;q&#34;, [1]]], &#34;op&#34;: {&#34;type&#34;: &#34;CX&#34;}}, {&#34;args&#34;: [[&#34;q&#34;, [0]]], &#34;op&#34;: {&#34;params&#34;: [&#34;1/2&#34;, &#34;1/2&#34;, &#34;0&#34;], &#34;type&#34;: &#34;TK1&#34;}}, {&#34;args&#34;: [[&#34;q&#34;, [1]]], &#34;op&#34;: {&#34;params&#34;: [&#34;0&#34;, &#34;0&#34;, &#34;1/2&#34;], &#34;type&#34;: &#34;TK1&#34;}}, {&#34;args&#34;: [[&#34;q&#34;, [1]], [&#34;q&#34;, [3]]], &#34;op&#34;: {&#34;type&#34;: &#34;CX&#34;}}, {&#34;args&#34;: [[&#34;q&#34;, [1]]], &#34;op&#34;: {&#34;params&#34;: [&#34;1/2&#34;, &#34;1/2&#34;, &#34;0&#34;], &#34;type&#34;: &#34;TK1&#34;}}, {&#34;args&#34;: [[&#34;q&#34;, [1]], [&#34;q&#34;, [0]]], &#34;op&#34;: {&#34;type&#34;: &#34;CX&#34;}}, {&#34;args&#34;: [[&#34;q&#34;, [0]]], &#34;op&#34;: {&#34;params&#34;: [&#34;1/2&#34;, &#34;-1.8750001487588&#34;, &#34;-1/2&#34;], &#34;type&#34;: &#34;TK1&#34;}}, {&#34;args&#34;: [[&#34;q&#34;, [1]]], &#34;op&#34;: {&#34;params&#34;: [&#34;1/2&#34;, &#34;-0.125&#34;, &#34;-1/2&#34;], &#34;type&#34;: &#34;TK1&#34;}}, {&#34;args&#34;: [[&#34;q&#34;, [1]], [&#34;q&#34;, [0]]], &#34;op&#34;: {&#34;type&#34;: &#34;CX&#34;}}, {&#34;args&#34;: [[&#34;q&#34;, [3]], [&#34;q&#34;, [1]]], &#34;op&#34;: {&#34;type&#34;: &#34;CX&#34;}}, {&#34;args&#34;: [[&#34;q&#34;, [2]], [&#34;q&#34;, [3]]], &#34;op&#34;: {&#34;type&#34;: &#34;CX&#34;}}, {&#34;args&#34;: [[&#34;q&#34;, [3]], [&#34;q&#34;, [1]]], &#34;op&#34;: {&#34;type&#34;: &#34;CX&#34;}}, {&#34;args&#34;: [[&#34;q&#34;, [2]]], &#34;op&#34;: {&#34;params&#34;: [&#34;0&#34;, &#34;1/2&#34;, &#34;0&#34;], &#34;type&#34;: &#34;TK1&#34;}}, {&#34;args&#34;: [[&#34;q&#34;, [1]], [&#34;q&#34;, [0]]], &#34;op&#34;: {&#34;type&#34;: &#34;CX&#34;}}, {&#34;args&#34;: [[&#34;q&#34;, [3]]], &#34;op&#34;: {&#34;params&#34;: [&#34;0&#34;, &#34;1/2&#34;, &#34;0&#34;], &#34;type&#34;: &#34;TK1&#34;}}, {&#34;args&#34;: [[&#34;q&#34;, [0]]], &#34;op&#34;: {&#34;params&#34;: [&#34;-2 + 12.173672*pi**(-1)&#34;, &#34;-0.5&#34;, &#34;0&#34;], &#34;type&#34;: &#34;TK1&#34;}}, {&#34;args&#34;: [[&#34;q&#34;, [1]]], &#34;op&#34;: {&#34;params&#34;: [&#34;0&#34;, &#34;-0.875&#34;, &#34;1/2&#34;], &#34;type&#34;: &#34;TK1&#34;}}, {&#34;args&#34;: [[&#34;q&#34;, [1]], [&#34;q&#34;, [0]]], &#34;op&#34;: {&#34;type&#34;: &#34;CX&#34;}}, {&#34;args&#34;: [[&#34;q&#34;, [1]]], &#34;op&#34;: {&#34;params&#34;: [&#34;0&#34;, &#34;1/2&#34;, &#34;0&#34;], &#34;type&#34;: &#34;TK1&#34;}}, {&#34;args&#34;: [[&#34;q&#34;, [1]], [&#34;q&#34;, [3]]], &#34;op&#34;: {&#34;type&#34;: &#34;CX&#34;}}, {&#34;args&#34;: [[&#34;q&#34;, [1]]], &#34;op&#34;: {&#34;params&#34;: [&#34;1/2&#34;, &#34;1/2&#34;, &#34;0&#34;], &#34;type&#34;: &#34;TK1&#34;}}, {&#34;args&#34;: [[&#34;q&#34;, [1]], [&#34;q&#34;, [0]]], &#34;op&#34;: {&#34;type&#34;: &#34;CX&#34;}}, {&#34;args&#34;: [[&#34;q&#34;, [0]]], &#34;op&#34;: {&#34;params&#34;: [&#34;1/2&#34;, &#34;-0.5&#34;, &#34;-2.5 + 12.173672*pi**(-1)&#34;], &#34;type&#34;: &#34;TK1&#34;}}, {&#34;args&#34;: [[&#34;q&#34;, [1]]], &#34;op&#34;: {&#34;params&#34;: [&#34;1.3750001487588&#34;, &#34;0.5&#34;, &#34;0&#34;], &#34;type&#34;: &#34;TK1&#34;}}, {&#34;args&#34;: [[&#34;q&#34;, [0]], [&#34;q&#34;, [1]]], &#34;op&#34;: {&#34;type&#34;: &#34;CX&#34;}}, {&#34;args&#34;: [[&#34;q&#34;, [0]]], &#34;op&#34;: {&#34;params&#34;: [&#34;1/2&#34;, &#34;1/2&#34;, &#34;0&#34;], &#34;type&#34;: &#34;TK1&#34;}}, {&#34;args&#34;: [[&#34;q&#34;, [1]]], &#34;op&#34;: {&#34;params&#34;: [&#34;0&#34;, &#34;0&#34;, &#34;1/2&#34;], &#34;type&#34;: &#34;TK1&#34;}}, {&#34;args&#34;: [[&#34;q&#34;, [3]], [&#34;q&#34;, [1]]], &#34;op&#34;: {&#34;type&#34;: &#34;CX&#34;}}, {&#34;args&#34;: [[&#34;q&#34;, [1]]], &#34;op&#34;: {&#34;params&#34;: [&#34;1/2&#34;, &#34;1/2&#34;, &#34;1/2&#34;], &#34;type&#34;: &#34;TK1&#34;}}, {&#34;args&#34;: [[&#34;q&#34;, [3]]], &#34;op&#34;: {&#34;params&#34;: [&#34;0&#34;, &#34;1/2&#34;, &#34;0&#34;], &#34;type&#34;: &#34;TK1&#34;}}, {&#34;args&#34;: [[&#34;q&#34;, [2]], [&#34;q&#34;, [3]]], &#34;op&#34;: {&#34;type&#34;: &#34;CX&#34;}}, {&#34;args&#34;: [[&#34;q&#34;, [2]]], &#34;op&#34;: {&#34;params&#34;: [&#34;1/2&#34;, &#34;1/2&#34;, &#34;0&#34;], &#34;type&#34;: &#34;TK1&#34;}}, {&#34;args&#34;: [[&#34;q&#34;, [3]]], &#34;op&#34;: {&#34;params&#34;: [&#34;1/2&#34;, &#34;1/2&#34;, &#34;1/2&#34;], &#34;type&#34;: &#34;TK1&#34;}}], &#34;created_qubits&#34;: [], &#34;discarded_qubits&#34;: [], &#34;implicit_permutation&#34;: [[[&#34;q&#34;, [0]], [&#34;q&#34;, [0]]], [[&#34;q&#34;, [1]], [&#34;q&#34;, [1]]], [[&#34;q&#34;, [2]], [&#34;q&#34;, [3]]], [[&#34;q&#34;, [3]], [&#34;q&#34;, [2]]]], &#34;phase&#34;: &#34;1.5&#34;, &#34;qubits&#34;: [[&#34;q&#34;, [0]], [&#34;q&#34;, [1]], [&#34;q&#34;, [2]], [&#34;q&#34;, [3]]]}&lt;/div&gt;\n",
       "        &lt;/div&gt;\n",
       "        &lt;circuit-display-container :circuit-element-str=&#34;&#39;#circuit-json-to-display&#39;&#34;&gt;&lt;/circuit-display-container&gt;\n",
       "    &lt;/div&gt;\n",
       "    &lt;script type=&#34;application/javascript&#34;&gt;\n",
       "      const circuitRendererUid = &#34;e61927f4-25c8-434f-8d83-6ada21d14988&#34;;\n",
       "\n",
       "      // Script to initialise the circuit renderer app\n",
       "\n",
       "const { createApp } = Vue;\n",
       "const circuitDisplayContainer = window[&#34;pytket-circuit-renderer&#34;].default;\n",
       "// Init variables to be shared between circuit display instances\n",
       "if (typeof window.pytketCircuitDisplays === &#34;undefined&#34;) {\n",
       "    window.pytketCircuitDisplays = {};\n",
       "}\n",
       "// Create the root Vue component\n",
       "const app = createApp({\n",
       "    delimiters: [&#39;[[#&#39;, &#39;#]]&#39;],\n",
       "    components: { circuitDisplayContainer },\n",
       "})\n",
       "app.config.unwrapInjectedRef = true;\n",
       "app.mount(&#34;#circuit-display-vue-container-&#34;+circuitRendererUid);\n",
       "window.pytketCircuitDisplays[circuitRendererUid] = app;\n",
       "    &lt;/script&gt;\n",
       "&lt;/body&gt;\n",
       "&lt;/html&gt;\n",
       "\"\n",
       "        width=\"100%\" height=\"200px\"\n",
       "        style=\"border: none; outline: none; resize: vertical; overflow: auto\"></iframe>\n",
       "\n"
      ],
      "text/plain": [
       "<IPython.core.display.HTML object>"
      ]
     },
     "metadata": {},
     "output_type": "display_data"
    },
    {
     "name": "stdout",
     "output_type": "stream",
     "text": [
      "Total gate count = 46\n",
      "#2 qubit gates = 17\n"
     ]
    }
   ],
   "source": [
    "from pytket.passes import FullPeepholeOptimise\n",
    "\n",
    "FullPeepholeOptimise().apply(jw_chem_circ)\n",
    "\n",
    "render_circuit_jupyter(jw_chem_circ)\n",
    "print(\"Total gate count =\", jw_chem_circ.n_gates)\n",
    "print(\"#2 qubit gates =\", jw_chem_circ.n_2qb_gates())"
   ]
  },
  {
   "cell_type": "code",
   "execution_count": 31,
   "id": "2524798e-472c-4314-9fb3-f3e42864db79",
   "metadata": {
    "tags": []
   },
   "outputs": [
    {
     "data": {
      "text/plain": [
       "True"
      ]
     },
     "execution_count": 31,
     "metadata": {},
     "output_type": "execute_result"
    }
   ],
   "source": [
    "from pytket.passes import auto_rebase_pass\n",
    "\n",
    "ibm_gateset = {OpType.X, OpType.SX, OpType.Rz, OpType.CX}\n",
    "ibm_rebase = auto_rebase_pass(ibm_gateset)\n",
    "\n",
    "ibm_rebase.apply(jw_chem_circ)"
   ]
  },
  {
   "cell_type": "markdown",
   "id": "e4f843f4-a76c-4007-b111-d2abec865233",
   "metadata": {},
   "source": [
    "The `auto_rebase_pass` works well if converting to a well known gateset i.e. one used by a hardware provider like IBM.\n",
    "\n",
    "Rebases to other univeral sets of 1q and 2q gates can be accomplished with `RebaseCustom`."
   ]
  },
  {
   "cell_type": "markdown",
   "id": "c17a9bd0",
   "metadata": {
    "slideshow": {
     "slide_type": "subslide"
    }
   },
   "source": [
    "### Working with Qiskit, Cirq and other libraries\n",
    "\n",
    "* TKET supports easy conversion to and from qiskit circuits\n",
    "* Also supported for (Cirq, pennylane, pyquil and Q# through the extensions)\n",
    "* **Benefit:** Allows TKET compilation features to be used in conjunction with other tools "
   ]
  },
  {
   "cell_type": "code",
   "execution_count": 32,
   "id": "be3d7188-7c2c-41c0-8f9a-8bb0046f992a",
   "metadata": {
    "slideshow": {
     "slide_type": "fragment"
    },
    "tags": []
   },
   "outputs": [
    {
     "data": {
      "image/png": "[encoded data removed]",
      "text/plain": [
       "<Figure size 956.385x284.278 with 1 Axes>"
      ]
     },
     "execution_count": 32,
     "metadata": {},
     "output_type": "execute_result"
    }
   ],
   "source": [
    "from pytket.extensions.qiskit import tk_to_qiskit #, qiskit_to_tk\n",
    "\n",
    "qiskit_qc = tk_to_qiskit(qft_circ) \n",
    "# use qiskit_to_tk for conversion to TKET\n",
    "\n",
    "qiskit_qc.draw('mpl', fold=-1)"
   ]
  },
  {
   "cell_type": "markdown",
   "id": "a4c464e5-00fa-4ad6-93ca-a0c201328956",
   "metadata": {},
   "source": [
    "Lets convert the QFT circuit we built earlier to a Cirq circuit"
   ]
  },
  {
   "cell_type": "code",
   "execution_count": 33,
   "id": "bf983c4b-3125-4983-bf76-5dd83bd9f181",
   "metadata": {
    "tags": []
   },
   "outputs": [
    {
     "name": "stdout",
     "output_type": "stream",
     "text": [
      "                  ┌───────┐\n",
      "0: ───H───@────────@──────────────────────×───\n",
      "          │        │                      │\n",
      "1: ───────@^0.5────┼─────H────@───────────┼───\n",
      "                   │          │           │\n",
      "2: ────────────────@^0.25─────@^0.5───H───×───\n",
      "                  └───────┘\n"
     ]
    }
   ],
   "source": [
    "from pytket.extensions.cirq import tk_to_cirq\n",
    "\n",
    "cirq_qc = tk_to_cirq(qft_circ)\n",
    "print(cirq_qc)"
   ]
  },
  {
   "cell_type": "markdown",
   "id": "7888deab-1ffb-47a6-b2e3-37f8c7a55a29",
   "metadata": {},
   "source": [
    "## Summary - What have we learned?\n",
    "\n",
    "* Overview of TKET and the challenges of running quantum algorithms\n",
    "* Constructing circuits using the primitives available in pytket\n",
    "* Running basic simulations of quantum circuits\n",
    "* How to target different quantum devices with pytket\n",
    "* Optimising circuits \n",
    "* Using qiskit alongside other quantum SDKs\n",
    "\n",
    "\n",
    "Install using the command \n",
    "\n",
    "\n",
    "<p><center> <code> pip install pytket </code> </center>\n",
    "\n",
    "Useful links\n",
    "* [API docs](https://cqcl.github.io/tket/pytket/api/)\n",
    "* [Notebook examples](https://github.com/CQCL/pytket/tree/main/examples)\n",
    "* [User Manual](https://cqcl.github.io/pytket/manual/manual_intro.html)\n",
    "\n",
    "Visit the TKET reposiotry -> https://github.com/CQCL/tket \n",
    "\n",
    "Open source  contributions welcome! :) \n",
    "\n",
    "\n",
    "## Any Questions?\n",
    "\n"
   ]
  }
 ],
 "metadata": {
  "celltoolbar": "Slideshow",
  "kernelspec": {
   "display_name": "Python 3 (ipykernel)",
   "language": "python",
   "name": "python3"
  },
  "language_info": {
   "codemirror_mode": {
    "name": "ipython",
    "version": 3
   },
   "file_extension": ".py",
   "mimetype": "text/x-python",
   "name": "python",
   "nbconvert_exporter": "python",
   "pygments_lexer": "ipython3",
   "version": "3.10.6"
  }
 },
 "nbformat": 4,
 "nbformat_minor": 5
}
