{
 "cells": [
  {
   "cell_type": "code",
   "execution_count": 1,
   "id": "26c233d0-5553-4886-8d9e-1c8c5fb011b5",
   "metadata": {},
   "outputs": [],
   "source": [
    "from pytket import Circuit, OpType\n",
    "import numpy as np\n",
    "\n",
    "\n",
    "def _string_to_indices(bitstring: str) -> list:\n",
    "    \"\"\"\n",
    "    Helper function: Given an input bitstring returns a list of qubit indices\n",
    "    on which to apply X gates in step 1.\n",
    "    \"\"\"\n",
    "    index_list = []\n",
    "\n",
    "    for count, bit in enumerate(bitstring):\n",
    "        if bit == \"0\":\n",
    "            index_list.append(count)\n",
    "\n",
    "    return index_list"
   ]
  },
  {
   "cell_type": "code",
   "execution_count": 2,
   "id": "2f604f86-bfac-416b-b79d-2922f6c6fb4c",
   "metadata": {},
   "outputs": [],
   "source": [
    "def grover_oracle_circuit(bitstring: str) -> Circuit:\n",
    "    \"\"\"\n",
    "    Builds a circuit which performs the grover oracle. Takes a bitstring representation\n",
    "    of a basis state as input and produces the circuit for marking the basis state in the superposition.\n",
    "    \"\"\"\n",
    "    n_qubits = len(bitstring)\n",
    "    circ = Circuit(n_qubits)\n",
    "\n",
    "    x_indices = _string_to_indices(\n",
    "        bitstring\n",
    "    )  # List of indices where we apply a Pauli X gate\n",
    "\n",
    "    for j in x_indices:  # First layer of Pauli gates\n",
    "        circ.X(j)\n",
    "\n",
    "    circ.add_gate(OpType.CnZ, list(range(n_qubits)))\n",
    "\n",
    "    for k in x_indices:  # Second layer of Pauli gates\n",
    "        circ.X(k)\n",
    "\n",
    "    return circ"
   ]
  },
  {
   "cell_type": "code",
   "execution_count": 3,
   "id": "0f41b7fd-868e-4a6c-b00d-ead9c692527e",
   "metadata": {},
   "outputs": [],
   "source": [
    "def grover_diffusion_circuit(n_qubits: int) -> Circuit:\n",
    "    \"\"\"\n",
    "    Constructs a circuit that returns the Grover diffusion operator for a given number of qubits.\n",
    "    \"\"\"\n",
    "\n",
    "    circ = Circuit(n_qubits)\n",
    "\n",
    "    for j in range(n_qubits):\n",
    "        circ.H(j)\n",
    "        circ.X(j)\n",
    "\n",
    "    circ.add_gate(OpType.CnZ, list(range(n_qubits)))\n",
    "\n",
    "    for k in range(n_qubits):\n",
    "        circ.X(k)\n",
    "        circ.H(k)\n",
    "\n",
    "    return circ"
   ]
  },
  {
   "cell_type": "code",
   "execution_count": 4,
   "id": "6925acb2-4108-4f1e-9650-8623391bb674",
   "metadata": {},
   "outputs": [],
   "source": [
    "def build_grover_circuit(bitstring: str, n_iters: int) -> Circuit:\n",
    "    \"\"\"\n",
    "    Constructs a Grover's circuit for a specified computational basis state and number of iterations.\n",
    "    \"\"\"\n",
    "    n_qubits = len(bitstring)\n",
    "    circ = Circuit(n_qubits)\n",
    "\n",
    "    # prepare uniform superposition\n",
    "    for j in range(n_qubits):\n",
    "        circ.H(j)\n",
    "\n",
    "    # repeat the marking and diffusion steps n_iters times\n",
    "    for k in range(n_iters):\n",
    "        circ.append(grover_oracle_circuit(bitstring))\n",
    "        circ.append(grover_diffusion_circuit(n_qubits))\n",
    "\n",
    "    # measure all qubits\n",
    "    circ.measure_all()\n",
    "\n",
    "    return circ"
   ]
  },
  {
   "cell_type": "code",
   "execution_count": 5,
   "id": "79265675-488e-4b51-94a6-56159844bf69",
   "metadata": {},
   "outputs": [
    {
     "name": "stdout",
     "output_type": "stream",
     "text": [
      "The optimal number of Grover iterations is 3.\n"
     ]
    }
   ],
   "source": [
    "# experiment parameters\n",
    "binary_string = \"10011\"\n",
    "n_shots = 1000\n",
    "n_iters = 3\n",
    "\n",
    "grover_circuit_exp = build_grover_circuit(binary_string, n_iters=n_iters)\n",
    "\n",
    "\n",
    "# calculate optimal number of iterations for a given problem size\n",
    "def optimial_iteration_number(n_qubits: int, m_solutions=1):\n",
    "    \"\"\"\n",
    "    Returns the theoretically optimal number of Grover iterations given the\n",
    "    size of the problem and the number of solutions.\n",
    "    \"\"\"\n",
    "    N = 2**n_qubits\n",
    "    ans = np.floor(np.pi / 4 * np.sqrt(N / m_solutions) - 1 / 2)\n",
    "    return int(ans)\n",
    "\n",
    "\n",
    "n_qubits = len(binary_string)\n",
    "opt = optimial_iteration_number(n_qubits)\n",
    "print(f\"The optimal number of Grover iterations is {opt}.\")"
   ]
  },
  {
   "cell_type": "code",
   "execution_count": 6,
   "id": "35a555fb-9ded-4ea7-af26-6fe5b5a2eb49",
   "metadata": {},
   "outputs": [
    {
     "name": "stdout",
     "output_type": "stream",
     "text": [
      "Number of quantum gates = 468.\n",
      "Number of CX gates = 210.\n"
     ]
    }
   ],
   "source": [
    "from pytket.extensions.qiskit import AerBackend\n",
    "\n",
    "backend = AerBackend()  # initalise noiseless Aer simulator\n",
    "\n",
    "compiled_circ = backend.get_compiled_circuit(grover_circuit_exp)\n",
    "print(f\"Number of quantum gates = {compiled_circ.n_gates}.\")\n",
    "print(f\"Number of CX gates = {compiled_circ.depth_by_type(OpType.CX)}.\")\n",
    "\n",
    "\n",
    "handle = backend.process_circuit(compiled_circ, n_shots=n_shots)\n",
    "grover_result = backend.get_result(handle)"
   ]
  },
  {
   "cell_type": "code",
   "execution_count": 8,
   "id": "efd4937a-23ba-4a92-9575-6e78f3952181",
   "metadata": {},
   "outputs": [
    {
     "data": {
      "image/png": "[encoded data removed]",
      "text/plain": [
       "<Figure size 640x480 with 1 Axes>"
      ]
     },
     "metadata": {},
     "output_type": "display_data"
    },
    {
     "name": "stdout",
     "output_type": "stream",
     "text": [
      "Counter({(1, 0, 0, 1, 1): 883, (0, 0, 0, 0, 0): 11, (0, 0, 0, 1, 1): 8, (1, 1, 1, 1, 1): 7, (1, 0, 1, 0, 1): 6, (0, 0, 1, 0, 0): 5, (0, 1, 0, 1, 1): 5, (1, 0, 0, 0, 0): 5, (1, 1, 1, 0, 0): 5, (0, 0, 0, 0, 1): 4, (0, 0, 1, 0, 1): 4, (0, 1, 0, 1, 0): 4, (0, 1, 1, 0, 0): 4, (1, 0, 1, 1, 1): 4, (1, 1, 0, 0, 0): 4, (1, 1, 0, 1, 1): 4, (1, 1, 1, 1, 0): 4, (0, 0, 0, 1, 0): 3, (0, 0, 1, 1, 0): 3, (0, 1, 0, 0, 1): 3, (0, 1, 1, 1, 1): 3, (1, 0, 0, 1, 0): 3, (1, 0, 1, 1, 0): 3, (1, 1, 1, 0, 1): 3, (0, 0, 1, 1, 1): 2, (0, 1, 1, 0, 1): 2, (0, 1, 1, 1, 0): 2, (1, 0, 1, 0, 0): 2, (0, 1, 0, 0, 0): 1, (1, 0, 0, 0, 1): 1, (1, 1, 0, 0, 1): 1, (1, 1, 0, 1, 0): 1})\n"
     ]
    }
   ],
   "source": [
    "from plotting import plot_results\n",
    "\n",
    "plot_results(grover_result, dark_mode=True, y_limit=1000)\n",
    "print(grover_result.get_counts())"
   ]
  },
  {
   "cell_type": "code",
   "execution_count": null,
   "id": "aa158157-bed0-4509-8d48-956ac47bacfe",
   "metadata": {},
   "outputs": [],
   "source": []
  }
 ],
 "metadata": {
  "kernelspec": {
   "display_name": "Python 3 (ipykernel)",
   "language": "python",
   "name": "python3"
  },
  "language_info": {
   "codemirror_mode": {
    "name": "ipython",
    "version": 3
   },
   "file_extension": ".py",
   "mimetype": "text/x-python",
   "name": "python",
   "nbconvert_exporter": "python",
   "pygments_lexer": "ipython3",
   "version": "3.10.6"
  }
 },
 "nbformat": 4,
 "nbformat_minor": 5
}
